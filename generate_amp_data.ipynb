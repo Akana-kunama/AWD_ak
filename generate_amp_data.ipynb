{
 "cells": [
  {
   "cell_type": "code",
   "execution_count": 5,
   "metadata": {},
   "outputs": [],
   "source": [
    "import json \n",
    "import os\n",
    "import subprocess"
   ]
  },
  {
   "cell_type": "code",
   "execution_count": 6,
   "metadata": {},
   "outputs": [],
   "source": [
    "gait_speeds = {\"slow\": 0.05,\n",
    "                \"medium\": 0.1,\n",
    "                \"fast\": 0.2}\n",
    "\n",
    "presets_dir = \"awd/data/assets/go_bdx/placo_presets\"\n",
    "gait_motions = [\"standing\", \"forward\", \"backward\", \"left\", \"right\", \"ang_left\", \"ang_right\"]"
   ]
  },
  {
   "cell_type": "code",
   "execution_count": 7,
   "metadata": {},
   "outputs": [
    {
     "name": "stderr",
     "output_type": "stream",
     "text": [
      "<frozen importlib._bootstrap>:219: RuntimeWarning: to-Python converter for std::vector<std::__cxx11::basic_string<char, std::char_traits<char>, std::allocator<char> >, std::allocator<std::__cxx11::basic_string<char, std::char_traits<char>, std::allocator<char> > > > already registered; second conversion method ignored.\n",
      "<frozen importlib._bootstrap>:219: RuntimeWarning: to-Python converter for std::vector<double, std::allocator<double> > already registered; second conversion method ignored.\n",
      "<frozen importlib._bootstrap>:219: RuntimeWarning: to-Python converter for std::vector<int, std::allocator<int> > already registered; second conversion method ignored.\n"
     ]
    },
    {
     "name": "stdout",
     "output_type": "stream",
     "text": [
      "gait_parameters {'dx': 0.0, 'dy': 0.0, 'dtheta': 0.0, 'duration': 5, 'hardware': True, 'trunk_mode': True, 'double_support_ratio': 0.2, 'startend_double_support_ratio': 1.5, 'planned_timesteps': 48, 'replan_timesteps': 10, 'walk_com_height': 0.26, 'walk_foot_height': 0.025, 'walk_trunk_pitch': -8, 'walk_foot_rise_ratio': 0.1, 'single_support_duration': 0.45, 'single_support_timesteps': 10, 'foot_length': 0.16, 'feet_spacing': 0.19, 'zmp_margin': 0.0, 'foot_zmp_target_x': 0.0, 'foot_zmp_target_y': 0.0, 'walk_max_dtheta': 1.0, 'walk_max_dy': 0.1, 'walk_max_dx_forward': 0.1, 'walk_max_dx_backward': 0.1, 'joints': ['left_hip_yaw', 'left_hip_roll', 'left_hip_pitch', 'left_knee', 'left_ankle', 'neck_pitch', 'head_pitch', 'head_yaw', 'head_roll', 'left_antenna', 'right_antenna', 'right_hip_yaw', 'right_hip_roll', 'right_hip_pitch', 'right_knee', 'right_ankle'], 'joint_angles': {'head_pitch': 0, 'head_yaw': 0, 'head_roll': 0, 'neck_pitch': 0, 'left_antenna': 0, 'right_antenna': 0}}\n"
     ]
    },
    {
     "name": "stderr",
     "output_type": "stream",
     "text": [
      "WARNING: Robot has the following self collisions in neutral position:\n",
      "  -pelvis_0 collides with left_hip_rotation_0\n",
      "  -pelvis_0 collides with neck_0\n",
      "  -pelvis_0 collides with right_hip_rotation_0\n",
      "  -left_hip_rotation_0 collides with left_hip_0\n",
      "  -left_hip_0 collides with left_thigh_0\n",
      "  -left_thigh_0 collides with left_shin_0\n",
      "  -left_shin_0 collides with left_foot_link_0\n",
      "  -neck_0 collides with head_body_pitch_0\n",
      "  -head_body_pitch_0 collides with head_body_yaw_0\n",
      "  -head_body_yaw_0 collides with head_body_roll_0\n",
      "  -head_body_roll_0 collides with ear_left_0\n",
      "  -head_body_roll_0 collides with ear_right_0\n",
      "  -right_hip_rotation_0 collides with right_hip_0\n",
      "  -right_hip_0 collides with right_thigh_0\n",
      "  -right_thigh_0 collides with right_shin_0\n",
      "  -right_shin_0 collides with right_foot_link_0\n",
      "WARNING: Can't find head frames in the model, camera_look_at won't work\n"
     ]
    },
    {
     "name": "stdout",
     "output_type": "stream",
     "text": [
      "Placing the robot in the initial position...\n",
      "Initial position reached\n",
      "{'left_hip_yaw': -0.05367740330879669, 'left_hip_roll': -0.07683769751763382, 'left_hip_pitch': 0.18475466530836182, 'left_knee': 0.054822475383745406, 'left_ankle': 0.011178079912739903, 'neck_pitch': 0.0, 'head_pitch': 0.0, 'head_yaw': 0.0, 'head_roll': 0.0, 'left_antenna': 0.0, 'right_antenna': 0.0, 'right_hip_yaw': -0.04487233647718782, 'right_hip_roll': -0.01481880785078359, 'right_hip_pitch': -0.22322557435862797, 'right_knee': -0.14622681356518963, 'right_ankle': -0.06370793282740762}\n",
      "center_y_pos: -0.095\n",
      "recorded 600 frames\n",
      "avg lin_vel_x 0.0012\n",
      "avg lin_vel_y 0.0053\n",
      "avg yaw 0.0161\n",
      "DONE, saving standing_slow.json\n"
     ]
    },
    {
     "name": "stderr",
     "output_type": "stream",
     "text": [
      "<frozen importlib._bootstrap>:219: RuntimeWarning: to-Python converter for std::vector<std::__cxx11::basic_string<char, std::char_traits<char>, std::allocator<char> >, std::allocator<std::__cxx11::basic_string<char, std::char_traits<char>, std::allocator<char> > > > already registered; second conversion method ignored.\n",
      "<frozen importlib._bootstrap>:219: RuntimeWarning: to-Python converter for std::vector<double, std::allocator<double> > already registered; second conversion method ignored.\n",
      "<frozen importlib._bootstrap>:219: RuntimeWarning: to-Python converter for std::vector<int, std::allocator<int> > already registered; second conversion method ignored.\n"
     ]
    },
    {
     "name": "stdout",
     "output_type": "stream",
     "text": [
      "gait_parameters {'dx': 0.05, 'dy': 0.0, 'dtheta': 0.0, 'duration': 5, 'hardware': True, 'trunk_mode': True, 'double_support_ratio': 0.2, 'startend_double_support_ratio': 1.5, 'planned_timesteps': 48, 'replan_timesteps': 10, 'walk_com_height': 0.26, 'walk_foot_height': 0.025, 'walk_trunk_pitch': -8, 'walk_foot_rise_ratio': 0.1, 'single_support_duration': 0.45, 'single_support_timesteps': 10, 'foot_length': 0.16, 'feet_spacing': 0.19, 'zmp_margin': 0.0, 'foot_zmp_target_x': 0.0, 'foot_zmp_target_y': 0.0, 'walk_max_dtheta': 1.0, 'walk_max_dy': 0.1, 'walk_max_dx_forward': 0.1, 'walk_max_dx_backward': 0.1, 'joints': ['left_hip_yaw', 'left_hip_roll', 'left_hip_pitch', 'left_knee', 'left_ankle', 'neck_pitch', 'head_pitch', 'head_yaw', 'head_roll', 'left_antenna', 'right_antenna', 'right_hip_yaw', 'right_hip_roll', 'right_hip_pitch', 'right_knee', 'right_ankle'], 'joint_angles': {'head_pitch': 0, 'head_yaw': 0, 'head_roll': 0, 'neck_pitch': 0, 'left_antenna': 0, 'right_antenna': 0}}\n"
     ]
    },
    {
     "name": "stderr",
     "output_type": "stream",
     "text": [
      "WARNING: Robot has the following self collisions in neutral position:\n",
      "  -pelvis_0 collides with left_hip_rotation_0\n",
      "  -pelvis_0 collides with neck_0\n",
      "  -pelvis_0 collides with right_hip_rotation_0\n",
      "  -left_hip_rotation_0 collides with left_hip_0\n",
      "  -left_hip_0 collides with left_thigh_0\n",
      "  -left_thigh_0 collides with left_shin_0\n",
      "  -left_shin_0 collides with left_foot_link_0\n",
      "  -neck_0 collides with head_body_pitch_0\n",
      "  -head_body_pitch_0 collides with head_body_yaw_0\n",
      "  -head_body_yaw_0 collides with head_body_roll_0\n",
      "  -head_body_roll_0 collides with ear_left_0\n",
      "  -head_body_roll_0 collides with ear_right_0\n",
      "  -right_hip_rotation_0 collides with right_hip_0\n",
      "  -right_hip_0 collides with right_thigh_0\n",
      "  -right_thigh_0 collides with right_shin_0\n",
      "  -right_shin_0 collides with right_foot_link_0\n",
      "WARNING: Can't find head frames in the model, camera_look_at won't work\n"
     ]
    },
    {
     "name": "stdout",
     "output_type": "stream",
     "text": [
      "Placing the robot in the initial position...\n",
      "Initial position reached\n",
      "{'left_hip_yaw': -0.05367740330879669, 'left_hip_roll': -0.07683769751763384, 'left_hip_pitch': 0.18475466530836226, 'left_knee': 0.05482247538374608, 'left_ankle': 0.011178079912740111, 'neck_pitch': 0.0, 'head_pitch': 0.0, 'head_yaw': 0.0, 'head_roll': 0.0, 'left_antenna': 0.0, 'right_antenna': 0.0, 'right_hip_yaw': -0.044872336477187816, 'right_hip_roll': -0.014818807850783532, 'right_hip_pitch': -0.22322557435862808, 'right_knee': -0.1462268135651898, 'right_ankle': -0.06370793282740772}\n",
      "center_y_pos: -0.095\n",
      "recorded 600 frames\n",
      "avg lin_vel_x 0.082\n",
      "avg lin_vel_y 0.0112\n",
      "avg yaw 0.0161\n",
      "DONE, saving forward_slow.json\n"
     ]
    },
    {
     "name": "stderr",
     "output_type": "stream",
     "text": [
      "<frozen importlib._bootstrap>:219: RuntimeWarning: to-Python converter for std::vector<std::__cxx11::basic_string<char, std::char_traits<char>, std::allocator<char> >, std::allocator<std::__cxx11::basic_string<char, std::char_traits<char>, std::allocator<char> > > > already registered; second conversion method ignored.\n",
      "<frozen importlib._bootstrap>:219: RuntimeWarning: to-Python converter for std::vector<double, std::allocator<double> > already registered; second conversion method ignored.\n",
      "<frozen importlib._bootstrap>:219: RuntimeWarning: to-Python converter for std::vector<int, std::allocator<int> > already registered; second conversion method ignored.\n"
     ]
    },
    {
     "name": "stdout",
     "output_type": "stream",
     "text": [
      "gait_parameters {'dx': -0.05, 'dy': 0.0, 'dtheta': 0.0, 'duration': 5, 'hardware': True, 'trunk_mode': True, 'double_support_ratio': 0.2, 'startend_double_support_ratio': 1.5, 'planned_timesteps': 48, 'replan_timesteps': 10, 'walk_com_height': 0.26, 'walk_foot_height': 0.025, 'walk_trunk_pitch': -8, 'walk_foot_rise_ratio': 0.1, 'single_support_duration': 0.45, 'single_support_timesteps': 10, 'foot_length': 0.16, 'feet_spacing': 0.19, 'zmp_margin': 0.0, 'foot_zmp_target_x': 0.0, 'foot_zmp_target_y': 0.0, 'walk_max_dtheta': 1.0, 'walk_max_dy': 0.1, 'walk_max_dx_forward': 0.1, 'walk_max_dx_backward': 0.1, 'joints': ['left_hip_yaw', 'left_hip_roll', 'left_hip_pitch', 'left_knee', 'left_ankle', 'neck_pitch', 'head_pitch', 'head_yaw', 'head_roll', 'left_antenna', 'right_antenna', 'right_hip_yaw', 'right_hip_roll', 'right_hip_pitch', 'right_knee', 'right_ankle'], 'joint_angles': {'head_pitch': 0, 'head_yaw': 0, 'head_roll': 0, 'neck_pitch': 0, 'left_antenna': 0, 'right_antenna': 0}}\n"
     ]
    },
    {
     "name": "stderr",
     "output_type": "stream",
     "text": [
      "WARNING: Robot has the following self collisions in neutral position:\n",
      "  -pelvis_0 collides with left_hip_rotation_0\n",
      "  -pelvis_0 collides with neck_0\n",
      "  -pelvis_0 collides with right_hip_rotation_0\n",
      "  -left_hip_rotation_0 collides with left_hip_0\n",
      "  -left_hip_0 collides with left_thigh_0\n",
      "  -left_thigh_0 collides with left_shin_0\n",
      "  -left_shin_0 collides with left_foot_link_0\n",
      "  -neck_0 collides with head_body_pitch_0\n",
      "  -head_body_pitch_0 collides with head_body_yaw_0\n",
      "  -head_body_yaw_0 collides with head_body_roll_0\n",
      "  -head_body_roll_0 collides with ear_left_0\n",
      "  -head_body_roll_0 collides with ear_right_0\n",
      "  -right_hip_rotation_0 collides with right_hip_0\n",
      "  -right_hip_0 collides with right_thigh_0\n",
      "  -right_thigh_0 collides with right_shin_0\n",
      "  -right_shin_0 collides with right_foot_link_0\n",
      "WARNING: Can't find head frames in the model, camera_look_at won't work\n"
     ]
    },
    {
     "name": "stdout",
     "output_type": "stream",
     "text": [
      "Placing the robot in the initial position...\n",
      "Initial position reached\n",
      "{'left_hip_yaw': -0.05367740330879669, 'left_hip_roll': -0.07683769751763384, 'left_hip_pitch': 0.18475466530836226, 'left_knee': 0.05482247538374608, 'left_ankle': 0.011178079912740111, 'neck_pitch': 0.0, 'head_pitch': 0.0, 'head_yaw': 0.0, 'head_roll': 0.0, 'left_antenna': 0.0, 'right_antenna': 0.0, 'right_hip_yaw': -0.044872336477187816, 'right_hip_roll': -0.014818807850783532, 'right_hip_pitch': -0.22322557435862808, 'right_knee': -0.1462268135651898, 'right_ankle': -0.06370793282740772}\n",
      "center_y_pos: -0.095\n",
      "recorded 600 frames\n",
      "avg lin_vel_x -0.0797\n",
      "avg lin_vel_y -0.0006\n",
      "avg yaw 0.0161\n",
      "DONE, saving backward_slow.json\n"
     ]
    },
    {
     "ename": "KeyboardInterrupt",
     "evalue": "",
     "output_type": "error",
     "traceback": [
      "\u001b[0;31m---------------------------------------------------------------------------\u001b[0m",
      "\u001b[0;31mKeyboardInterrupt\u001b[0m                         Traceback (most recent call last)",
      "Cell \u001b[0;32mIn[7], line 30\u001b[0m\n\u001b[1;32m     27\u001b[0m \u001b[38;5;28;01mwith\u001b[39;00m \u001b[38;5;28mopen\u001b[39m(tmp_preset, \u001b[38;5;124m'\u001b[39m\u001b[38;5;124mw\u001b[39m\u001b[38;5;124m'\u001b[39m) \u001b[38;5;28;01mas\u001b[39;00m file:\n\u001b[1;32m     28\u001b[0m     json\u001b[38;5;241m.\u001b[39mdump(data, file, indent\u001b[38;5;241m=\u001b[39m\u001b[38;5;241m4\u001b[39m)\n\u001b[0;32m---> 30\u001b[0m \u001b[43msubprocess\u001b[49m\u001b[38;5;241;43m.\u001b[39;49m\u001b[43mrun\u001b[49m\u001b[43m(\u001b[49m\u001b[43m[\u001b[49m\u001b[38;5;124;43m'\u001b[39;49m\u001b[38;5;124;43mpython\u001b[39;49m\u001b[38;5;124;43m'\u001b[39;49m\u001b[43m,\u001b[49m\u001b[43m \u001b[49m\u001b[38;5;124;43m\"\u001b[39;49m\u001b[38;5;124;43mgait_generator.py\u001b[39;49m\u001b[38;5;124;43m\"\u001b[39;49m\u001b[43m,\u001b[49m\u001b[43m \u001b[49m\u001b[38;5;124;43m\"\u001b[39;49m\u001b[38;5;124;43m--preset\u001b[39;49m\u001b[38;5;124;43m\"\u001b[39;49m\u001b[43m,\u001b[49m\u001b[43m \u001b[49m\u001b[38;5;124;43mf\u001b[39;49m\u001b[38;5;124;43m\"\u001b[39;49m\u001b[38;5;132;43;01m{\u001b[39;49;00m\u001b[43mtmp_preset\u001b[49m\u001b[38;5;132;43;01m}\u001b[39;49;00m\u001b[38;5;124;43m\"\u001b[39;49m\u001b[43m,\u001b[49m\u001b[43m \u001b[49m\u001b[38;5;124;43m\"\u001b[39;49m\u001b[38;5;124;43m--name\u001b[39;49m\u001b[38;5;124;43m\"\u001b[39;49m\u001b[43m,\u001b[49m\u001b[43m \u001b[49m\u001b[38;5;124;43mf\u001b[39;49m\u001b[38;5;124;43m\"\u001b[39;49m\u001b[38;5;132;43;01m{\u001b[39;49;00m\u001b[43mgait_motion\u001b[49m\u001b[38;5;132;43;01m}\u001b[39;49;00m\u001b[38;5;124;43m_\u001b[39;49m\u001b[38;5;132;43;01m{\u001b[39;49;00m\u001b[43mgait_speed\u001b[49m\u001b[38;5;132;43;01m}\u001b[39;49;00m\u001b[38;5;124;43m\"\u001b[39;49m\u001b[43m]\u001b[49m\u001b[43m)\u001b[49m\n",
      "File \u001b[0;32m/usr/lib/python3.8/subprocess.py:495\u001b[0m, in \u001b[0;36mrun\u001b[0;34m(input, capture_output, timeout, check, *popenargs, **kwargs)\u001b[0m\n\u001b[1;32m    493\u001b[0m \u001b[38;5;28;01mwith\u001b[39;00m Popen(\u001b[38;5;241m*\u001b[39mpopenargs, \u001b[38;5;241m*\u001b[39m\u001b[38;5;241m*\u001b[39mkwargs) \u001b[38;5;28;01mas\u001b[39;00m process:\n\u001b[1;32m    494\u001b[0m     \u001b[38;5;28;01mtry\u001b[39;00m:\n\u001b[0;32m--> 495\u001b[0m         stdout, stderr \u001b[38;5;241m=\u001b[39m \u001b[43mprocess\u001b[49m\u001b[38;5;241;43m.\u001b[39;49m\u001b[43mcommunicate\u001b[49m\u001b[43m(\u001b[49m\u001b[38;5;28;43minput\u001b[39;49m\u001b[43m,\u001b[49m\u001b[43m \u001b[49m\u001b[43mtimeout\u001b[49m\u001b[38;5;241;43m=\u001b[39;49m\u001b[43mtimeout\u001b[49m\u001b[43m)\u001b[49m\n\u001b[1;32m    496\u001b[0m     \u001b[38;5;28;01mexcept\u001b[39;00m TimeoutExpired \u001b[38;5;28;01mas\u001b[39;00m exc:\n\u001b[1;32m    497\u001b[0m         process\u001b[38;5;241m.\u001b[39mkill()\n",
      "File \u001b[0;32m/usr/lib/python3.8/subprocess.py:1020\u001b[0m, in \u001b[0;36mPopen.communicate\u001b[0;34m(self, input, timeout)\u001b[0m\n\u001b[1;32m   1018\u001b[0m         stderr \u001b[38;5;241m=\u001b[39m \u001b[38;5;28mself\u001b[39m\u001b[38;5;241m.\u001b[39mstderr\u001b[38;5;241m.\u001b[39mread()\n\u001b[1;32m   1019\u001b[0m         \u001b[38;5;28mself\u001b[39m\u001b[38;5;241m.\u001b[39mstderr\u001b[38;5;241m.\u001b[39mclose()\n\u001b[0;32m-> 1020\u001b[0m     \u001b[38;5;28;43mself\u001b[39;49m\u001b[38;5;241;43m.\u001b[39;49m\u001b[43mwait\u001b[49m\u001b[43m(\u001b[49m\u001b[43m)\u001b[49m\n\u001b[1;32m   1021\u001b[0m \u001b[38;5;28;01melse\u001b[39;00m:\n\u001b[1;32m   1022\u001b[0m     \u001b[38;5;28;01mif\u001b[39;00m timeout \u001b[38;5;129;01mis\u001b[39;00m \u001b[38;5;129;01mnot\u001b[39;00m \u001b[38;5;28;01mNone\u001b[39;00m:\n",
      "File \u001b[0;32m/usr/lib/python3.8/subprocess.py:1083\u001b[0m, in \u001b[0;36mPopen.wait\u001b[0;34m(self, timeout)\u001b[0m\n\u001b[1;32m   1081\u001b[0m     endtime \u001b[38;5;241m=\u001b[39m _time() \u001b[38;5;241m+\u001b[39m timeout\n\u001b[1;32m   1082\u001b[0m \u001b[38;5;28;01mtry\u001b[39;00m:\n\u001b[0;32m-> 1083\u001b[0m     \u001b[38;5;28;01mreturn\u001b[39;00m \u001b[38;5;28;43mself\u001b[39;49m\u001b[38;5;241;43m.\u001b[39;49m\u001b[43m_wait\u001b[49m\u001b[43m(\u001b[49m\u001b[43mtimeout\u001b[49m\u001b[38;5;241;43m=\u001b[39;49m\u001b[43mtimeout\u001b[49m\u001b[43m)\u001b[49m\n\u001b[1;32m   1084\u001b[0m \u001b[38;5;28;01mexcept\u001b[39;00m \u001b[38;5;167;01mKeyboardInterrupt\u001b[39;00m:\n\u001b[1;32m   1085\u001b[0m     \u001b[38;5;66;03m# https://bugs.python.org/issue25942\u001b[39;00m\n\u001b[1;32m   1086\u001b[0m     \u001b[38;5;66;03m# The first keyboard interrupt waits briefly for the child to\u001b[39;00m\n\u001b[1;32m   1087\u001b[0m     \u001b[38;5;66;03m# exit under the common assumption that it also received the ^C\u001b[39;00m\n\u001b[1;32m   1088\u001b[0m     \u001b[38;5;66;03m# generated SIGINT and will exit rapidly.\u001b[39;00m\n\u001b[1;32m   1089\u001b[0m     \u001b[38;5;28;01mif\u001b[39;00m timeout \u001b[38;5;129;01mis\u001b[39;00m \u001b[38;5;129;01mnot\u001b[39;00m \u001b[38;5;28;01mNone\u001b[39;00m:\n",
      "File \u001b[0;32m/usr/lib/python3.8/subprocess.py:1806\u001b[0m, in \u001b[0;36mPopen._wait\u001b[0;34m(self, timeout)\u001b[0m\n\u001b[1;32m   1804\u001b[0m \u001b[38;5;28;01mif\u001b[39;00m \u001b[38;5;28mself\u001b[39m\u001b[38;5;241m.\u001b[39mreturncode \u001b[38;5;129;01mis\u001b[39;00m \u001b[38;5;129;01mnot\u001b[39;00m \u001b[38;5;28;01mNone\u001b[39;00m:\n\u001b[1;32m   1805\u001b[0m     \u001b[38;5;28;01mbreak\u001b[39;00m  \u001b[38;5;66;03m# Another thread waited.\u001b[39;00m\n\u001b[0;32m-> 1806\u001b[0m (pid, sts) \u001b[38;5;241m=\u001b[39m \u001b[38;5;28;43mself\u001b[39;49m\u001b[38;5;241;43m.\u001b[39;49m\u001b[43m_try_wait\u001b[49m\u001b[43m(\u001b[49m\u001b[38;5;241;43m0\u001b[39;49m\u001b[43m)\u001b[49m\n\u001b[1;32m   1807\u001b[0m \u001b[38;5;66;03m# Check the pid and loop as waitpid has been known to\u001b[39;00m\n\u001b[1;32m   1808\u001b[0m \u001b[38;5;66;03m# return 0 even without WNOHANG in odd situations.\u001b[39;00m\n\u001b[1;32m   1809\u001b[0m \u001b[38;5;66;03m# http://bugs.python.org/issue14396.\u001b[39;00m\n\u001b[1;32m   1810\u001b[0m \u001b[38;5;28;01mif\u001b[39;00m pid \u001b[38;5;241m==\u001b[39m \u001b[38;5;28mself\u001b[39m\u001b[38;5;241m.\u001b[39mpid:\n",
      "File \u001b[0;32m/usr/lib/python3.8/subprocess.py:1764\u001b[0m, in \u001b[0;36mPopen._try_wait\u001b[0;34m(self, wait_flags)\u001b[0m\n\u001b[1;32m   1762\u001b[0m \u001b[38;5;250m\u001b[39m\u001b[38;5;124;03m\"\"\"All callers to this function MUST hold self._waitpid_lock.\"\"\"\u001b[39;00m\n\u001b[1;32m   1763\u001b[0m \u001b[38;5;28;01mtry\u001b[39;00m:\n\u001b[0;32m-> 1764\u001b[0m     (pid, sts) \u001b[38;5;241m=\u001b[39m \u001b[43mos\u001b[49m\u001b[38;5;241;43m.\u001b[39;49m\u001b[43mwaitpid\u001b[49m\u001b[43m(\u001b[49m\u001b[38;5;28;43mself\u001b[39;49m\u001b[38;5;241;43m.\u001b[39;49m\u001b[43mpid\u001b[49m\u001b[43m,\u001b[49m\u001b[43m \u001b[49m\u001b[43mwait_flags\u001b[49m\u001b[43m)\u001b[49m\n\u001b[1;32m   1765\u001b[0m \u001b[38;5;28;01mexcept\u001b[39;00m \u001b[38;5;167;01mChildProcessError\u001b[39;00m:\n\u001b[1;32m   1766\u001b[0m     \u001b[38;5;66;03m# This happens if SIGCLD is set to be ignored or waiting\u001b[39;00m\n\u001b[1;32m   1767\u001b[0m     \u001b[38;5;66;03m# for child processes has otherwise been disabled for our\u001b[39;00m\n\u001b[1;32m   1768\u001b[0m     \u001b[38;5;66;03m# process.  This child is dead, we can't get the status.\u001b[39;00m\n\u001b[1;32m   1769\u001b[0m     pid \u001b[38;5;241m=\u001b[39m \u001b[38;5;28mself\u001b[39m\u001b[38;5;241m.\u001b[39mpid\n",
      "\u001b[0;31mKeyboardInterrupt\u001b[0m: "
     ]
    }
   ],
   "source": [
    "tmp_dir = os.path.join(presets_dir, \"tmp\")\n",
    "os.makedirs(tmp_dir, exist_ok=True)\n",
    "\n",
    "for gait_speed in gait_speeds:\n",
    "    gait_speed_val = gait_speeds[gait_speed]\n",
    "    \n",
    "    for gait_motion in gait_motions:\n",
    "        with open(os.path.join(presets_dir, f\"{gait_speed}.json\")) as file:\n",
    "            data = json.load(file)\n",
    "                \n",
    "        if gait_speed == \"slow\" and gait_motion == \"standing\":\n",
    "            pass\n",
    "        elif gait_motion == \"forward\":\n",
    "            data[\"dx\"] = gait_speed_val\n",
    "        elif gait_motion == \"backward\":\n",
    "            data[\"dx\"] = -gait_speed_val\n",
    "        elif gait_motion == \"left\":\n",
    "            data[\"dy\"] = gait_speed_val\n",
    "        elif gait_motion == \"right\":\n",
    "            data[\"dy\"] = -gait_speed_val\n",
    "        elif gait_motion == \"ang_left\":\n",
    "            data[\"dtheta\"] = gait_speed_val\n",
    "        elif gait_motion == \"ang_right\":\n",
    "            data[\"dtheta\"] = -gait_speed_val\n",
    "\n",
    "        tmp_preset = os.path.join(tmp_dir, \"preset.json\")\n",
    "        with open(tmp_preset, 'w') as file:\n",
    "            json.dump(data, file, indent=4)\n",
    "\n",
    "        subprocess.run(['python', \"gait_generator.py\", \"--preset\", f\"{tmp_preset}\", \"--name\", f\"{gait_motion}_{gait_speed}\"])"
   ]
  },
  {
   "cell_type": "code",
   "execution_count": null,
   "metadata": {},
   "outputs": [],
   "source": []
  }
 ],
 "metadata": {
  "kernelspec": {
   "display_name": "Python 3",
   "language": "python",
   "name": "python3"
  },
  "language_info": {
   "codemirror_mode": {
    "name": "ipython",
    "version": 3
   },
   "file_extension": ".py",
   "mimetype": "text/x-python",
   "name": "python",
   "nbconvert_exporter": "python",
   "pygments_lexer": "ipython3",
   "version": "3.8.10"
  }
 },
 "nbformat": 4,
 "nbformat_minor": 2
}
