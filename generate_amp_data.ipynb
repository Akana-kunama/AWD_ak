{
 "cells": [
  {
   "cell_type": "code",
   "execution_count": 14,
   "metadata": {},
   "outputs": [],
   "source": [
    "import json \n",
    "import os\n",
    "import subprocess"
   ]
  },
  {
   "cell_type": "code",
   "execution_count": 15,
   "metadata": {},
   "outputs": [],
   "source": [
    "gait_speeds = {\"slow\": 0.05,\n",
    "                \"medium\": 0.1,\n",
    "                \"fast\": 0.2}\n",
    "\n",
    "presets_dir = \"awd/data/assets/go_bdx/placo_presets\"\n",
    "gait_motions = [\"forward\", \"backward\", \"left\", \"right\", \"ang_left\", \"ang_right\"]"
   ]
  },
  {
   "cell_type": "code",
   "execution_count": null,
   "metadata": {},
   "outputs": [
    {
     "name": "stderr",
     "output_type": "stream",
     "text": [
      "<frozen importlib._bootstrap>:219: RuntimeWarning: to-Python converter for std::vector<std::__cxx11::basic_string<char, std::char_traits<char>, std::allocator<char> >, std::allocator<std::__cxx11::basic_string<char, std::char_traits<char>, std::allocator<char> > > > already registered; second conversion method ignored.\n",
      "<frozen importlib._bootstrap>:219: RuntimeWarning: to-Python converter for std::vector<double, std::allocator<double> > already registered; second conversion method ignored.\n",
      "<frozen importlib._bootstrap>:219: RuntimeWarning: to-Python converter for std::vector<int, std::allocator<int> > already registered; second conversion method ignored.\n"
     ]
    },
    {
     "name": "stdout",
     "output_type": "stream",
     "text": [
      "gait_parameters {'dx': 0.0, 'dy': 0.0, 'dtheta': 0.0, 'duration': 5, 'hardware': True, 'trunk_mode': True, 'double_support_ratio': 0.2, 'startend_double_support_ratio': 1.5, 'planned_timesteps': 48, 'replan_timesteps': 10, 'walk_com_height': 0.26, 'walk_foot_height': 0.025, 'walk_trunk_pitch': 6, 'walk_foot_rise_ratio': 0.1, 'single_support_duration': 0.25, 'single_support_timesteps': 10, 'foot_length': 0.16, 'feet_spacing': 0.19, 'zmp_margin': 0.0, 'foot_zmp_target_x': 0.0, 'foot_zmp_target_y': 0.0, 'walk_max_dtheta': 1.0, 'walk_max_dy': 0.1, 'walk_max_dx_forward': 0.1, 'walk_max_dx_backward': 0.1, 'joints': ['left_hip_yaw', 'left_hip_roll', 'left_hip_pitch', 'left_knee', 'left_ankle', 'neck_pitch', 'head_pitch', 'head_yaw', 'head_roll', 'left_antenna', 'right_antenna', 'right_hip_yaw', 'right_hip_roll', 'right_hip_pitch', 'right_knee', 'right_ankle'], 'joint_angles': {'head_pitch': 0, 'head_yaw': 0, 'head_roll': 0, 'neck_pitch': 0, 'left_antenna': 0, 'right_antenna': 0}}\n"
     ]
    },
    {
     "name": "stderr",
     "output_type": "stream",
     "text": [
      "WARNING: Robot has the following self collisions in neutral position:\n",
      "  -pelvis_0 collides with left_hip_rotation_0\n",
      "  -pelvis_0 collides with neck_0\n",
      "  -pelvis_0 collides with right_hip_rotation_0\n",
      "  -left_hip_rotation_0 collides with left_hip_0\n",
      "  -left_hip_0 collides with left_thigh_0\n",
      "  -left_thigh_0 collides with left_shin_0\n",
      "  -left_shin_0 collides with left_foot_link_0\n",
      "  -neck_0 collides with head_body_pitch_0\n",
      "  -head_body_pitch_0 collides with head_body_yaw_0\n",
      "  -head_body_yaw_0 collides with head_body_roll_0\n",
      "  -head_body_roll_0 collides with ear_left_0\n",
      "  -head_body_roll_0 collides with ear_right_0\n",
      "  -right_hip_rotation_0 collides with right_hip_0\n",
      "  -right_hip_0 collides with right_thigh_0\n",
      "  -right_thigh_0 collides with right_shin_0\n",
      "  -right_shin_0 collides with right_foot_link_0\n",
      "WARNING: Can't find head frames in the model, camera_look_at won't work\n"
     ]
    },
    {
     "name": "stdout",
     "output_type": "stream",
     "text": [
      "Placing the robot in the initial position...\n",
      "Initial position reached\n",
      "{'left_hip_yaw': -0.04698557882467102, 'left_hip_roll': -0.07705313755643177, 'left_hip_pitch': -0.011694935942325032, 'left_knee': 0.08853622760664168, 'left_ankle': -0.0034283280761262616, 'neck_pitch': 0.0, 'head_pitch': 0.0, 'head_yaw': 0.0, 'head_roll': 0.0, 'left_antenna': 0.0, 'right_antenna': 0.0, 'right_hip_yaw': -0.05347064322233008, 'right_hip_roll': -0.014681260217830821, 'right_hip_pitch': -0.013911263115788554, 'right_knee': -0.16717212273305734, 'right_ankle': -0.049898861138749945}\n",
      "center_y_pos: -0.095\n",
      "recorded 600 frames\n",
      "avg lin_vel_x 0.0004\n",
      "avg lin_vel_y -0.0003\n",
      "avg yaw 0.0306\n",
      "DONE, saving forward_slow.json\n"
     ]
    },
    {
     "name": "stderr",
     "output_type": "stream",
     "text": [
      "<frozen importlib._bootstrap>:219: RuntimeWarning: to-Python converter for std::vector<std::__cxx11::basic_string<char, std::char_traits<char>, std::allocator<char> >, std::allocator<std::__cxx11::basic_string<char, std::char_traits<char>, std::allocator<char> > > > already registered; second conversion method ignored.\n",
      "<frozen importlib._bootstrap>:219: RuntimeWarning: to-Python converter for std::vector<double, std::allocator<double> > already registered; second conversion method ignored.\n",
      "<frozen importlib._bootstrap>:219: RuntimeWarning: to-Python converter for std::vector<int, std::allocator<int> > already registered; second conversion method ignored.\n"
     ]
    },
    {
     "name": "stdout",
     "output_type": "stream",
     "text": [
      "gait_parameters {'dx': 0.0, 'dy': 0.0, 'dtheta': 0.0, 'duration': 5, 'hardware': True, 'trunk_mode': True, 'double_support_ratio': 0.2, 'startend_double_support_ratio': 1.5, 'planned_timesteps': 48, 'replan_timesteps': 10, 'walk_com_height': 0.26, 'walk_foot_height': 0.025, 'walk_trunk_pitch': 6, 'walk_foot_rise_ratio': 0.1, 'single_support_duration': 0.25, 'single_support_timesteps': 10, 'foot_length': 0.16, 'feet_spacing': 0.19, 'zmp_margin': 0.0, 'foot_zmp_target_x': 0.0, 'foot_zmp_target_y': 0.0, 'walk_max_dtheta': 1.0, 'walk_max_dy': 0.1, 'walk_max_dx_forward': 0.1, 'walk_max_dx_backward': 0.1, 'joints': ['left_hip_yaw', 'left_hip_roll', 'left_hip_pitch', 'left_knee', 'left_ankle', 'neck_pitch', 'head_pitch', 'head_yaw', 'head_roll', 'left_antenna', 'right_antenna', 'right_hip_yaw', 'right_hip_roll', 'right_hip_pitch', 'right_knee', 'right_ankle'], 'joint_angles': {'head_pitch': 0, 'head_yaw': 0, 'head_roll': 0, 'neck_pitch': 0, 'left_antenna': 0, 'right_antenna': 0}}\n"
     ]
    },
    {
     "name": "stderr",
     "output_type": "stream",
     "text": [
      "WARNING: Robot has the following self collisions in neutral position:\n",
      "  -pelvis_0 collides with left_hip_rotation_0\n",
      "  -pelvis_0 collides with neck_0\n",
      "  -pelvis_0 collides with right_hip_rotation_0\n",
      "  -left_hip_rotation_0 collides with left_hip_0\n",
      "  -left_hip_0 collides with left_thigh_0\n",
      "  -left_thigh_0 collides with left_shin_0\n",
      "  -left_shin_0 collides with left_foot_link_0\n",
      "  -neck_0 collides with head_body_pitch_0\n",
      "  -head_body_pitch_0 collides with head_body_yaw_0\n",
      "  -head_body_yaw_0 collides with head_body_roll_0\n",
      "  -head_body_roll_0 collides with ear_left_0\n",
      "  -head_body_roll_0 collides with ear_right_0\n",
      "  -right_hip_rotation_0 collides with right_hip_0\n",
      "  -right_hip_0 collides with right_thigh_0\n",
      "  -right_thigh_0 collides with right_shin_0\n",
      "  -right_shin_0 collides with right_foot_link_0\n",
      "WARNING: Can't find head frames in the model, camera_look_at won't work\n"
     ]
    },
    {
     "name": "stdout",
     "output_type": "stream",
     "text": [
      "Placing the robot in the initial position...\n",
      "Initial position reached\n",
      "{'left_hip_yaw': -0.04698557882467102, 'left_hip_roll': -0.07705313755643177, 'left_hip_pitch': -0.011694935942324805, 'left_knee': 0.08853622760664202, 'left_ankle': -0.0034283280761261367, 'neck_pitch': 0.0, 'head_pitch': 0.0, 'head_yaw': 0.0, 'head_roll': 0.0, 'left_antenna': 0.0, 'right_antenna': 0.0, 'right_hip_yaw': -0.053470643222330076, 'right_hip_roll': -0.014681260217830894, 'right_hip_pitch': -0.013911263115788096, 'right_knee': -0.16717212273305668, 'right_ankle': -0.049898861138749764}\n",
      "center_y_pos: -0.095\n",
      "recorded 600 frames\n",
      "avg lin_vel_x 0.0004\n",
      "avg lin_vel_y -0.0003\n",
      "avg yaw 0.0306\n",
      "DONE, saving backward_slow.json\n"
     ]
    },
    {
     "name": "stderr",
     "output_type": "stream",
     "text": [
      "<frozen importlib._bootstrap>:219: RuntimeWarning: to-Python converter for std::vector<std::__cxx11::basic_string<char, std::char_traits<char>, std::allocator<char> >, std::allocator<std::__cxx11::basic_string<char, std::char_traits<char>, std::allocator<char> > > > already registered; second conversion method ignored.\n",
      "<frozen importlib._bootstrap>:219: RuntimeWarning: to-Python converter for std::vector<double, std::allocator<double> > already registered; second conversion method ignored.\n",
      "<frozen importlib._bootstrap>:219: RuntimeWarning: to-Python converter for std::vector<int, std::allocator<int> > already registered; second conversion method ignored.\n"
     ]
    },
    {
     "name": "stdout",
     "output_type": "stream",
     "text": [
      "gait_parameters {'dx': 0.0, 'dy': 0.0, 'dtheta': 0.0, 'duration': 5, 'hardware': True, 'trunk_mode': True, 'double_support_ratio': 0.2, 'startend_double_support_ratio': 1.5, 'planned_timesteps': 48, 'replan_timesteps': 10, 'walk_com_height': 0.26, 'walk_foot_height': 0.025, 'walk_trunk_pitch': 6, 'walk_foot_rise_ratio': 0.1, 'single_support_duration': 0.25, 'single_support_timesteps': 10, 'foot_length': 0.16, 'feet_spacing': 0.19, 'zmp_margin': 0.0, 'foot_zmp_target_x': 0.0, 'foot_zmp_target_y': 0.0, 'walk_max_dtheta': 1.0, 'walk_max_dy': 0.1, 'walk_max_dx_forward': 0.1, 'walk_max_dx_backward': 0.1, 'joints': ['left_hip_yaw', 'left_hip_roll', 'left_hip_pitch', 'left_knee', 'left_ankle', 'neck_pitch', 'head_pitch', 'head_yaw', 'head_roll', 'left_antenna', 'right_antenna', 'right_hip_yaw', 'right_hip_roll', 'right_hip_pitch', 'right_knee', 'right_ankle'], 'joint_angles': {'head_pitch': 0, 'head_yaw': 0, 'head_roll': 0, 'neck_pitch': 0, 'left_antenna': 0, 'right_antenna': 0}}\n"
     ]
    },
    {
     "name": "stderr",
     "output_type": "stream",
     "text": [
      "WARNING: Robot has the following self collisions in neutral position:\n",
      "  -pelvis_0 collides with left_hip_rotation_0\n",
      "  -pelvis_0 collides with neck_0\n",
      "  -pelvis_0 collides with right_hip_rotation_0\n",
      "  -left_hip_rotation_0 collides with left_hip_0\n",
      "  -left_hip_0 collides with left_thigh_0\n",
      "  -left_thigh_0 collides with left_shin_0\n",
      "  -left_shin_0 collides with left_foot_link_0\n",
      "  -neck_0 collides with head_body_pitch_0\n",
      "  -head_body_pitch_0 collides with head_body_yaw_0\n",
      "  -head_body_yaw_0 collides with head_body_roll_0\n",
      "  -head_body_roll_0 collides with ear_left_0\n",
      "  -head_body_roll_0 collides with ear_right_0\n",
      "  -right_hip_rotation_0 collides with right_hip_0\n",
      "  -right_hip_0 collides with right_thigh_0\n",
      "  -right_thigh_0 collides with right_shin_0\n",
      "  -right_shin_0 collides with right_foot_link_0\n",
      "WARNING: Can't find head frames in the model, camera_look_at won't work\n"
     ]
    },
    {
     "name": "stdout",
     "output_type": "stream",
     "text": [
      "Placing the robot in the initial position...\n",
      "Initial position reached\n",
      "{'left_hip_yaw': -0.04698557882467102, 'left_hip_roll': -0.07705313755643178, 'left_hip_pitch': -0.011694935942324519, 'left_knee': 0.08853622760664243, 'left_ankle': -0.0034283280761260174, 'neck_pitch': 0.0, 'head_pitch': 0.0, 'head_yaw': 0.0, 'head_roll': 0.0, 'left_antenna': 0.0, 'right_antenna': 0.0, 'right_hip_yaw': -0.05347064322233008, 'right_hip_roll': -0.014681260217830831, 'right_hip_pitch': -0.013911263115788516, 'right_knee': -0.16717212273305732, 'right_ankle': -0.04989886113874996}\n",
      "center_y_pos: -0.095\n",
      "recorded 600 frames\n",
      "avg lin_vel_x 0.0004\n",
      "avg lin_vel_y -0.0003\n",
      "avg yaw 0.0306\n",
      "DONE, saving left_slow.json\n"
     ]
    },
    {
     "name": "stderr",
     "output_type": "stream",
     "text": [
      "<frozen importlib._bootstrap>:219: RuntimeWarning: to-Python converter for std::vector<std::__cxx11::basic_string<char, std::char_traits<char>, std::allocator<char> >, std::allocator<std::__cxx11::basic_string<char, std::char_traits<char>, std::allocator<char> > > > already registered; second conversion method ignored.\n",
      "<frozen importlib._bootstrap>:219: RuntimeWarning: to-Python converter for std::vector<double, std::allocator<double> > already registered; second conversion method ignored.\n",
      "<frozen importlib._bootstrap>:219: RuntimeWarning: to-Python converter for std::vector<int, std::allocator<int> > already registered; second conversion method ignored.\n"
     ]
    },
    {
     "name": "stdout",
     "output_type": "stream",
     "text": [
      "gait_parameters {'dx': 0.0, 'dy': 0.0, 'dtheta': 0.0, 'duration': 5, 'hardware': True, 'trunk_mode': True, 'double_support_ratio': 0.2, 'startend_double_support_ratio': 1.5, 'planned_timesteps': 48, 'replan_timesteps': 10, 'walk_com_height': 0.26, 'walk_foot_height': 0.025, 'walk_trunk_pitch': 6, 'walk_foot_rise_ratio': 0.1, 'single_support_duration': 0.25, 'single_support_timesteps': 10, 'foot_length': 0.16, 'feet_spacing': 0.19, 'zmp_margin': 0.0, 'foot_zmp_target_x': 0.0, 'foot_zmp_target_y': 0.0, 'walk_max_dtheta': 1.0, 'walk_max_dy': 0.1, 'walk_max_dx_forward': 0.1, 'walk_max_dx_backward': 0.1, 'joints': ['left_hip_yaw', 'left_hip_roll', 'left_hip_pitch', 'left_knee', 'left_ankle', 'neck_pitch', 'head_pitch', 'head_yaw', 'head_roll', 'left_antenna', 'right_antenna', 'right_hip_yaw', 'right_hip_roll', 'right_hip_pitch', 'right_knee', 'right_ankle'], 'joint_angles': {'head_pitch': 0, 'head_yaw': 0, 'head_roll': 0, 'neck_pitch': 0, 'left_antenna': 0, 'right_antenna': 0}}\n"
     ]
    },
    {
     "name": "stderr",
     "output_type": "stream",
     "text": [
      "WARNING: Robot has the following self collisions in neutral position:\n",
      "  -pelvis_0 collides with left_hip_rotation_0\n",
      "  -pelvis_0 collides with neck_0\n",
      "  -pelvis_0 collides with right_hip_rotation_0\n",
      "  -left_hip_rotation_0 collides with left_hip_0\n",
      "  -left_hip_0 collides with left_thigh_0\n",
      "  -left_thigh_0 collides with left_shin_0\n",
      "  -left_shin_0 collides with left_foot_link_0\n",
      "  -neck_0 collides with head_body_pitch_0\n",
      "  -head_body_pitch_0 collides with head_body_yaw_0\n",
      "  -head_body_yaw_0 collides with head_body_roll_0\n",
      "  -head_body_roll_0 collides with ear_left_0\n",
      "  -head_body_roll_0 collides with ear_right_0\n",
      "  -right_hip_rotation_0 collides with right_hip_0\n",
      "  -right_hip_0 collides with right_thigh_0\n",
      "  -right_thigh_0 collides with right_shin_0\n",
      "  -right_shin_0 collides with right_foot_link_0\n",
      "WARNING: Can't find head frames in the model, camera_look_at won't work\n"
     ]
    },
    {
     "name": "stdout",
     "output_type": "stream",
     "text": [
      "Placing the robot in the initial position...\n",
      "Initial position reached\n",
      "{'left_hip_yaw': -0.04698557882467102, 'left_hip_roll': -0.07705313755643177, 'left_hip_pitch': -0.011694935942324805, 'left_knee': 0.08853622760664202, 'left_ankle': -0.0034283280761261367, 'neck_pitch': 0.0, 'head_pitch': 0.0, 'head_yaw': 0.0, 'head_roll': 0.0, 'left_antenna': 0.0, 'right_antenna': 0.0, 'right_hip_yaw': -0.053470643222330076, 'right_hip_roll': -0.014681260217830894, 'right_hip_pitch': -0.013911263115788096, 'right_knee': -0.16717212273305668, 'right_ankle': -0.049898861138749764}\n",
      "center_y_pos: -0.095\n",
      "recorded 600 frames\n",
      "avg lin_vel_x 0.0004\n",
      "avg lin_vel_y -0.0003\n",
      "avg yaw 0.0306\n",
      "DONE, saving right_slow.json\n"
     ]
    },
    {
     "name": "stderr",
     "output_type": "stream",
     "text": [
      "<frozen importlib._bootstrap>:219: RuntimeWarning: to-Python converter for std::vector<std::__cxx11::basic_string<char, std::char_traits<char>, std::allocator<char> >, std::allocator<std::__cxx11::basic_string<char, std::char_traits<char>, std::allocator<char> > > > already registered; second conversion method ignored.\n",
      "<frozen importlib._bootstrap>:219: RuntimeWarning: to-Python converter for std::vector<double, std::allocator<double> > already registered; second conversion method ignored.\n",
      "<frozen importlib._bootstrap>:219: RuntimeWarning: to-Python converter for std::vector<int, std::allocator<int> > already registered; second conversion method ignored.\n"
     ]
    },
    {
     "name": "stdout",
     "output_type": "stream",
     "text": [
      "gait_parameters {'dx': 0.0, 'dy': 0.0, 'dtheta': 0.0, 'duration': 5, 'hardware': True, 'trunk_mode': True, 'double_support_ratio': 0.2, 'startend_double_support_ratio': 1.5, 'planned_timesteps': 48, 'replan_timesteps': 10, 'walk_com_height': 0.26, 'walk_foot_height': 0.025, 'walk_trunk_pitch': 6, 'walk_foot_rise_ratio': 0.1, 'single_support_duration': 0.25, 'single_support_timesteps': 10, 'foot_length': 0.16, 'feet_spacing': 0.19, 'zmp_margin': 0.0, 'foot_zmp_target_x': 0.0, 'foot_zmp_target_y': 0.0, 'walk_max_dtheta': 1.0, 'walk_max_dy': 0.1, 'walk_max_dx_forward': 0.1, 'walk_max_dx_backward': 0.1, 'joints': ['left_hip_yaw', 'left_hip_roll', 'left_hip_pitch', 'left_knee', 'left_ankle', 'neck_pitch', 'head_pitch', 'head_yaw', 'head_roll', 'left_antenna', 'right_antenna', 'right_hip_yaw', 'right_hip_roll', 'right_hip_pitch', 'right_knee', 'right_ankle'], 'joint_angles': {'head_pitch': 0, 'head_yaw': 0, 'head_roll': 0, 'neck_pitch': 0, 'left_antenna': 0, 'right_antenna': 0}}\n"
     ]
    },
    {
     "name": "stderr",
     "output_type": "stream",
     "text": [
      "WARNING: Robot has the following self collisions in neutral position:\n",
      "  -pelvis_0 collides with left_hip_rotation_0\n",
      "  -pelvis_0 collides with neck_0\n",
      "  -pelvis_0 collides with right_hip_rotation_0\n",
      "  -left_hip_rotation_0 collides with left_hip_0\n",
      "  -left_hip_0 collides with left_thigh_0\n",
      "  -left_thigh_0 collides with left_shin_0\n",
      "  -left_shin_0 collides with left_foot_link_0\n",
      "  -neck_0 collides with head_body_pitch_0\n",
      "  -head_body_pitch_0 collides with head_body_yaw_0\n",
      "  -head_body_yaw_0 collides with head_body_roll_0\n",
      "  -head_body_roll_0 collides with ear_left_0\n",
      "  -head_body_roll_0 collides with ear_right_0\n",
      "  -right_hip_rotation_0 collides with right_hip_0\n",
      "  -right_hip_0 collides with right_thigh_0\n",
      "  -right_thigh_0 collides with right_shin_0\n",
      "  -right_shin_0 collides with right_foot_link_0\n",
      "WARNING: Can't find head frames in the model, camera_look_at won't work\n"
     ]
    },
    {
     "name": "stdout",
     "output_type": "stream",
     "text": [
      "Placing the robot in the initial position...\n",
      "Initial position reached\n",
      "{'left_hip_yaw': -0.04698557882467102, 'left_hip_roll': -0.07705313755643177, 'left_hip_pitch': -0.011694935942325032, 'left_knee': 0.08853622760664168, 'left_ankle': -0.0034283280761262616, 'neck_pitch': 0.0, 'head_pitch': 0.0, 'head_yaw': 0.0, 'head_roll': 0.0, 'left_antenna': 0.0, 'right_antenna': 0.0, 'right_hip_yaw': -0.05347064322233008, 'right_hip_roll': -0.014681260217830821, 'right_hip_pitch': -0.013911263115788554, 'right_knee': -0.16717212273305734, 'right_ankle': -0.049898861138749945}\n",
      "center_y_pos: -0.095\n",
      "recorded 600 frames\n",
      "avg lin_vel_x 0.0004\n",
      "avg lin_vel_y -0.0003\n",
      "avg yaw 0.0306\n",
      "DONE, saving ang_left_slow.json\n"
     ]
    },
    {
     "name": "stderr",
     "output_type": "stream",
     "text": [
      "<frozen importlib._bootstrap>:219: RuntimeWarning: to-Python converter for std::vector<std::__cxx11::basic_string<char, std::char_traits<char>, std::allocator<char> >, std::allocator<std::__cxx11::basic_string<char, std::char_traits<char>, std::allocator<char> > > > already registered; second conversion method ignored.\n",
      "<frozen importlib._bootstrap>:219: RuntimeWarning: to-Python converter for std::vector<double, std::allocator<double> > already registered; second conversion method ignored.\n",
      "<frozen importlib._bootstrap>:219: RuntimeWarning: to-Python converter for std::vector<int, std::allocator<int> > already registered; second conversion method ignored.\n"
     ]
    },
    {
     "name": "stdout",
     "output_type": "stream",
     "text": [
      "gait_parameters {'dx': 0.0, 'dy': 0.0, 'dtheta': 0.0, 'duration': 5, 'hardware': True, 'trunk_mode': True, 'double_support_ratio': 0.2, 'startend_double_support_ratio': 1.5, 'planned_timesteps': 48, 'replan_timesteps': 10, 'walk_com_height': 0.26, 'walk_foot_height': 0.025, 'walk_trunk_pitch': 6, 'walk_foot_rise_ratio': 0.1, 'single_support_duration': 0.25, 'single_support_timesteps': 10, 'foot_length': 0.16, 'feet_spacing': 0.19, 'zmp_margin': 0.0, 'foot_zmp_target_x': 0.0, 'foot_zmp_target_y': 0.0, 'walk_max_dtheta': 1.0, 'walk_max_dy': 0.1, 'walk_max_dx_forward': 0.1, 'walk_max_dx_backward': 0.1, 'joints': ['left_hip_yaw', 'left_hip_roll', 'left_hip_pitch', 'left_knee', 'left_ankle', 'neck_pitch', 'head_pitch', 'head_yaw', 'head_roll', 'left_antenna', 'right_antenna', 'right_hip_yaw', 'right_hip_roll', 'right_hip_pitch', 'right_knee', 'right_ankle'], 'joint_angles': {'head_pitch': 0, 'head_yaw': 0, 'head_roll': 0, 'neck_pitch': 0, 'left_antenna': 0, 'right_antenna': 0}}\n"
     ]
    },
    {
     "name": "stderr",
     "output_type": "stream",
     "text": [
      "WARNING: Robot has the following self collisions in neutral position:\n",
      "  -pelvis_0 collides with left_hip_rotation_0\n",
      "  -pelvis_0 collides with neck_0\n",
      "  -pelvis_0 collides with right_hip_rotation_0\n",
      "  -left_hip_rotation_0 collides with left_hip_0\n",
      "  -left_hip_0 collides with left_thigh_0\n",
      "  -left_thigh_0 collides with left_shin_0\n",
      "  -left_shin_0 collides with left_foot_link_0\n",
      "  -neck_0 collides with head_body_pitch_0\n",
      "  -head_body_pitch_0 collides with head_body_yaw_0\n",
      "  -head_body_yaw_0 collides with head_body_roll_0\n",
      "  -head_body_roll_0 collides with ear_left_0\n",
      "  -head_body_roll_0 collides with ear_right_0\n",
      "  -right_hip_rotation_0 collides with right_hip_0\n",
      "  -right_hip_0 collides with right_thigh_0\n",
      "  -right_thigh_0 collides with right_shin_0\n",
      "  -right_shin_0 collides with right_foot_link_0\n",
      "WARNING: Can't find head frames in the model, camera_look_at won't work\n"
     ]
    },
    {
     "name": "stdout",
     "output_type": "stream",
     "text": [
      "Placing the robot in the initial position...\n",
      "Initial position reached\n",
      "{'left_hip_yaw': -0.04698557882467102, 'left_hip_roll': -0.07705313755643177, 'left_hip_pitch': -0.011694935942324633, 'left_knee': 0.08853622760664229, 'left_ankle': -0.0034283280761260404, 'neck_pitch': 0.0, 'head_pitch': 0.0, 'head_yaw': 0.0, 'head_roll': 0.0, 'left_antenna': 0.0, 'right_antenna': 0.0, 'right_hip_yaw': -0.053470643222330076, 'right_hip_roll': -0.014681260217830897, 'right_hip_pitch': -0.013911263115789245, 'right_knee': -0.16717212273305848, 'right_ankle': -0.049898861138750375}\n",
      "center_y_pos: -0.095\n",
      "recorded 600 frames\n",
      "avg lin_vel_x 0.0004\n",
      "avg lin_vel_y -0.0003\n",
      "avg yaw 0.0306\n",
      "DONE, saving ang_right_slow.json\n"
     ]
    },
    {
     "name": "stderr",
     "output_type": "stream",
     "text": [
      "<frozen importlib._bootstrap>:219: RuntimeWarning: to-Python converter for std::vector<std::__cxx11::basic_string<char, std::char_traits<char>, std::allocator<char> >, std::allocator<std::__cxx11::basic_string<char, std::char_traits<char>, std::allocator<char> > > > already registered; second conversion method ignored.\n",
      "<frozen importlib._bootstrap>:219: RuntimeWarning: to-Python converter for std::vector<double, std::allocator<double> > already registered; second conversion method ignored.\n",
      "<frozen importlib._bootstrap>:219: RuntimeWarning: to-Python converter for std::vector<int, std::allocator<int> > already registered; second conversion method ignored.\n"
     ]
    },
    {
     "name": "stdout",
     "output_type": "stream",
     "text": [
      "gait_parameters {'dx': 0.0, 'dy': 0.0, 'dtheta': 0.0, 'duration': 5, 'hardware': True, 'trunk_mode': True, 'double_support_ratio': 0.2, 'startend_double_support_ratio': 1.5, 'planned_timesteps': 48, 'replan_timesteps': 10, 'walk_com_height': 0.26, 'walk_foot_height': 0.025, 'walk_trunk_pitch': 6, 'walk_foot_rise_ratio': 0.1, 'single_support_duration': 0.25, 'single_support_timesteps': 10, 'foot_length': 0.16, 'feet_spacing': 0.19, 'zmp_margin': 0.0, 'foot_zmp_target_x': 0.0, 'foot_zmp_target_y': 0.0, 'walk_max_dtheta': 1.0, 'walk_max_dy': 0.1, 'walk_max_dx_forward': 0.1, 'walk_max_dx_backward': 0.1, 'joints': ['left_hip_yaw', 'left_hip_roll', 'left_hip_pitch', 'left_knee', 'left_ankle', 'neck_pitch', 'head_pitch', 'head_yaw', 'head_roll', 'left_antenna', 'right_antenna', 'right_hip_yaw', 'right_hip_roll', 'right_hip_pitch', 'right_knee', 'right_ankle'], 'joint_angles': {'head_pitch': 0, 'head_yaw': 0, 'head_roll': 0, 'neck_pitch': 0, 'left_antenna': 0, 'right_antenna': 0}}\n"
     ]
    },
    {
     "name": "stderr",
     "output_type": "stream",
     "text": [
      "WARNING: Robot has the following self collisions in neutral position:\n",
      "  -pelvis_0 collides with left_hip_rotation_0\n",
      "  -pelvis_0 collides with neck_0\n",
      "  -pelvis_0 collides with right_hip_rotation_0\n",
      "  -left_hip_rotation_0 collides with left_hip_0\n",
      "  -left_hip_0 collides with left_thigh_0\n",
      "  -left_thigh_0 collides with left_shin_0\n",
      "  -left_shin_0 collides with left_foot_link_0\n",
      "  -neck_0 collides with head_body_pitch_0\n",
      "  -head_body_pitch_0 collides with head_body_yaw_0\n",
      "  -head_body_yaw_0 collides with head_body_roll_0\n",
      "  -head_body_roll_0 collides with ear_left_0\n",
      "  -head_body_roll_0 collides with ear_right_0\n",
      "  -right_hip_rotation_0 collides with right_hip_0\n",
      "  -right_hip_0 collides with right_thigh_0\n",
      "  -right_thigh_0 collides with right_shin_0\n",
      "  -right_shin_0 collides with right_foot_link_0\n",
      "WARNING: Can't find head frames in the model, camera_look_at won't work\n"
     ]
    },
    {
     "name": "stdout",
     "output_type": "stream",
     "text": [
      "Placing the robot in the initial position...\n",
      "Initial position reached\n",
      "{'left_hip_yaw': -0.04698557882467102, 'left_hip_roll': -0.07705313755643177, 'left_hip_pitch': -0.011694935942324633, 'left_knee': 0.08853622760664229, 'left_ankle': -0.0034283280761260404, 'neck_pitch': 0.0, 'head_pitch': 0.0, 'head_yaw': 0.0, 'head_roll': 0.0, 'left_antenna': 0.0, 'right_antenna': 0.0, 'right_hip_yaw': -0.053470643222330076, 'right_hip_roll': -0.014681260217830897, 'right_hip_pitch': -0.013911263115789245, 'right_knee': -0.16717212273305848, 'right_ankle': -0.049898861138750375}\n",
      "center_y_pos: -0.095\n",
      "recorded 600 frames\n",
      "avg lin_vel_x 0.0004\n",
      "avg lin_vel_y -0.0003\n",
      "avg yaw 0.0306\n",
      "DONE, saving forward_medium.json\n"
     ]
    },
    {
     "name": "stderr",
     "output_type": "stream",
     "text": [
      "<frozen importlib._bootstrap>:219: RuntimeWarning: to-Python converter for std::vector<std::__cxx11::basic_string<char, std::char_traits<char>, std::allocator<char> >, std::allocator<std::__cxx11::basic_string<char, std::char_traits<char>, std::allocator<char> > > > already registered; second conversion method ignored.\n",
      "<frozen importlib._bootstrap>:219: RuntimeWarning: to-Python converter for std::vector<double, std::allocator<double> > already registered; second conversion method ignored.\n",
      "<frozen importlib._bootstrap>:219: RuntimeWarning: to-Python converter for std::vector<int, std::allocator<int> > already registered; second conversion method ignored.\n"
     ]
    },
    {
     "name": "stdout",
     "output_type": "stream",
     "text": [
      "gait_parameters {'dx': 0.0, 'dy': 0.0, 'dtheta': 0.0, 'duration': 5, 'hardware': True, 'trunk_mode': True, 'double_support_ratio': 0.2, 'startend_double_support_ratio': 1.5, 'planned_timesteps': 48, 'replan_timesteps': 10, 'walk_com_height': 0.26, 'walk_foot_height': 0.025, 'walk_trunk_pitch': 6, 'walk_foot_rise_ratio': 0.1, 'single_support_duration': 0.25, 'single_support_timesteps': 10, 'foot_length': 0.16, 'feet_spacing': 0.19, 'zmp_margin': 0.0, 'foot_zmp_target_x': 0.0, 'foot_zmp_target_y': 0.0, 'walk_max_dtheta': 1.0, 'walk_max_dy': 0.1, 'walk_max_dx_forward': 0.1, 'walk_max_dx_backward': 0.1, 'joints': ['left_hip_yaw', 'left_hip_roll', 'left_hip_pitch', 'left_knee', 'left_ankle', 'neck_pitch', 'head_pitch', 'head_yaw', 'head_roll', 'left_antenna', 'right_antenna', 'right_hip_yaw', 'right_hip_roll', 'right_hip_pitch', 'right_knee', 'right_ankle'], 'joint_angles': {'head_pitch': 0, 'head_yaw': 0, 'head_roll': 0, 'neck_pitch': 0, 'left_antenna': 0, 'right_antenna': 0}}\n"
     ]
    },
    {
     "name": "stderr",
     "output_type": "stream",
     "text": [
      "WARNING: Robot has the following self collisions in neutral position:\n",
      "  -pelvis_0 collides with left_hip_rotation_0\n",
      "  -pelvis_0 collides with neck_0\n",
      "  -pelvis_0 collides with right_hip_rotation_0\n",
      "  -left_hip_rotation_0 collides with left_hip_0\n",
      "  -left_hip_0 collides with left_thigh_0\n",
      "  -left_thigh_0 collides with left_shin_0\n",
      "  -left_shin_0 collides with left_foot_link_0\n",
      "  -neck_0 collides with head_body_pitch_0\n",
      "  -head_body_pitch_0 collides with head_body_yaw_0\n",
      "  -head_body_yaw_0 collides with head_body_roll_0\n",
      "  -head_body_roll_0 collides with ear_left_0\n",
      "  -head_body_roll_0 collides with ear_right_0\n",
      "  -right_hip_rotation_0 collides with right_hip_0\n",
      "  -right_hip_0 collides with right_thigh_0\n",
      "  -right_thigh_0 collides with right_shin_0\n",
      "  -right_shin_0 collides with right_foot_link_0\n",
      "WARNING: Can't find head frames in the model, camera_look_at won't work\n"
     ]
    },
    {
     "name": "stdout",
     "output_type": "stream",
     "text": [
      "Placing the robot in the initial position...\n",
      "Initial position reached\n",
      "{'left_hip_yaw': -0.04698557882467102, 'left_hip_roll': -0.07705313755643177, 'left_hip_pitch': -0.011694935942324633, 'left_knee': 0.08853622760664229, 'left_ankle': -0.0034283280761260404, 'neck_pitch': 0.0, 'head_pitch': 0.0, 'head_yaw': 0.0, 'head_roll': 0.0, 'left_antenna': 0.0, 'right_antenna': 0.0, 'right_hip_yaw': -0.053470643222330076, 'right_hip_roll': -0.014681260217830897, 'right_hip_pitch': -0.013911263115789245, 'right_knee': -0.16717212273305848, 'right_ankle': -0.049898861138750375}\n",
      "center_y_pos: -0.095\n",
      "recorded 600 frames\n",
      "avg lin_vel_x 0.0004\n",
      "avg lin_vel_y -0.0003\n",
      "avg yaw 0.0306\n",
      "DONE, saving backward_medium.json\n"
     ]
    },
    {
     "name": "stderr",
     "output_type": "stream",
     "text": [
      "<frozen importlib._bootstrap>:219: RuntimeWarning: to-Python converter for std::vector<std::__cxx11::basic_string<char, std::char_traits<char>, std::allocator<char> >, std::allocator<std::__cxx11::basic_string<char, std::char_traits<char>, std::allocator<char> > > > already registered; second conversion method ignored.\n",
      "<frozen importlib._bootstrap>:219: RuntimeWarning: to-Python converter for std::vector<double, std::allocator<double> > already registered; second conversion method ignored.\n",
      "<frozen importlib._bootstrap>:219: RuntimeWarning: to-Python converter for std::vector<int, std::allocator<int> > already registered; second conversion method ignored.\n"
     ]
    },
    {
     "name": "stdout",
     "output_type": "stream",
     "text": [
      "gait_parameters {'dx': 0.0, 'dy': 0.0, 'dtheta': 0.0, 'duration': 5, 'hardware': True, 'trunk_mode': True, 'double_support_ratio': 0.2, 'startend_double_support_ratio': 1.5, 'planned_timesteps': 48, 'replan_timesteps': 10, 'walk_com_height': 0.26, 'walk_foot_height': 0.025, 'walk_trunk_pitch': 6, 'walk_foot_rise_ratio': 0.1, 'single_support_duration': 0.25, 'single_support_timesteps': 10, 'foot_length': 0.16, 'feet_spacing': 0.19, 'zmp_margin': 0.0, 'foot_zmp_target_x': 0.0, 'foot_zmp_target_y': 0.0, 'walk_max_dtheta': 1.0, 'walk_max_dy': 0.1, 'walk_max_dx_forward': 0.1, 'walk_max_dx_backward': 0.1, 'joints': ['left_hip_yaw', 'left_hip_roll', 'left_hip_pitch', 'left_knee', 'left_ankle', 'neck_pitch', 'head_pitch', 'head_yaw', 'head_roll', 'left_antenna', 'right_antenna', 'right_hip_yaw', 'right_hip_roll', 'right_hip_pitch', 'right_knee', 'right_ankle'], 'joint_angles': {'head_pitch': 0, 'head_yaw': 0, 'head_roll': 0, 'neck_pitch': 0, 'left_antenna': 0, 'right_antenna': 0}}\n"
     ]
    },
    {
     "name": "stderr",
     "output_type": "stream",
     "text": [
      "WARNING: Robot has the following self collisions in neutral position:\n",
      "  -pelvis_0 collides with left_hip_rotation_0\n",
      "  -pelvis_0 collides with neck_0\n",
      "  -pelvis_0 collides with right_hip_rotation_0\n",
      "  -left_hip_rotation_0 collides with left_hip_0\n",
      "  -left_hip_0 collides with left_thigh_0\n",
      "  -left_thigh_0 collides with left_shin_0\n",
      "  -left_shin_0 collides with left_foot_link_0\n",
      "  -neck_0 collides with head_body_pitch_0\n",
      "  -head_body_pitch_0 collides with head_body_yaw_0\n",
      "  -head_body_yaw_0 collides with head_body_roll_0\n",
      "  -head_body_roll_0 collides with ear_left_0\n",
      "  -head_body_roll_0 collides with ear_right_0\n",
      "  -right_hip_rotation_0 collides with right_hip_0\n",
      "  -right_hip_0 collides with right_thigh_0\n",
      "  -right_thigh_0 collides with right_shin_0\n",
      "  -right_shin_0 collides with right_foot_link_0\n",
      "WARNING: Can't find head frames in the model, camera_look_at won't work\n"
     ]
    },
    {
     "name": "stdout",
     "output_type": "stream",
     "text": [
      "Placing the robot in the initial position...\n",
      "Initial position reached\n",
      "{'left_hip_yaw': -0.04698557882467102, 'left_hip_roll': -0.07705313755643177, 'left_hip_pitch': -0.011694935942325032, 'left_knee': 0.08853622760664168, 'left_ankle': -0.0034283280761262616, 'neck_pitch': 0.0, 'head_pitch': 0.0, 'head_yaw': 0.0, 'head_roll': 0.0, 'left_antenna': 0.0, 'right_antenna': 0.0, 'right_hip_yaw': -0.05347064322233008, 'right_hip_roll': -0.014681260217830821, 'right_hip_pitch': -0.013911263115788554, 'right_knee': -0.16717212273305734, 'right_ankle': -0.049898861138749945}\n",
      "center_y_pos: -0.095\n",
      "recorded 600 frames\n",
      "avg lin_vel_x 0.0004\n",
      "avg lin_vel_y -0.0003\n",
      "avg yaw 0.0306\n",
      "DONE, saving left_medium.json\n"
     ]
    },
    {
     "name": "stderr",
     "output_type": "stream",
     "text": [
      "<frozen importlib._bootstrap>:219: RuntimeWarning: to-Python converter for std::vector<std::__cxx11::basic_string<char, std::char_traits<char>, std::allocator<char> >, std::allocator<std::__cxx11::basic_string<char, std::char_traits<char>, std::allocator<char> > > > already registered; second conversion method ignored.\n",
      "<frozen importlib._bootstrap>:219: RuntimeWarning: to-Python converter for std::vector<double, std::allocator<double> > already registered; second conversion method ignored.\n",
      "<frozen importlib._bootstrap>:219: RuntimeWarning: to-Python converter for std::vector<int, std::allocator<int> > already registered; second conversion method ignored.\n"
     ]
    },
    {
     "name": "stdout",
     "output_type": "stream",
     "text": [
      "gait_parameters {'dx': 0.0, 'dy': 0.0, 'dtheta': 0.0, 'duration': 5, 'hardware': True, 'trunk_mode': True, 'double_support_ratio': 0.2, 'startend_double_support_ratio': 1.5, 'planned_timesteps': 48, 'replan_timesteps': 10, 'walk_com_height': 0.26, 'walk_foot_height': 0.025, 'walk_trunk_pitch': 6, 'walk_foot_rise_ratio': 0.1, 'single_support_duration': 0.25, 'single_support_timesteps': 10, 'foot_length': 0.16, 'feet_spacing': 0.19, 'zmp_margin': 0.0, 'foot_zmp_target_x': 0.0, 'foot_zmp_target_y': 0.0, 'walk_max_dtheta': 1.0, 'walk_max_dy': 0.1, 'walk_max_dx_forward': 0.1, 'walk_max_dx_backward': 0.1, 'joints': ['left_hip_yaw', 'left_hip_roll', 'left_hip_pitch', 'left_knee', 'left_ankle', 'neck_pitch', 'head_pitch', 'head_yaw', 'head_roll', 'left_antenna', 'right_antenna', 'right_hip_yaw', 'right_hip_roll', 'right_hip_pitch', 'right_knee', 'right_ankle'], 'joint_angles': {'head_pitch': 0, 'head_yaw': 0, 'head_roll': 0, 'neck_pitch': 0, 'left_antenna': 0, 'right_antenna': 0}}\n"
     ]
    },
    {
     "name": "stderr",
     "output_type": "stream",
     "text": [
      "WARNING: Robot has the following self collisions in neutral position:\n",
      "  -pelvis_0 collides with left_hip_rotation_0\n",
      "  -pelvis_0 collides with neck_0\n",
      "  -pelvis_0 collides with right_hip_rotation_0\n",
      "  -left_hip_rotation_0 collides with left_hip_0\n",
      "  -left_hip_0 collides with left_thigh_0\n",
      "  -left_thigh_0 collides with left_shin_0\n",
      "  -left_shin_0 collides with left_foot_link_0\n",
      "  -neck_0 collides with head_body_pitch_0\n",
      "  -head_body_pitch_0 collides with head_body_yaw_0\n",
      "  -head_body_yaw_0 collides with head_body_roll_0\n",
      "  -head_body_roll_0 collides with ear_left_0\n",
      "  -head_body_roll_0 collides with ear_right_0\n",
      "  -right_hip_rotation_0 collides with right_hip_0\n",
      "  -right_hip_0 collides with right_thigh_0\n",
      "  -right_thigh_0 collides with right_shin_0\n",
      "  -right_shin_0 collides with right_foot_link_0\n",
      "WARNING: Can't find head frames in the model, camera_look_at won't work\n"
     ]
    },
    {
     "name": "stdout",
     "output_type": "stream",
     "text": [
      "Placing the robot in the initial position...\n",
      "Initial position reached\n",
      "{'left_hip_yaw': -0.04698557882467102, 'left_hip_roll': -0.07705313755643177, 'left_hip_pitch': -0.011694935942324805, 'left_knee': 0.08853622760664202, 'left_ankle': -0.0034283280761261367, 'neck_pitch': 0.0, 'head_pitch': 0.0, 'head_yaw': 0.0, 'head_roll': 0.0, 'left_antenna': 0.0, 'right_antenna': 0.0, 'right_hip_yaw': -0.053470643222330076, 'right_hip_roll': -0.014681260217830894, 'right_hip_pitch': -0.013911263115788096, 'right_knee': -0.16717212273305668, 'right_ankle': -0.049898861138749764}\n",
      "center_y_pos: -0.095\n",
      "recorded 600 frames\n",
      "avg lin_vel_x 0.0004\n",
      "avg lin_vel_y -0.0003\n",
      "avg yaw 0.0306\n",
      "DONE, saving right_medium.json\n"
     ]
    },
    {
     "name": "stderr",
     "output_type": "stream",
     "text": [
      "<frozen importlib._bootstrap>:219: RuntimeWarning: to-Python converter for std::vector<std::__cxx11::basic_string<char, std::char_traits<char>, std::allocator<char> >, std::allocator<std::__cxx11::basic_string<char, std::char_traits<char>, std::allocator<char> > > > already registered; second conversion method ignored.\n",
      "<frozen importlib._bootstrap>:219: RuntimeWarning: to-Python converter for std::vector<double, std::allocator<double> > already registered; second conversion method ignored.\n",
      "<frozen importlib._bootstrap>:219: RuntimeWarning: to-Python converter for std::vector<int, std::allocator<int> > already registered; second conversion method ignored.\n"
     ]
    },
    {
     "name": "stdout",
     "output_type": "stream",
     "text": [
      "gait_parameters {'dx': 0.0, 'dy': 0.0, 'dtheta': 0.0, 'duration': 5, 'hardware': True, 'trunk_mode': True, 'double_support_ratio': 0.2, 'startend_double_support_ratio': 1.5, 'planned_timesteps': 48, 'replan_timesteps': 10, 'walk_com_height': 0.26, 'walk_foot_height': 0.025, 'walk_trunk_pitch': 6, 'walk_foot_rise_ratio': 0.1, 'single_support_duration': 0.25, 'single_support_timesteps': 10, 'foot_length': 0.16, 'feet_spacing': 0.19, 'zmp_margin': 0.0, 'foot_zmp_target_x': 0.0, 'foot_zmp_target_y': 0.0, 'walk_max_dtheta': 1.0, 'walk_max_dy': 0.1, 'walk_max_dx_forward': 0.1, 'walk_max_dx_backward': 0.1, 'joints': ['left_hip_yaw', 'left_hip_roll', 'left_hip_pitch', 'left_knee', 'left_ankle', 'neck_pitch', 'head_pitch', 'head_yaw', 'head_roll', 'left_antenna', 'right_antenna', 'right_hip_yaw', 'right_hip_roll', 'right_hip_pitch', 'right_knee', 'right_ankle'], 'joint_angles': {'head_pitch': 0, 'head_yaw': 0, 'head_roll': 0, 'neck_pitch': 0, 'left_antenna': 0, 'right_antenna': 0}}\n"
     ]
    },
    {
     "name": "stderr",
     "output_type": "stream",
     "text": [
      "WARNING: Robot has the following self collisions in neutral position:\n",
      "  -pelvis_0 collides with left_hip_rotation_0\n",
      "  -pelvis_0 collides with neck_0\n",
      "  -pelvis_0 collides with right_hip_rotation_0\n",
      "  -left_hip_rotation_0 collides with left_hip_0\n",
      "  -left_hip_0 collides with left_thigh_0\n",
      "  -left_thigh_0 collides with left_shin_0\n",
      "  -left_shin_0 collides with left_foot_link_0\n",
      "  -neck_0 collides with head_body_pitch_0\n",
      "  -head_body_pitch_0 collides with head_body_yaw_0\n",
      "  -head_body_yaw_0 collides with head_body_roll_0\n",
      "  -head_body_roll_0 collides with ear_left_0\n",
      "  -head_body_roll_0 collides with ear_right_0\n",
      "  -right_hip_rotation_0 collides with right_hip_0\n",
      "  -right_hip_0 collides with right_thigh_0\n",
      "  -right_thigh_0 collides with right_shin_0\n",
      "  -right_shin_0 collides with right_foot_link_0\n",
      "WARNING: Can't find head frames in the model, camera_look_at won't work\n"
     ]
    },
    {
     "name": "stdout",
     "output_type": "stream",
     "text": [
      "Placing the robot in the initial position...\n",
      "Initial position reached\n",
      "{'left_hip_yaw': -0.04698557882467102, 'left_hip_roll': -0.07705313755643177, 'left_hip_pitch': -0.011694935942324633, 'left_knee': 0.08853622760664229, 'left_ankle': -0.0034283280761260404, 'neck_pitch': 0.0, 'head_pitch': 0.0, 'head_yaw': 0.0, 'head_roll': 0.0, 'left_antenna': 0.0, 'right_antenna': 0.0, 'right_hip_yaw': -0.053470643222330076, 'right_hip_roll': -0.014681260217830897, 'right_hip_pitch': -0.013911263115789245, 'right_knee': -0.16717212273305848, 'right_ankle': -0.049898861138750375}\n",
      "center_y_pos: -0.095\n",
      "recorded 600 frames\n",
      "avg lin_vel_x 0.0004\n",
      "avg lin_vel_y -0.0003\n",
      "avg yaw 0.0306\n",
      "DONE, saving ang_left_medium.json\n"
     ]
    },
    {
     "name": "stderr",
     "output_type": "stream",
     "text": [
      "<frozen importlib._bootstrap>:219: RuntimeWarning: to-Python converter for std::vector<std::__cxx11::basic_string<char, std::char_traits<char>, std::allocator<char> >, std::allocator<std::__cxx11::basic_string<char, std::char_traits<char>, std::allocator<char> > > > already registered; second conversion method ignored.\n",
      "<frozen importlib._bootstrap>:219: RuntimeWarning: to-Python converter for std::vector<double, std::allocator<double> > already registered; second conversion method ignored.\n",
      "<frozen importlib._bootstrap>:219: RuntimeWarning: to-Python converter for std::vector<int, std::allocator<int> > already registered; second conversion method ignored.\n"
     ]
    },
    {
     "name": "stdout",
     "output_type": "stream",
     "text": [
      "gait_parameters {'dx': 0.0, 'dy': 0.0, 'dtheta': 0.0, 'duration': 5, 'hardware': True, 'trunk_mode': True, 'double_support_ratio': 0.2, 'startend_double_support_ratio': 1.5, 'planned_timesteps': 48, 'replan_timesteps': 10, 'walk_com_height': 0.26, 'walk_foot_height': 0.025, 'walk_trunk_pitch': 6, 'walk_foot_rise_ratio': 0.1, 'single_support_duration': 0.25, 'single_support_timesteps': 10, 'foot_length': 0.16, 'feet_spacing': 0.19, 'zmp_margin': 0.0, 'foot_zmp_target_x': 0.0, 'foot_zmp_target_y': 0.0, 'walk_max_dtheta': 1.0, 'walk_max_dy': 0.1, 'walk_max_dx_forward': 0.1, 'walk_max_dx_backward': 0.1, 'joints': ['left_hip_yaw', 'left_hip_roll', 'left_hip_pitch', 'left_knee', 'left_ankle', 'neck_pitch', 'head_pitch', 'head_yaw', 'head_roll', 'left_antenna', 'right_antenna', 'right_hip_yaw', 'right_hip_roll', 'right_hip_pitch', 'right_knee', 'right_ankle'], 'joint_angles': {'head_pitch': 0, 'head_yaw': 0, 'head_roll': 0, 'neck_pitch': 0, 'left_antenna': 0, 'right_antenna': 0}}\n"
     ]
    },
    {
     "name": "stderr",
     "output_type": "stream",
     "text": [
      "WARNING: Robot has the following self collisions in neutral position:\n",
      "  -pelvis_0 collides with left_hip_rotation_0\n",
      "  -pelvis_0 collides with neck_0\n",
      "  -pelvis_0 collides with right_hip_rotation_0\n",
      "  -left_hip_rotation_0 collides with left_hip_0\n",
      "  -left_hip_0 collides with left_thigh_0\n",
      "  -left_thigh_0 collides with left_shin_0\n",
      "  -left_shin_0 collides with left_foot_link_0\n",
      "  -neck_0 collides with head_body_pitch_0\n",
      "  -head_body_pitch_0 collides with head_body_yaw_0\n",
      "  -head_body_yaw_0 collides with head_body_roll_0\n",
      "  -head_body_roll_0 collides with ear_left_0\n",
      "  -head_body_roll_0 collides with ear_right_0\n",
      "  -right_hip_rotation_0 collides with right_hip_0\n",
      "  -right_hip_0 collides with right_thigh_0\n",
      "  -right_thigh_0 collides with right_shin_0\n",
      "  -right_shin_0 collides with right_foot_link_0\n",
      "WARNING: Can't find head frames in the model, camera_look_at won't work\n"
     ]
    },
    {
     "name": "stdout",
     "output_type": "stream",
     "text": [
      "Placing the robot in the initial position...\n",
      "Initial position reached\n",
      "{'left_hip_yaw': -0.04698557882467102, 'left_hip_roll': -0.07705313755643178, 'left_hip_pitch': -0.011694935942324519, 'left_knee': 0.08853622760664243, 'left_ankle': -0.0034283280761260174, 'neck_pitch': 0.0, 'head_pitch': 0.0, 'head_yaw': 0.0, 'head_roll': 0.0, 'left_antenna': 0.0, 'right_antenna': 0.0, 'right_hip_yaw': -0.05347064322233008, 'right_hip_roll': -0.014681260217830831, 'right_hip_pitch': -0.013911263115788516, 'right_knee': -0.16717212273305732, 'right_ankle': -0.04989886113874996}\n",
      "center_y_pos: -0.095\n",
      "recorded 600 frames\n",
      "avg lin_vel_x 0.0004\n",
      "avg lin_vel_y -0.0003\n",
      "avg yaw 0.0306\n",
      "DONE, saving ang_right_medium.json\n"
     ]
    },
    {
     "name": "stderr",
     "output_type": "stream",
     "text": [
      "<frozen importlib._bootstrap>:219: RuntimeWarning: to-Python converter for std::vector<std::__cxx11::basic_string<char, std::char_traits<char>, std::allocator<char> >, std::allocator<std::__cxx11::basic_string<char, std::char_traits<char>, std::allocator<char> > > > already registered; second conversion method ignored.\n",
      "<frozen importlib._bootstrap>:219: RuntimeWarning: to-Python converter for std::vector<double, std::allocator<double> > already registered; second conversion method ignored.\n",
      "<frozen importlib._bootstrap>:219: RuntimeWarning: to-Python converter for std::vector<int, std::allocator<int> > already registered; second conversion method ignored.\n"
     ]
    },
    {
     "name": "stdout",
     "output_type": "stream",
     "text": [
      "gait_parameters {'dx': 0.0, 'dy': 0.0, 'dtheta': 0.0, 'duration': 5, 'hardware': True, 'trunk_mode': True, 'double_support_ratio': 0.2, 'startend_double_support_ratio': 1.5, 'planned_timesteps': 48, 'replan_timesteps': 10, 'walk_com_height': 0.26, 'walk_foot_height': 0.025, 'walk_trunk_pitch': 6, 'walk_foot_rise_ratio': 0.1, 'single_support_duration': 0.25, 'single_support_timesteps': 10, 'foot_length': 0.16, 'feet_spacing': 0.19, 'zmp_margin': 0.0, 'foot_zmp_target_x': 0.0, 'foot_zmp_target_y': 0.0, 'walk_max_dtheta': 1.0, 'walk_max_dy': 0.1, 'walk_max_dx_forward': 0.1, 'walk_max_dx_backward': 0.1, 'joints': ['left_hip_yaw', 'left_hip_roll', 'left_hip_pitch', 'left_knee', 'left_ankle', 'neck_pitch', 'head_pitch', 'head_yaw', 'head_roll', 'left_antenna', 'right_antenna', 'right_hip_yaw', 'right_hip_roll', 'right_hip_pitch', 'right_knee', 'right_ankle'], 'joint_angles': {'head_pitch': 0, 'head_yaw': 0, 'head_roll': 0, 'neck_pitch': 0, 'left_antenna': 0, 'right_antenna': 0}}\n"
     ]
    },
    {
     "name": "stderr",
     "output_type": "stream",
     "text": [
      "WARNING: Robot has the following self collisions in neutral position:\n",
      "  -pelvis_0 collides with left_hip_rotation_0\n",
      "  -pelvis_0 collides with neck_0\n",
      "  -pelvis_0 collides with right_hip_rotation_0\n",
      "  -left_hip_rotation_0 collides with left_hip_0\n",
      "  -left_hip_0 collides with left_thigh_0\n",
      "  -left_thigh_0 collides with left_shin_0\n",
      "  -left_shin_0 collides with left_foot_link_0\n",
      "  -neck_0 collides with head_body_pitch_0\n",
      "  -head_body_pitch_0 collides with head_body_yaw_0\n",
      "  -head_body_yaw_0 collides with head_body_roll_0\n",
      "  -head_body_roll_0 collides with ear_left_0\n",
      "  -head_body_roll_0 collides with ear_right_0\n",
      "  -right_hip_rotation_0 collides with right_hip_0\n",
      "  -right_hip_0 collides with right_thigh_0\n",
      "  -right_thigh_0 collides with right_shin_0\n",
      "  -right_shin_0 collides with right_foot_link_0\n",
      "WARNING: Can't find head frames in the model, camera_look_at won't work\n"
     ]
    },
    {
     "name": "stdout",
     "output_type": "stream",
     "text": [
      "Placing the robot in the initial position...\n",
      "Initial position reached\n",
      "{'left_hip_yaw': -0.04698557882467102, 'left_hip_roll': -0.07705313755643177, 'left_hip_pitch': -0.011694935942324805, 'left_knee': 0.08853622760664202, 'left_ankle': -0.0034283280761261367, 'neck_pitch': 0.0, 'head_pitch': 0.0, 'head_yaw': 0.0, 'head_roll': 0.0, 'left_antenna': 0.0, 'right_antenna': 0.0, 'right_hip_yaw': -0.053470643222330076, 'right_hip_roll': -0.014681260217830894, 'right_hip_pitch': -0.013911263115788096, 'right_knee': -0.16717212273305668, 'right_ankle': -0.049898861138749764}\n",
      "center_y_pos: -0.095\n",
      "recorded 600 frames\n",
      "avg lin_vel_x 0.0004\n",
      "avg lin_vel_y -0.0003\n",
      "avg yaw 0.0306\n",
      "DONE, saving forward_fast.json\n"
     ]
    },
    {
     "name": "stderr",
     "output_type": "stream",
     "text": [
      "<frozen importlib._bootstrap>:219: RuntimeWarning: to-Python converter for std::vector<std::__cxx11::basic_string<char, std::char_traits<char>, std::allocator<char> >, std::allocator<std::__cxx11::basic_string<char, std::char_traits<char>, std::allocator<char> > > > already registered; second conversion method ignored.\n",
      "<frozen importlib._bootstrap>:219: RuntimeWarning: to-Python converter for std::vector<double, std::allocator<double> > already registered; second conversion method ignored.\n",
      "<frozen importlib._bootstrap>:219: RuntimeWarning: to-Python converter for std::vector<int, std::allocator<int> > already registered; second conversion method ignored.\n"
     ]
    },
    {
     "name": "stdout",
     "output_type": "stream",
     "text": [
      "gait_parameters {'dx': 0.0, 'dy': 0.0, 'dtheta': 0.0, 'duration': 5, 'hardware': True, 'trunk_mode': True, 'double_support_ratio': 0.2, 'startend_double_support_ratio': 1.5, 'planned_timesteps': 48, 'replan_timesteps': 10, 'walk_com_height': 0.26, 'walk_foot_height': 0.025, 'walk_trunk_pitch': 6, 'walk_foot_rise_ratio': 0.1, 'single_support_duration': 0.25, 'single_support_timesteps': 10, 'foot_length': 0.16, 'feet_spacing': 0.19, 'zmp_margin': 0.0, 'foot_zmp_target_x': 0.0, 'foot_zmp_target_y': 0.0, 'walk_max_dtheta': 1.0, 'walk_max_dy': 0.1, 'walk_max_dx_forward': 0.1, 'walk_max_dx_backward': 0.1, 'joints': ['left_hip_yaw', 'left_hip_roll', 'left_hip_pitch', 'left_knee', 'left_ankle', 'neck_pitch', 'head_pitch', 'head_yaw', 'head_roll', 'left_antenna', 'right_antenna', 'right_hip_yaw', 'right_hip_roll', 'right_hip_pitch', 'right_knee', 'right_ankle'], 'joint_angles': {'head_pitch': 0, 'head_yaw': 0, 'head_roll': 0, 'neck_pitch': 0, 'left_antenna': 0, 'right_antenna': 0}}\n"
     ]
    },
    {
     "name": "stderr",
     "output_type": "stream",
     "text": [
      "WARNING: Robot has the following self collisions in neutral position:\n",
      "  -pelvis_0 collides with left_hip_rotation_0\n",
      "  -pelvis_0 collides with neck_0\n",
      "  -pelvis_0 collides with right_hip_rotation_0\n",
      "  -left_hip_rotation_0 collides with left_hip_0\n",
      "  -left_hip_0 collides with left_thigh_0\n",
      "  -left_thigh_0 collides with left_shin_0\n",
      "  -left_shin_0 collides with left_foot_link_0\n",
      "  -neck_0 collides with head_body_pitch_0\n",
      "  -head_body_pitch_0 collides with head_body_yaw_0\n",
      "  -head_body_yaw_0 collides with head_body_roll_0\n",
      "  -head_body_roll_0 collides with ear_left_0\n",
      "  -head_body_roll_0 collides with ear_right_0\n",
      "  -right_hip_rotation_0 collides with right_hip_0\n",
      "  -right_hip_0 collides with right_thigh_0\n",
      "  -right_thigh_0 collides with right_shin_0\n",
      "  -right_shin_0 collides with right_foot_link_0\n",
      "WARNING: Can't find head frames in the model, camera_look_at won't work\n"
     ]
    },
    {
     "name": "stdout",
     "output_type": "stream",
     "text": [
      "Placing the robot in the initial position...\n",
      "Initial position reached\n",
      "{'left_hip_yaw': -0.04698557882467102, 'left_hip_roll': -0.07705313755643177, 'left_hip_pitch': -0.011694935942324805, 'left_knee': 0.08853622760664202, 'left_ankle': -0.0034283280761261367, 'neck_pitch': 0.0, 'head_pitch': 0.0, 'head_yaw': 0.0, 'head_roll': 0.0, 'left_antenna': 0.0, 'right_antenna': 0.0, 'right_hip_yaw': -0.053470643222330076, 'right_hip_roll': -0.014681260217830894, 'right_hip_pitch': -0.013911263115788096, 'right_knee': -0.16717212273305668, 'right_ankle': -0.049898861138749764}\n",
      "center_y_pos: -0.095\n",
      "recorded 600 frames\n",
      "avg lin_vel_x 0.0004\n",
      "avg lin_vel_y -0.0003\n",
      "avg yaw 0.0306\n",
      "DONE, saving backward_fast.json\n"
     ]
    },
    {
     "name": "stderr",
     "output_type": "stream",
     "text": [
      "<frozen importlib._bootstrap>:219: RuntimeWarning: to-Python converter for std::vector<std::__cxx11::basic_string<char, std::char_traits<char>, std::allocator<char> >, std::allocator<std::__cxx11::basic_string<char, std::char_traits<char>, std::allocator<char> > > > already registered; second conversion method ignored.\n",
      "<frozen importlib._bootstrap>:219: RuntimeWarning: to-Python converter for std::vector<double, std::allocator<double> > already registered; second conversion method ignored.\n",
      "<frozen importlib._bootstrap>:219: RuntimeWarning: to-Python converter for std::vector<int, std::allocator<int> > already registered; second conversion method ignored.\n"
     ]
    },
    {
     "name": "stdout",
     "output_type": "stream",
     "text": [
      "gait_parameters {'dx': 0.0, 'dy': 0.0, 'dtheta': 0.0, 'duration': 5, 'hardware': True, 'trunk_mode': True, 'double_support_ratio': 0.2, 'startend_double_support_ratio': 1.5, 'planned_timesteps': 48, 'replan_timesteps': 10, 'walk_com_height': 0.26, 'walk_foot_height': 0.025, 'walk_trunk_pitch': 6, 'walk_foot_rise_ratio': 0.1, 'single_support_duration': 0.25, 'single_support_timesteps': 10, 'foot_length': 0.16, 'feet_spacing': 0.19, 'zmp_margin': 0.0, 'foot_zmp_target_x': 0.0, 'foot_zmp_target_y': 0.0, 'walk_max_dtheta': 1.0, 'walk_max_dy': 0.1, 'walk_max_dx_forward': 0.1, 'walk_max_dx_backward': 0.1, 'joints': ['left_hip_yaw', 'left_hip_roll', 'left_hip_pitch', 'left_knee', 'left_ankle', 'neck_pitch', 'head_pitch', 'head_yaw', 'head_roll', 'left_antenna', 'right_antenna', 'right_hip_yaw', 'right_hip_roll', 'right_hip_pitch', 'right_knee', 'right_ankle'], 'joint_angles': {'head_pitch': 0, 'head_yaw': 0, 'head_roll': 0, 'neck_pitch': 0, 'left_antenna': 0, 'right_antenna': 0}}\n"
     ]
    },
    {
     "name": "stderr",
     "output_type": "stream",
     "text": [
      "WARNING: Robot has the following self collisions in neutral position:\n",
      "  -pelvis_0 collides with left_hip_rotation_0\n",
      "  -pelvis_0 collides with neck_0\n",
      "  -pelvis_0 collides with right_hip_rotation_0\n",
      "  -left_hip_rotation_0 collides with left_hip_0\n",
      "  -left_hip_0 collides with left_thigh_0\n",
      "  -left_thigh_0 collides with left_shin_0\n",
      "  -left_shin_0 collides with left_foot_link_0\n",
      "  -neck_0 collides with head_body_pitch_0\n",
      "  -head_body_pitch_0 collides with head_body_yaw_0\n",
      "  -head_body_yaw_0 collides with head_body_roll_0\n",
      "  -head_body_roll_0 collides with ear_left_0\n",
      "  -head_body_roll_0 collides with ear_right_0\n",
      "  -right_hip_rotation_0 collides with right_hip_0\n",
      "  -right_hip_0 collides with right_thigh_0\n",
      "  -right_thigh_0 collides with right_shin_0\n",
      "  -right_shin_0 collides with right_foot_link_0\n",
      "WARNING: Can't find head frames in the model, camera_look_at won't work\n"
     ]
    },
    {
     "name": "stdout",
     "output_type": "stream",
     "text": [
      "Placing the robot in the initial position...\n",
      "Initial position reached\n",
      "{'left_hip_yaw': -0.04698557882467102, 'left_hip_roll': -0.07705313755643178, 'left_hip_pitch': -0.011694935942324519, 'left_knee': 0.08853622760664243, 'left_ankle': -0.0034283280761260174, 'neck_pitch': 0.0, 'head_pitch': 0.0, 'head_yaw': 0.0, 'head_roll': 0.0, 'left_antenna': 0.0, 'right_antenna': 0.0, 'right_hip_yaw': -0.05347064322233008, 'right_hip_roll': -0.014681260217830831, 'right_hip_pitch': -0.013911263115788516, 'right_knee': -0.16717212273305732, 'right_ankle': -0.04989886113874996}\n",
      "center_y_pos: -0.095\n",
      "recorded 600 frames\n",
      "avg lin_vel_x 0.0004\n",
      "avg lin_vel_y -0.0003\n",
      "avg yaw 0.0306\n",
      "DONE, saving left_fast.json\n"
     ]
    },
    {
     "name": "stderr",
     "output_type": "stream",
     "text": [
      "<frozen importlib._bootstrap>:219: RuntimeWarning: to-Python converter for std::vector<std::__cxx11::basic_string<char, std::char_traits<char>, std::allocator<char> >, std::allocator<std::__cxx11::basic_string<char, std::char_traits<char>, std::allocator<char> > > > already registered; second conversion method ignored.\n",
      "<frozen importlib._bootstrap>:219: RuntimeWarning: to-Python converter for std::vector<double, std::allocator<double> > already registered; second conversion method ignored.\n",
      "<frozen importlib._bootstrap>:219: RuntimeWarning: to-Python converter for std::vector<int, std::allocator<int> > already registered; second conversion method ignored.\n"
     ]
    },
    {
     "name": "stdout",
     "output_type": "stream",
     "text": [
      "gait_parameters {'dx': 0.0, 'dy': 0.0, 'dtheta': 0.0, 'duration': 5, 'hardware': True, 'trunk_mode': True, 'double_support_ratio': 0.2, 'startend_double_support_ratio': 1.5, 'planned_timesteps': 48, 'replan_timesteps': 10, 'walk_com_height': 0.26, 'walk_foot_height': 0.025, 'walk_trunk_pitch': 6, 'walk_foot_rise_ratio': 0.1, 'single_support_duration': 0.25, 'single_support_timesteps': 10, 'foot_length': 0.16, 'feet_spacing': 0.19, 'zmp_margin': 0.0, 'foot_zmp_target_x': 0.0, 'foot_zmp_target_y': 0.0, 'walk_max_dtheta': 1.0, 'walk_max_dy': 0.1, 'walk_max_dx_forward': 0.1, 'walk_max_dx_backward': 0.1, 'joints': ['left_hip_yaw', 'left_hip_roll', 'left_hip_pitch', 'left_knee', 'left_ankle', 'neck_pitch', 'head_pitch', 'head_yaw', 'head_roll', 'left_antenna', 'right_antenna', 'right_hip_yaw', 'right_hip_roll', 'right_hip_pitch', 'right_knee', 'right_ankle'], 'joint_angles': {'head_pitch': 0, 'head_yaw': 0, 'head_roll': 0, 'neck_pitch': 0, 'left_antenna': 0, 'right_antenna': 0}}\n"
     ]
    },
    {
     "name": "stderr",
     "output_type": "stream",
     "text": [
      "WARNING: Robot has the following self collisions in neutral position:\n",
      "  -pelvis_0 collides with left_hip_rotation_0\n",
      "  -pelvis_0 collides with neck_0\n",
      "  -pelvis_0 collides with right_hip_rotation_0\n",
      "  -left_hip_rotation_0 collides with left_hip_0\n",
      "  -left_hip_0 collides with left_thigh_0\n",
      "  -left_thigh_0 collides with left_shin_0\n",
      "  -left_shin_0 collides with left_foot_link_0\n",
      "  -neck_0 collides with head_body_pitch_0\n",
      "  -head_body_pitch_0 collides with head_body_yaw_0\n",
      "  -head_body_yaw_0 collides with head_body_roll_0\n",
      "  -head_body_roll_0 collides with ear_left_0\n",
      "  -head_body_roll_0 collides with ear_right_0\n",
      "  -right_hip_rotation_0 collides with right_hip_0\n",
      "  -right_hip_0 collides with right_thigh_0\n",
      "  -right_thigh_0 collides with right_shin_0\n",
      "  -right_shin_0 collides with right_foot_link_0\n",
      "WARNING: Can't find head frames in the model, camera_look_at won't work\n"
     ]
    },
    {
     "name": "stdout",
     "output_type": "stream",
     "text": [
      "Placing the robot in the initial position...\n",
      "Initial position reached\n",
      "{'left_hip_yaw': -0.04698557882467102, 'left_hip_roll': -0.07705313755643177, 'left_hip_pitch': -0.011694935942325032, 'left_knee': 0.08853622760664168, 'left_ankle': -0.0034283280761262616, 'neck_pitch': 0.0, 'head_pitch': 0.0, 'head_yaw': 0.0, 'head_roll': 0.0, 'left_antenna': 0.0, 'right_antenna': 0.0, 'right_hip_yaw': -0.05347064322233008, 'right_hip_roll': -0.014681260217830821, 'right_hip_pitch': -0.013911263115788554, 'right_knee': -0.16717212273305734, 'right_ankle': -0.049898861138749945}\n",
      "center_y_pos: -0.095\n"
     ]
    }
   ],
   "source": [
    "tmp_dir = os.path.join(presets_dir, \"tmp\")\n",
    "os.makedirs(tmp_dir, exist_ok=True)\n",
    "\n",
    "for gait_speed in gait_speeds:\n",
    "    gait_speed_val = gait_speeds[gait_speed]\n",
    "    for gait_motion in gait_motions:\n",
    "        with open(os.path.join(presets_dir, f\"{gait_speed}.json\")) as file:\n",
    "            data = json.load(file)\n",
    "            \n",
    "        if gait_motion == \"forward\":\n",
    "            data[\"dx\"] = gait_speed_val\n",
    "        elif gait_motion == \"backward\":\n",
    "            data[\"dx\"] = -gait_speed_val\n",
    "        elif gait_motion == \"left\":\n",
    "            data[\"dy\"] = gait_speed_val\n",
    "        elif gait_motion == \"right\":\n",
    "            data[\"dy\"] = -gait_speed_val\n",
    "        elif gait_motion == \"ang_left\":\n",
    "            data[\"dtheta\"] = gait_speed_val\n",
    "        elif gait_motion == \"ang_right\":\n",
    "            data[\"dtheta\"] = -gait_speed_val\n",
    "\n",
    "        tmp_preset = os.path.join(tmp_dir, \"preset.json\")\n",
    "        with open(tmp_preset, 'w') as file:\n",
    "            json.dump(data, file, indent=4)\n",
    "\n",
    "        subprocess.run(['python', \"gait_generator.py\", \"--preset\", f\"{tmp_preset}\", \"--name\", f\"{gait_motion}_{gait_speed}\"])"
   ]
  },
  {
   "cell_type": "code",
   "execution_count": 8,
   "metadata": {},
   "outputs": [
    {
     "data": {
      "text/plain": [
       "'--name ang_right_fast'"
      ]
     },
     "execution_count": 8,
     "metadata": {},
     "output_type": "execute_result"
    }
   ],
   "source": [
    "f\"--name {gait_motion}_{gait_speed}\""
   ]
  },
  {
   "cell_type": "code",
   "execution_count": null,
   "metadata": {},
   "outputs": [],
   "source": []
  }
 ],
 "metadata": {
  "kernelspec": {
   "display_name": "Python 3",
   "language": "python",
   "name": "python3"
  },
  "language_info": {
   "codemirror_mode": {
    "name": "ipython",
    "version": 3
   },
   "file_extension": ".py",
   "mimetype": "text/x-python",
   "name": "python",
   "nbconvert_exporter": "python",
   "pygments_lexer": "ipython3",
   "version": "3.8.10"
  }
 },
 "nbformat": 4,
 "nbformat_minor": 2
}
