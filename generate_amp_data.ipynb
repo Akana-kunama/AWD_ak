{
 "cells": [
  {
   "cell_type": "code",
   "execution_count": 8,
   "metadata": {},
   "outputs": [],
   "source": [
    "import json \n",
    "import os\n",
    "import subprocess"
   ]
  },
  {
   "cell_type": "code",
   "execution_count": 9,
   "metadata": {},
   "outputs": [],
   "source": [
    "gait_speeds = {\"slow\": 0.05,\n",
    "                \"medium\": 0.1,\n",
    "                \"fast\": 0.2}\n",
    "\n",
    "presets_dir = \"awd/data/assets/go_bdx/placo_presets\"\n",
    "gait_motions = [\"standing\", \"forward\", \"backward\", \"left\", \"right\", \"ang_left\", \"ang_right\"]"
   ]
  },
  {
   "cell_type": "code",
   "execution_count": 10,
   "metadata": {},
   "outputs": [
    {
     "name": "stderr",
     "output_type": "stream",
     "text": [
      "<frozen importlib._bootstrap>:219: RuntimeWarning: to-Python converter for std::vector<std::__cxx11::basic_string<char, std::char_traits<char>, std::allocator<char> >, std::allocator<std::__cxx11::basic_string<char, std::char_traits<char>, std::allocator<char> > > > already registered; second conversion method ignored.\n",
      "<frozen importlib._bootstrap>:219: RuntimeWarning: to-Python converter for std::vector<double, std::allocator<double> > already registered; second conversion method ignored.\n",
      "<frozen importlib._bootstrap>:219: RuntimeWarning: to-Python converter for std::vector<int, std::allocator<int> > already registered; second conversion method ignored.\n"
     ]
    },
    {
     "name": "stdout",
     "output_type": "stream",
     "text": [
      "gait_parameters {'dx': 0.0, 'dy': 0.0, 'dtheta': 0.0, 'duration': 5, 'hardware': True, 'trunk_mode': True, 'double_support_ratio': 0.2, 'startend_double_support_ratio': 1.5, 'planned_timesteps': 48, 'replan_timesteps': 10, 'walk_com_height': 0.26, 'walk_foot_height': 0.025, 'walk_trunk_pitch': -8, 'walk_foot_rise_ratio': 0.1, 'single_support_duration': 0.45, 'single_support_timesteps': 10, 'foot_length': 0.16, 'feet_spacing': 0.19, 'zmp_margin': 0.0, 'foot_zmp_target_x': 0.0, 'foot_zmp_target_y': 0.0, 'walk_max_dtheta': 1.0, 'walk_max_dy': 0.1, 'walk_max_dx_forward': 0.1, 'walk_max_dx_backward': 0.1, 'joints': ['left_hip_yaw', 'left_hip_roll', 'left_hip_pitch', 'left_knee', 'left_ankle', 'neck_pitch', 'head_pitch', 'head_yaw', 'head_roll', 'left_antenna', 'right_antenna', 'right_hip_yaw', 'right_hip_roll', 'right_hip_pitch', 'right_knee', 'right_ankle'], 'joint_angles': {'head_pitch': 0, 'head_yaw': 0, 'head_roll': 0, 'neck_pitch': 0, 'left_antenna': 0, 'right_antenna': 0}}\n"
     ]
    },
    {
     "name": "stderr",
     "output_type": "stream",
     "text": [
      "WARNING: Robot has the following self collisions in neutral position:\n",
      "  -pelvis_0 collides with left_hip_rotation_0\n",
      "  -pelvis_0 collides with neck_0\n",
      "  -pelvis_0 collides with right_hip_rotation_0\n",
      "  -left_hip_rotation_0 collides with left_hip_0\n",
      "  -left_hip_0 collides with left_thigh_0\n",
      "  -left_thigh_0 collides with left_shin_0\n",
      "  -left_shin_0 collides with left_foot_link_0\n",
      "  -neck_0 collides with head_body_pitch_0\n",
      "  -head_body_pitch_0 collides with head_body_yaw_0\n",
      "  -head_body_yaw_0 collides with head_body_roll_0\n",
      "  -head_body_roll_0 collides with ear_left_0\n",
      "  -head_body_roll_0 collides with ear_right_0\n",
      "  -right_hip_rotation_0 collides with right_hip_0\n",
      "  -right_hip_0 collides with right_thigh_0\n",
      "  -right_thigh_0 collides with right_shin_0\n",
      "  -right_shin_0 collides with right_foot_link_0\n",
      "WARNING: Can't find head frames in the model, camera_look_at won't work\n"
     ]
    },
    {
     "name": "stdout",
     "output_type": "stream",
     "text": [
      "Placing the robot in the initial position...\n",
      "Initial position reached\n",
      "{'left_hip_yaw': -0.05367740330879669, 'left_hip_roll': -0.07683769751763382, 'left_hip_pitch': 0.18475466530836182, 'left_knee': 0.05482247538374539, 'left_ankle': 0.01117807991273989, 'neck_pitch': 0.0, 'head_pitch': 0.0, 'head_yaw': 0.0, 'head_roll': 0.0, 'left_antenna': 0.0, 'right_antenna': 0.0, 'right_hip_yaw': -0.044872336477187816, 'right_hip_roll': -0.01481880785078353, 'right_hip_pitch': -0.22322557435862786, 'right_knee': -0.1462268135651895, 'right_ankle': -0.06370793282740764}\n",
      "center_y_pos: -0.095\n",
      "recorded 600 frames\n",
      "avg lin_vel_x 0.0012\n",
      "avg lin_vel_y 0.0053\n",
      "avg yaw 0.0161\n",
      "DONE, saving standing_slow.json\n"
     ]
    },
    {
     "name": "stderr",
     "output_type": "stream",
     "text": [
      "<frozen importlib._bootstrap>:219: RuntimeWarning: to-Python converter for std::vector<std::__cxx11::basic_string<char, std::char_traits<char>, std::allocator<char> >, std::allocator<std::__cxx11::basic_string<char, std::char_traits<char>, std::allocator<char> > > > already registered; second conversion method ignored.\n",
      "<frozen importlib._bootstrap>:219: RuntimeWarning: to-Python converter for std::vector<double, std::allocator<double> > already registered; second conversion method ignored.\n",
      "<frozen importlib._bootstrap>:219: RuntimeWarning: to-Python converter for std::vector<int, std::allocator<int> > already registered; second conversion method ignored.\n"
     ]
    },
    {
     "name": "stdout",
     "output_type": "stream",
     "text": [
      "gait_parameters {'dx': 0.05, 'dy': 0.0, 'dtheta': 0.0, 'duration': 5, 'hardware': True, 'trunk_mode': True, 'double_support_ratio': 0.2, 'startend_double_support_ratio': 1.5, 'planned_timesteps': 48, 'replan_timesteps': 10, 'walk_com_height': 0.26, 'walk_foot_height': 0.025, 'walk_trunk_pitch': -8, 'walk_foot_rise_ratio': 0.1, 'single_support_duration': 0.45, 'single_support_timesteps': 10, 'foot_length': 0.16, 'feet_spacing': 0.19, 'zmp_margin': 0.0, 'foot_zmp_target_x': 0.0, 'foot_zmp_target_y': 0.0, 'walk_max_dtheta': 1.0, 'walk_max_dy': 0.1, 'walk_max_dx_forward': 0.1, 'walk_max_dx_backward': 0.1, 'joints': ['left_hip_yaw', 'left_hip_roll', 'left_hip_pitch', 'left_knee', 'left_ankle', 'neck_pitch', 'head_pitch', 'head_yaw', 'head_roll', 'left_antenna', 'right_antenna', 'right_hip_yaw', 'right_hip_roll', 'right_hip_pitch', 'right_knee', 'right_ankle'], 'joint_angles': {'head_pitch': 0, 'head_yaw': 0, 'head_roll': 0, 'neck_pitch': 0, 'left_antenna': 0, 'right_antenna': 0}}\n"
     ]
    },
    {
     "name": "stderr",
     "output_type": "stream",
     "text": [
      "WARNING: Robot has the following self collisions in neutral position:\n",
      "  -pelvis_0 collides with left_hip_rotation_0\n",
      "  -pelvis_0 collides with neck_0\n",
      "  -pelvis_0 collides with right_hip_rotation_0\n",
      "  -left_hip_rotation_0 collides with left_hip_0\n",
      "  -left_hip_0 collides with left_thigh_0\n",
      "  -left_thigh_0 collides with left_shin_0\n",
      "  -left_shin_0 collides with left_foot_link_0\n",
      "  -neck_0 collides with head_body_pitch_0\n",
      "  -head_body_pitch_0 collides with head_body_yaw_0\n",
      "  -head_body_yaw_0 collides with head_body_roll_0\n",
      "  -head_body_roll_0 collides with ear_left_0\n",
      "  -head_body_roll_0 collides with ear_right_0\n",
      "  -right_hip_rotation_0 collides with right_hip_0\n",
      "  -right_hip_0 collides with right_thigh_0\n",
      "  -right_thigh_0 collides with right_shin_0\n",
      "  -right_shin_0 collides with right_foot_link_0\n",
      "WARNING: Can't find head frames in the model, camera_look_at won't work\n"
     ]
    },
    {
     "name": "stdout",
     "output_type": "stream",
     "text": [
      "Placing the robot in the initial position...\n",
      "Initial position reached\n",
      "{'left_hip_yaw': -0.05367740330879669, 'left_hip_roll': -0.07683769751763384, 'left_hip_pitch': 0.18475466530836226, 'left_knee': 0.05482247538374608, 'left_ankle': 0.01117807991274011, 'neck_pitch': 0.0, 'head_pitch': 0.0, 'head_yaw': 0.0, 'head_roll': 0.0, 'left_antenna': 0.0, 'right_antenna': 0.0, 'right_hip_yaw': -0.04487233647718783, 'right_hip_roll': -0.014818807850783619, 'right_hip_pitch': -0.22322557435862805, 'right_knee': -0.14622681356518974, 'right_ankle': -0.06370793282740769}\n",
      "center_y_pos: -0.095\n",
      "recorded 600 frames\n",
      "avg lin_vel_x 0.082\n",
      "avg lin_vel_y 0.0112\n",
      "avg yaw 0.0161\n",
      "DONE, saving forward_slow.json\n"
     ]
    },
    {
     "name": "stderr",
     "output_type": "stream",
     "text": [
      "<frozen importlib._bootstrap>:219: RuntimeWarning: to-Python converter for std::vector<std::__cxx11::basic_string<char, std::char_traits<char>, std::allocator<char> >, std::allocator<std::__cxx11::basic_string<char, std::char_traits<char>, std::allocator<char> > > > already registered; second conversion method ignored.\n",
      "<frozen importlib._bootstrap>:219: RuntimeWarning: to-Python converter for std::vector<double, std::allocator<double> > already registered; second conversion method ignored.\n",
      "<frozen importlib._bootstrap>:219: RuntimeWarning: to-Python converter for std::vector<int, std::allocator<int> > already registered; second conversion method ignored.\n"
     ]
    },
    {
     "name": "stdout",
     "output_type": "stream",
     "text": [
      "gait_parameters {'dx': -0.05, 'dy': 0.0, 'dtheta': 0.0, 'duration': 5, 'hardware': True, 'trunk_mode': True, 'double_support_ratio': 0.2, 'startend_double_support_ratio': 1.5, 'planned_timesteps': 48, 'replan_timesteps': 10, 'walk_com_height': 0.26, 'walk_foot_height': 0.025, 'walk_trunk_pitch': -8, 'walk_foot_rise_ratio': 0.1, 'single_support_duration': 0.45, 'single_support_timesteps': 10, 'foot_length': 0.16, 'feet_spacing': 0.19, 'zmp_margin': 0.0, 'foot_zmp_target_x': 0.0, 'foot_zmp_target_y': 0.0, 'walk_max_dtheta': 1.0, 'walk_max_dy': 0.1, 'walk_max_dx_forward': 0.1, 'walk_max_dx_backward': 0.1, 'joints': ['left_hip_yaw', 'left_hip_roll', 'left_hip_pitch', 'left_knee', 'left_ankle', 'neck_pitch', 'head_pitch', 'head_yaw', 'head_roll', 'left_antenna', 'right_antenna', 'right_hip_yaw', 'right_hip_roll', 'right_hip_pitch', 'right_knee', 'right_ankle'], 'joint_angles': {'head_pitch': 0, 'head_yaw': 0, 'head_roll': 0, 'neck_pitch': 0, 'left_antenna': 0, 'right_antenna': 0}}\n"
     ]
    },
    {
     "name": "stderr",
     "output_type": "stream",
     "text": [
      "WARNING: Robot has the following self collisions in neutral position:\n",
      "  -pelvis_0 collides with left_hip_rotation_0\n",
      "  -pelvis_0 collides with neck_0\n",
      "  -pelvis_0 collides with right_hip_rotation_0\n",
      "  -left_hip_rotation_0 collides with left_hip_0\n",
      "  -left_hip_0 collides with left_thigh_0\n",
      "  -left_thigh_0 collides with left_shin_0\n",
      "  -left_shin_0 collides with left_foot_link_0\n",
      "  -neck_0 collides with head_body_pitch_0\n",
      "  -head_body_pitch_0 collides with head_body_yaw_0\n",
      "  -head_body_yaw_0 collides with head_body_roll_0\n",
      "  -head_body_roll_0 collides with ear_left_0\n",
      "  -head_body_roll_0 collides with ear_right_0\n",
      "  -right_hip_rotation_0 collides with right_hip_0\n",
      "  -right_hip_0 collides with right_thigh_0\n",
      "  -right_thigh_0 collides with right_shin_0\n",
      "  -right_shin_0 collides with right_foot_link_0\n",
      "WARNING: Can't find head frames in the model, camera_look_at won't work\n"
     ]
    },
    {
     "name": "stdout",
     "output_type": "stream",
     "text": [
      "Placing the robot in the initial position...\n",
      "Initial position reached\n",
      "{'left_hip_yaw': -0.05367740330879669, 'left_hip_roll': -0.07683769751763384, 'left_hip_pitch': 0.18475466530836226, 'left_knee': 0.05482247538374608, 'left_ankle': 0.01117807991274011, 'neck_pitch': 0.0, 'head_pitch': 0.0, 'head_yaw': 0.0, 'head_roll': 0.0, 'left_antenna': 0.0, 'right_antenna': 0.0, 'right_hip_yaw': -0.04487233647718783, 'right_hip_roll': -0.014818807850783619, 'right_hip_pitch': -0.22322557435862805, 'right_knee': -0.14622681356518974, 'right_ankle': -0.06370793282740769}\n",
      "center_y_pos: -0.095\n",
      "recorded 600 frames\n",
      "avg lin_vel_x -0.0797\n",
      "avg lin_vel_y -0.0006\n",
      "avg yaw 0.0161\n",
      "DONE, saving backward_slow.json\n"
     ]
    },
    {
     "name": "stderr",
     "output_type": "stream",
     "text": [
      "<frozen importlib._bootstrap>:219: RuntimeWarning: to-Python converter for std::vector<std::__cxx11::basic_string<char, std::char_traits<char>, std::allocator<char> >, std::allocator<std::__cxx11::basic_string<char, std::char_traits<char>, std::allocator<char> > > > already registered; second conversion method ignored.\n",
      "<frozen importlib._bootstrap>:219: RuntimeWarning: to-Python converter for std::vector<double, std::allocator<double> > already registered; second conversion method ignored.\n",
      "<frozen importlib._bootstrap>:219: RuntimeWarning: to-Python converter for std::vector<int, std::allocator<int> > already registered; second conversion method ignored.\n"
     ]
    },
    {
     "name": "stdout",
     "output_type": "stream",
     "text": [
      "gait_parameters {'dx': 0.0, 'dy': 0.05, 'dtheta': 0.0, 'duration': 5, 'hardware': True, 'trunk_mode': True, 'double_support_ratio': 0.2, 'startend_double_support_ratio': 1.5, 'planned_timesteps': 48, 'replan_timesteps': 10, 'walk_com_height': 0.26, 'walk_foot_height': 0.025, 'walk_trunk_pitch': -8, 'walk_foot_rise_ratio': 0.1, 'single_support_duration': 0.45, 'single_support_timesteps': 10, 'foot_length': 0.16, 'feet_spacing': 0.19, 'zmp_margin': 0.0, 'foot_zmp_target_x': 0.0, 'foot_zmp_target_y': 0.0, 'walk_max_dtheta': 1.0, 'walk_max_dy': 0.1, 'walk_max_dx_forward': 0.1, 'walk_max_dx_backward': 0.1, 'joints': ['left_hip_yaw', 'left_hip_roll', 'left_hip_pitch', 'left_knee', 'left_ankle', 'neck_pitch', 'head_pitch', 'head_yaw', 'head_roll', 'left_antenna', 'right_antenna', 'right_hip_yaw', 'right_hip_roll', 'right_hip_pitch', 'right_knee', 'right_ankle'], 'joint_angles': {'head_pitch': 0, 'head_yaw': 0, 'head_roll': 0, 'neck_pitch': 0, 'left_antenna': 0, 'right_antenna': 0}}\n"
     ]
    },
    {
     "name": "stderr",
     "output_type": "stream",
     "text": [
      "WARNING: Robot has the following self collisions in neutral position:\n",
      "  -pelvis_0 collides with left_hip_rotation_0\n",
      "  -pelvis_0 collides with neck_0\n",
      "  -pelvis_0 collides with right_hip_rotation_0\n",
      "  -left_hip_rotation_0 collides with left_hip_0\n",
      "  -left_hip_0 collides with left_thigh_0\n",
      "  -left_thigh_0 collides with left_shin_0\n",
      "  -left_shin_0 collides with left_foot_link_0\n",
      "  -neck_0 collides with head_body_pitch_0\n",
      "  -head_body_pitch_0 collides with head_body_yaw_0\n",
      "  -head_body_yaw_0 collides with head_body_roll_0\n",
      "  -head_body_roll_0 collides with ear_left_0\n",
      "  -head_body_roll_0 collides with ear_right_0\n",
      "  -right_hip_rotation_0 collides with right_hip_0\n",
      "  -right_hip_0 collides with right_thigh_0\n",
      "  -right_thigh_0 collides with right_shin_0\n",
      "  -right_shin_0 collides with right_foot_link_0\n",
      "WARNING: Can't find head frames in the model, camera_look_at won't work\n"
     ]
    },
    {
     "name": "stdout",
     "output_type": "stream",
     "text": [
      "Placing the robot in the initial position...\n",
      "Initial position reached\n",
      "{'left_hip_yaw': -0.05367740330879669, 'left_hip_roll': -0.07683769751763384, 'left_hip_pitch': 0.18475466530836235, 'left_knee': 0.0548224753837462, 'left_ankle': 0.011178079912740184, 'neck_pitch': 0.0, 'head_pitch': 0.0, 'head_yaw': 0.0, 'head_roll': 0.0, 'left_antenna': 0.0, 'right_antenna': 0.0, 'right_hip_yaw': -0.04487233647718782, 'right_hip_roll': -0.014818807850783558, 'right_hip_pitch': -0.2232255743586287, 'right_knee': -0.1462268135651908, 'right_ankle': -0.06370793282740811}\n",
      "center_y_pos: -0.095\n",
      "recorded 600 frames\n",
      "avg lin_vel_x -0.0047\n",
      "avg lin_vel_y 0.0861\n",
      "avg yaw 0.0161\n",
      "DONE, saving left_slow.json\n"
     ]
    },
    {
     "name": "stderr",
     "output_type": "stream",
     "text": [
      "<frozen importlib._bootstrap>:219: RuntimeWarning: to-Python converter for std::vector<std::__cxx11::basic_string<char, std::char_traits<char>, std::allocator<char> >, std::allocator<std::__cxx11::basic_string<char, std::char_traits<char>, std::allocator<char> > > > already registered; second conversion method ignored.\n",
      "<frozen importlib._bootstrap>:219: RuntimeWarning: to-Python converter for std::vector<double, std::allocator<double> > already registered; second conversion method ignored.\n",
      "<frozen importlib._bootstrap>:219: RuntimeWarning: to-Python converter for std::vector<int, std::allocator<int> > already registered; second conversion method ignored.\n"
     ]
    },
    {
     "name": "stdout",
     "output_type": "stream",
     "text": [
      "gait_parameters {'dx': 0.0, 'dy': -0.05, 'dtheta': 0.0, 'duration': 5, 'hardware': True, 'trunk_mode': True, 'double_support_ratio': 0.2, 'startend_double_support_ratio': 1.5, 'planned_timesteps': 48, 'replan_timesteps': 10, 'walk_com_height': 0.26, 'walk_foot_height': 0.025, 'walk_trunk_pitch': -8, 'walk_foot_rise_ratio': 0.1, 'single_support_duration': 0.45, 'single_support_timesteps': 10, 'foot_length': 0.16, 'feet_spacing': 0.19, 'zmp_margin': 0.0, 'foot_zmp_target_x': 0.0, 'foot_zmp_target_y': 0.0, 'walk_max_dtheta': 1.0, 'walk_max_dy': 0.1, 'walk_max_dx_forward': 0.1, 'walk_max_dx_backward': 0.1, 'joints': ['left_hip_yaw', 'left_hip_roll', 'left_hip_pitch', 'left_knee', 'left_ankle', 'neck_pitch', 'head_pitch', 'head_yaw', 'head_roll', 'left_antenna', 'right_antenna', 'right_hip_yaw', 'right_hip_roll', 'right_hip_pitch', 'right_knee', 'right_ankle'], 'joint_angles': {'head_pitch': 0, 'head_yaw': 0, 'head_roll': 0, 'neck_pitch': 0, 'left_antenna': 0, 'right_antenna': 0}}\n"
     ]
    },
    {
     "name": "stderr",
     "output_type": "stream",
     "text": [
      "WARNING: Robot has the following self collisions in neutral position:\n",
      "  -pelvis_0 collides with left_hip_rotation_0\n",
      "  -pelvis_0 collides with neck_0\n",
      "  -pelvis_0 collides with right_hip_rotation_0\n",
      "  -left_hip_rotation_0 collides with left_hip_0\n",
      "  -left_hip_0 collides with left_thigh_0\n",
      "  -left_thigh_0 collides with left_shin_0\n",
      "  -left_shin_0 collides with left_foot_link_0\n",
      "  -neck_0 collides with head_body_pitch_0\n",
      "  -head_body_pitch_0 collides with head_body_yaw_0\n",
      "  -head_body_yaw_0 collides with head_body_roll_0\n",
      "  -head_body_roll_0 collides with ear_left_0\n",
      "  -head_body_roll_0 collides with ear_right_0\n",
      "  -right_hip_rotation_0 collides with right_hip_0\n",
      "  -right_hip_0 collides with right_thigh_0\n",
      "  -right_thigh_0 collides with right_shin_0\n",
      "  -right_shin_0 collides with right_foot_link_0\n",
      "WARNING: Can't find head frames in the model, camera_look_at won't work\n"
     ]
    },
    {
     "name": "stdout",
     "output_type": "stream",
     "text": [
      "Placing the robot in the initial position...\n",
      "Initial position reached\n",
      "{'left_hip_yaw': -0.05367740330879669, 'left_hip_roll': -0.07683769751763384, 'left_hip_pitch': 0.18475466530836226, 'left_knee': 0.054822475383746065, 'left_ankle': 0.011178079912740122, 'neck_pitch': 0.0, 'head_pitch': 0.0, 'head_yaw': 0.0, 'head_roll': 0.0, 'left_antenna': 0.0, 'right_antenna': 0.0, 'right_hip_yaw': -0.04487233647718782, 'right_hip_roll': -0.014818807850783558, 'right_hip_pitch': -0.2232255743586279, 'right_knee': -0.14622681356518955, 'right_ankle': -0.06370793282740765}\n",
      "center_y_pos: -0.095\n",
      "recorded 600 frames\n",
      "avg lin_vel_x 0.0071\n",
      "avg lin_vel_y -0.0756\n",
      "avg yaw 0.0161\n",
      "DONE, saving right_slow.json\n"
     ]
    },
    {
     "name": "stderr",
     "output_type": "stream",
     "text": [
      "<frozen importlib._bootstrap>:219: RuntimeWarning: to-Python converter for std::vector<std::__cxx11::basic_string<char, std::char_traits<char>, std::allocator<char> >, std::allocator<std::__cxx11::basic_string<char, std::char_traits<char>, std::allocator<char> > > > already registered; second conversion method ignored.\n",
      "<frozen importlib._bootstrap>:219: RuntimeWarning: to-Python converter for std::vector<double, std::allocator<double> > already registered; second conversion method ignored.\n",
      "<frozen importlib._bootstrap>:219: RuntimeWarning: to-Python converter for std::vector<int, std::allocator<int> > already registered; second conversion method ignored.\n"
     ]
    },
    {
     "name": "stdout",
     "output_type": "stream",
     "text": [
      "gait_parameters {'dx': 0.0, 'dy': 0.0, 'dtheta': 0.05, 'duration': 5, 'hardware': True, 'trunk_mode': True, 'double_support_ratio': 0.2, 'startend_double_support_ratio': 1.5, 'planned_timesteps': 48, 'replan_timesteps': 10, 'walk_com_height': 0.26, 'walk_foot_height': 0.025, 'walk_trunk_pitch': -8, 'walk_foot_rise_ratio': 0.1, 'single_support_duration': 0.45, 'single_support_timesteps': 10, 'foot_length': 0.16, 'feet_spacing': 0.19, 'zmp_margin': 0.0, 'foot_zmp_target_x': 0.0, 'foot_zmp_target_y': 0.0, 'walk_max_dtheta': 1.0, 'walk_max_dy': 0.1, 'walk_max_dx_forward': 0.1, 'walk_max_dx_backward': 0.1, 'joints': ['left_hip_yaw', 'left_hip_roll', 'left_hip_pitch', 'left_knee', 'left_ankle', 'neck_pitch', 'head_pitch', 'head_yaw', 'head_roll', 'left_antenna', 'right_antenna', 'right_hip_yaw', 'right_hip_roll', 'right_hip_pitch', 'right_knee', 'right_ankle'], 'joint_angles': {'head_pitch': 0, 'head_yaw': 0, 'head_roll': 0, 'neck_pitch': 0, 'left_antenna': 0, 'right_antenna': 0}}\n"
     ]
    },
    {
     "name": "stderr",
     "output_type": "stream",
     "text": [
      "WARNING: Robot has the following self collisions in neutral position:\n",
      "  -pelvis_0 collides with left_hip_rotation_0\n",
      "  -pelvis_0 collides with neck_0\n",
      "  -pelvis_0 collides with right_hip_rotation_0\n",
      "  -left_hip_rotation_0 collides with left_hip_0\n",
      "  -left_hip_0 collides with left_thigh_0\n",
      "  -left_thigh_0 collides with left_shin_0\n",
      "  -left_shin_0 collides with left_foot_link_0\n",
      "  -neck_0 collides with head_body_pitch_0\n",
      "  -head_body_pitch_0 collides with head_body_yaw_0\n",
      "  -head_body_yaw_0 collides with head_body_roll_0\n",
      "  -head_body_roll_0 collides with ear_left_0\n",
      "  -head_body_roll_0 collides with ear_right_0\n",
      "  -right_hip_rotation_0 collides with right_hip_0\n",
      "  -right_hip_0 collides with right_thigh_0\n",
      "  -right_thigh_0 collides with right_shin_0\n",
      "  -right_shin_0 collides with right_foot_link_0\n",
      "WARNING: Can't find head frames in the model, camera_look_at won't work\n"
     ]
    },
    {
     "name": "stdout",
     "output_type": "stream",
     "text": [
      "Placing the robot in the initial position...\n",
      "Initial position reached\n",
      "{'left_hip_yaw': -0.05367740330879669, 'left_hip_roll': -0.07683769751763384, 'left_hip_pitch': 0.18475466530836226, 'left_knee': 0.05482247538374608, 'left_ankle': 0.01117807991274011, 'neck_pitch': 0.0, 'head_pitch': 0.0, 'head_yaw': 0.0, 'head_roll': 0.0, 'left_antenna': 0.0, 'right_antenna': 0.0, 'right_hip_yaw': -0.04487233647718783, 'right_hip_roll': -0.014818807850783619, 'right_hip_pitch': -0.22322557435862805, 'right_knee': -0.14622681356518974, 'right_ankle': -0.06370793282740769}\n",
      "center_y_pos: -0.095\n",
      "recorded 600 frames\n",
      "avg lin_vel_x -0.0049\n",
      "avg lin_vel_y 0.0087\n",
      "avg yaw 0.1006\n",
      "DONE, saving ang_left_slow.json\n"
     ]
    },
    {
     "name": "stderr",
     "output_type": "stream",
     "text": [
      "<frozen importlib._bootstrap>:219: RuntimeWarning: to-Python converter for std::vector<std::__cxx11::basic_string<char, std::char_traits<char>, std::allocator<char> >, std::allocator<std::__cxx11::basic_string<char, std::char_traits<char>, std::allocator<char> > > > already registered; second conversion method ignored.\n",
      "<frozen importlib._bootstrap>:219: RuntimeWarning: to-Python converter for std::vector<double, std::allocator<double> > already registered; second conversion method ignored.\n",
      "<frozen importlib._bootstrap>:219: RuntimeWarning: to-Python converter for std::vector<int, std::allocator<int> > already registered; second conversion method ignored.\n"
     ]
    },
    {
     "name": "stdout",
     "output_type": "stream",
     "text": [
      "gait_parameters {'dx': 0.0, 'dy': 0.0, 'dtheta': -0.05, 'duration': 5, 'hardware': True, 'trunk_mode': True, 'double_support_ratio': 0.2, 'startend_double_support_ratio': 1.5, 'planned_timesteps': 48, 'replan_timesteps': 10, 'walk_com_height': 0.26, 'walk_foot_height': 0.025, 'walk_trunk_pitch': -8, 'walk_foot_rise_ratio': 0.1, 'single_support_duration': 0.45, 'single_support_timesteps': 10, 'foot_length': 0.16, 'feet_spacing': 0.19, 'zmp_margin': 0.0, 'foot_zmp_target_x': 0.0, 'foot_zmp_target_y': 0.0, 'walk_max_dtheta': 1.0, 'walk_max_dy': 0.1, 'walk_max_dx_forward': 0.1, 'walk_max_dx_backward': 0.1, 'joints': ['left_hip_yaw', 'left_hip_roll', 'left_hip_pitch', 'left_knee', 'left_ankle', 'neck_pitch', 'head_pitch', 'head_yaw', 'head_roll', 'left_antenna', 'right_antenna', 'right_hip_yaw', 'right_hip_roll', 'right_hip_pitch', 'right_knee', 'right_ankle'], 'joint_angles': {'head_pitch': 0, 'head_yaw': 0, 'head_roll': 0, 'neck_pitch': 0, 'left_antenna': 0, 'right_antenna': 0}}\n"
     ]
    },
    {
     "name": "stderr",
     "output_type": "stream",
     "text": [
      "WARNING: Robot has the following self collisions in neutral position:\n",
      "  -pelvis_0 collides with left_hip_rotation_0\n",
      "  -pelvis_0 collides with neck_0\n",
      "  -pelvis_0 collides with right_hip_rotation_0\n",
      "  -left_hip_rotation_0 collides with left_hip_0\n",
      "  -left_hip_0 collides with left_thigh_0\n",
      "  -left_thigh_0 collides with left_shin_0\n",
      "  -left_shin_0 collides with left_foot_link_0\n",
      "  -neck_0 collides with head_body_pitch_0\n",
      "  -head_body_pitch_0 collides with head_body_yaw_0\n",
      "  -head_body_yaw_0 collides with head_body_roll_0\n",
      "  -head_body_roll_0 collides with ear_left_0\n",
      "  -head_body_roll_0 collides with ear_right_0\n",
      "  -right_hip_rotation_0 collides with right_hip_0\n",
      "  -right_hip_0 collides with right_thigh_0\n",
      "  -right_thigh_0 collides with right_shin_0\n",
      "  -right_shin_0 collides with right_foot_link_0\n",
      "WARNING: Can't find head frames in the model, camera_look_at won't work\n"
     ]
    },
    {
     "name": "stdout",
     "output_type": "stream",
     "text": [
      "Placing the robot in the initial position...\n",
      "Initial position reached\n",
      "{'left_hip_yaw': -0.05367740330879669, 'left_hip_roll': -0.07683769751763384, 'left_hip_pitch': 0.184754665308362, 'left_knee': 0.05482247538374559, 'left_ankle': 0.011178079912739912, 'neck_pitch': 0.0, 'head_pitch': 0.0, 'head_yaw': 0.0, 'head_roll': 0.0, 'left_antenna': 0.0, 'right_antenna': 0.0, 'right_hip_yaw': -0.04487233647718782, 'right_hip_roll': -0.01481880785078359, 'right_hip_pitch': -0.22322557435862805, 'right_knee': -0.1462268135651897, 'right_ankle': -0.06370793282740768}\n",
      "center_y_pos: -0.095\n",
      "recorded 600 frames\n",
      "avg lin_vel_x 0.0027\n",
      "avg lin_vel_y -0.0011\n",
      "avg yaw -0.0683\n",
      "DONE, saving ang_right_slow.json\n"
     ]
    },
    {
     "name": "stderr",
     "output_type": "stream",
     "text": [
      "<frozen importlib._bootstrap>:219: RuntimeWarning: to-Python converter for std::vector<std::__cxx11::basic_string<char, std::char_traits<char>, std::allocator<char> >, std::allocator<std::__cxx11::basic_string<char, std::char_traits<char>, std::allocator<char> > > > already registered; second conversion method ignored.\n",
      "<frozen importlib._bootstrap>:219: RuntimeWarning: to-Python converter for std::vector<double, std::allocator<double> > already registered; second conversion method ignored.\n",
      "<frozen importlib._bootstrap>:219: RuntimeWarning: to-Python converter for std::vector<int, std::allocator<int> > already registered; second conversion method ignored.\n"
     ]
    },
    {
     "name": "stdout",
     "output_type": "stream",
     "text": [
      "gait_parameters {'dx': 0.0, 'dy': 0.0, 'dtheta': 0.0, 'duration': 5, 'hardware': True, 'trunk_mode': True, 'double_support_ratio': 0.2, 'startend_double_support_ratio': 1.5, 'planned_timesteps': 48, 'replan_timesteps': 10, 'walk_com_height': 0.26, 'walk_foot_height': 0.025, 'walk_trunk_pitch': -2, 'walk_foot_rise_ratio': 0.1, 'single_support_duration': 0.35, 'single_support_timesteps': 10, 'foot_length': 0.16, 'feet_spacing': 0.19, 'zmp_margin': 0.0, 'foot_zmp_target_x': 0.0, 'foot_zmp_target_y': 0.0, 'walk_max_dtheta': 1.0, 'walk_max_dy': 0.1, 'walk_max_dx_forward': 0.1, 'walk_max_dx_backward': 0.1, 'joints': ['left_hip_yaw', 'left_hip_roll', 'left_hip_pitch', 'left_knee', 'left_ankle', 'neck_pitch', 'head_pitch', 'head_yaw', 'head_roll', 'left_antenna', 'right_antenna', 'right_hip_yaw', 'right_hip_roll', 'right_hip_pitch', 'right_knee', 'right_ankle'], 'joint_angles': {'head_pitch': 0, 'head_yaw': 0, 'head_roll': 0, 'neck_pitch': 0, 'left_antenna': 0, 'right_antenna': 0}}\n"
     ]
    },
    {
     "name": "stderr",
     "output_type": "stream",
     "text": [
      "WARNING: Robot has the following self collisions in neutral position:\n",
      "  -pelvis_0 collides with left_hip_rotation_0\n",
      "  -pelvis_0 collides with neck_0\n",
      "  -pelvis_0 collides with right_hip_rotation_0\n",
      "  -left_hip_rotation_0 collides with left_hip_0\n",
      "  -left_hip_0 collides with left_thigh_0\n",
      "  -left_thigh_0 collides with left_shin_0\n",
      "  -left_shin_0 collides with left_foot_link_0\n",
      "  -neck_0 collides with head_body_pitch_0\n",
      "  -head_body_pitch_0 collides with head_body_yaw_0\n",
      "  -head_body_yaw_0 collides with head_body_roll_0\n",
      "  -head_body_roll_0 collides with ear_left_0\n",
      "  -head_body_roll_0 collides with ear_right_0\n",
      "  -right_hip_rotation_0 collides with right_hip_0\n",
      "  -right_hip_0 collides with right_thigh_0\n",
      "  -right_thigh_0 collides with right_shin_0\n",
      "  -right_shin_0 collides with right_foot_link_0\n",
      "WARNING: Can't find head frames in the model, camera_look_at won't work\n"
     ]
    },
    {
     "name": "stdout",
     "output_type": "stream",
     "text": [
      "Placing the robot in the initial position...\n",
      "Initial position reached\n",
      "{'left_hip_yaw': -0.05081933526338989, 'left_hip_roll': -0.07711495926323925, 'left_hip_pitch': 0.09954380185031157, 'left_knee': 0.06707963019327579, 'left_ankle': 0.003745663729996652, 'neck_pitch': 0.0, 'head_pitch': 0.0, 'head_yaw': 0.0, 'head_roll': 0.0, 'left_antenna': 0.0, 'right_antenna': 0.0, 'right_hip_yaw': -0.04855295641447677, 'right_hip_roll': -0.014517748049874421, 'right_hip_pitch': -0.13273480966972254, 'right_knee': -0.15354714313733298, 'right_ankle': -0.05691831705714387}\n",
      "center_y_pos: -0.095\n",
      "recorded 600 frames\n",
      "avg lin_vel_x 0.0004\n",
      "avg lin_vel_y 0.004\n",
      "avg yaw 0.0206\n",
      "DONE, saving standing_medium.json\n"
     ]
    },
    {
     "name": "stderr",
     "output_type": "stream",
     "text": [
      "<frozen importlib._bootstrap>:219: RuntimeWarning: to-Python converter for std::vector<std::__cxx11::basic_string<char, std::char_traits<char>, std::allocator<char> >, std::allocator<std::__cxx11::basic_string<char, std::char_traits<char>, std::allocator<char> > > > already registered; second conversion method ignored.\n",
      "<frozen importlib._bootstrap>:219: RuntimeWarning: to-Python converter for std::vector<double, std::allocator<double> > already registered; second conversion method ignored.\n",
      "<frozen importlib._bootstrap>:219: RuntimeWarning: to-Python converter for std::vector<int, std::allocator<int> > already registered; second conversion method ignored.\n"
     ]
    },
    {
     "name": "stdout",
     "output_type": "stream",
     "text": [
      "gait_parameters {'dx': 0.1, 'dy': 0.0, 'dtheta': 0.0, 'duration': 5, 'hardware': True, 'trunk_mode': True, 'double_support_ratio': 0.2, 'startend_double_support_ratio': 1.5, 'planned_timesteps': 48, 'replan_timesteps': 10, 'walk_com_height': 0.26, 'walk_foot_height': 0.025, 'walk_trunk_pitch': -2, 'walk_foot_rise_ratio': 0.1, 'single_support_duration': 0.35, 'single_support_timesteps': 10, 'foot_length': 0.16, 'feet_spacing': 0.19, 'zmp_margin': 0.0, 'foot_zmp_target_x': 0.0, 'foot_zmp_target_y': 0.0, 'walk_max_dtheta': 1.0, 'walk_max_dy': 0.1, 'walk_max_dx_forward': 0.1, 'walk_max_dx_backward': 0.1, 'joints': ['left_hip_yaw', 'left_hip_roll', 'left_hip_pitch', 'left_knee', 'left_ankle', 'neck_pitch', 'head_pitch', 'head_yaw', 'head_roll', 'left_antenna', 'right_antenna', 'right_hip_yaw', 'right_hip_roll', 'right_hip_pitch', 'right_knee', 'right_ankle'], 'joint_angles': {'head_pitch': 0, 'head_yaw': 0, 'head_roll': 0, 'neck_pitch': 0, 'left_antenna': 0, 'right_antenna': 0}}\n"
     ]
    },
    {
     "name": "stderr",
     "output_type": "stream",
     "text": [
      "WARNING: Robot has the following self collisions in neutral position:\n",
      "  -pelvis_0 collides with left_hip_rotation_0\n",
      "  -pelvis_0 collides with neck_0\n",
      "  -pelvis_0 collides with right_hip_rotation_0\n",
      "  -left_hip_rotation_0 collides with left_hip_0\n",
      "  -left_hip_0 collides with left_thigh_0\n",
      "  -left_thigh_0 collides with left_shin_0\n",
      "  -left_shin_0 collides with left_foot_link_0\n",
      "  -neck_0 collides with head_body_pitch_0\n",
      "  -head_body_pitch_0 collides with head_body_yaw_0\n",
      "  -head_body_yaw_0 collides with head_body_roll_0\n",
      "  -head_body_roll_0 collides with ear_left_0\n",
      "  -head_body_roll_0 collides with ear_right_0\n",
      "  -right_hip_rotation_0 collides with right_hip_0\n",
      "  -right_hip_0 collides with right_thigh_0\n",
      "  -right_thigh_0 collides with right_shin_0\n",
      "  -right_shin_0 collides with right_foot_link_0\n",
      "WARNING: Can't find head frames in the model, camera_look_at won't work\n"
     ]
    },
    {
     "name": "stdout",
     "output_type": "stream",
     "text": [
      "Placing the robot in the initial position...\n",
      "Initial position reached\n",
      "{'left_hip_yaw': -0.05081933526338989, 'left_hip_roll': -0.07711495926323925, 'left_hip_pitch': 0.09954380185031157, 'left_knee': 0.06707963019327579, 'left_ankle': 0.003745663729996652, 'neck_pitch': 0.0, 'head_pitch': 0.0, 'head_yaw': 0.0, 'head_roll': 0.0, 'left_antenna': 0.0, 'right_antenna': 0.0, 'right_hip_yaw': -0.04855295641447677, 'right_hip_roll': -0.014517748049874421, 'right_hip_pitch': -0.13273480966972254, 'right_knee': -0.15354714313733298, 'right_ankle': -0.05691831705714387}\n",
      "center_y_pos: -0.095\n",
      "recorded 600 frames\n",
      "avg lin_vel_x 0.2163\n",
      "avg lin_vel_y 0.0255\n",
      "avg yaw 0.0206\n",
      "DONE, saving forward_medium.json\n"
     ]
    },
    {
     "name": "stderr",
     "output_type": "stream",
     "text": [
      "<frozen importlib._bootstrap>:219: RuntimeWarning: to-Python converter for std::vector<std::__cxx11::basic_string<char, std::char_traits<char>, std::allocator<char> >, std::allocator<std::__cxx11::basic_string<char, std::char_traits<char>, std::allocator<char> > > > already registered; second conversion method ignored.\n",
      "<frozen importlib._bootstrap>:219: RuntimeWarning: to-Python converter for std::vector<double, std::allocator<double> > already registered; second conversion method ignored.\n",
      "<frozen importlib._bootstrap>:219: RuntimeWarning: to-Python converter for std::vector<int, std::allocator<int> > already registered; second conversion method ignored.\n"
     ]
    },
    {
     "name": "stdout",
     "output_type": "stream",
     "text": [
      "gait_parameters {'dx': -0.1, 'dy': 0.0, 'dtheta': 0.0, 'duration': 5, 'hardware': True, 'trunk_mode': True, 'double_support_ratio': 0.2, 'startend_double_support_ratio': 1.5, 'planned_timesteps': 48, 'replan_timesteps': 10, 'walk_com_height': 0.26, 'walk_foot_height': 0.025, 'walk_trunk_pitch': -2, 'walk_foot_rise_ratio': 0.1, 'single_support_duration': 0.35, 'single_support_timesteps': 10, 'foot_length': 0.16, 'feet_spacing': 0.19, 'zmp_margin': 0.0, 'foot_zmp_target_x': 0.0, 'foot_zmp_target_y': 0.0, 'walk_max_dtheta': 1.0, 'walk_max_dy': 0.1, 'walk_max_dx_forward': 0.1, 'walk_max_dx_backward': 0.1, 'joints': ['left_hip_yaw', 'left_hip_roll', 'left_hip_pitch', 'left_knee', 'left_ankle', 'neck_pitch', 'head_pitch', 'head_yaw', 'head_roll', 'left_antenna', 'right_antenna', 'right_hip_yaw', 'right_hip_roll', 'right_hip_pitch', 'right_knee', 'right_ankle'], 'joint_angles': {'head_pitch': 0, 'head_yaw': 0, 'head_roll': 0, 'neck_pitch': 0, 'left_antenna': 0, 'right_antenna': 0}}\n"
     ]
    },
    {
     "name": "stderr",
     "output_type": "stream",
     "text": [
      "WARNING: Robot has the following self collisions in neutral position:\n",
      "  -pelvis_0 collides with left_hip_rotation_0\n",
      "  -pelvis_0 collides with neck_0\n",
      "  -pelvis_0 collides with right_hip_rotation_0\n",
      "  -left_hip_rotation_0 collides with left_hip_0\n",
      "  -left_hip_0 collides with left_thigh_0\n",
      "  -left_thigh_0 collides with left_shin_0\n",
      "  -left_shin_0 collides with left_foot_link_0\n",
      "  -neck_0 collides with head_body_pitch_0\n",
      "  -head_body_pitch_0 collides with head_body_yaw_0\n",
      "  -head_body_yaw_0 collides with head_body_roll_0\n",
      "  -head_body_roll_0 collides with ear_left_0\n",
      "  -head_body_roll_0 collides with ear_right_0\n",
      "  -right_hip_rotation_0 collides with right_hip_0\n",
      "  -right_hip_0 collides with right_thigh_0\n",
      "  -right_thigh_0 collides with right_shin_0\n",
      "  -right_shin_0 collides with right_foot_link_0\n",
      "WARNING: Can't find head frames in the model, camera_look_at won't work\n"
     ]
    },
    {
     "name": "stdout",
     "output_type": "stream",
     "text": [
      "Placing the robot in the initial position...\n",
      "Initial position reached\n",
      "{'left_hip_yaw': -0.05081933526338989, 'left_hip_roll': -0.07711495926323925, 'left_hip_pitch': 0.09954380185031157, 'left_knee': 0.06707963019327579, 'left_ankle': 0.003745663729996652, 'neck_pitch': 0.0, 'head_pitch': 0.0, 'head_yaw': 0.0, 'head_roll': 0.0, 'left_antenna': 0.0, 'right_antenna': 0.0, 'right_hip_yaw': -0.04855295641447677, 'right_hip_roll': -0.014517748049874421, 'right_hip_pitch': -0.13273480966972254, 'right_knee': -0.15354714313733298, 'right_ankle': -0.05691831705714387}\n",
      "center_y_pos: -0.095\n",
      "recorded 600 frames\n",
      "avg lin_vel_x -0.2155\n",
      "avg lin_vel_y -0.0174\n",
      "avg yaw 0.0206\n",
      "DONE, saving backward_medium.json\n"
     ]
    },
    {
     "name": "stderr",
     "output_type": "stream",
     "text": [
      "<frozen importlib._bootstrap>:219: RuntimeWarning: to-Python converter for std::vector<std::__cxx11::basic_string<char, std::char_traits<char>, std::allocator<char> >, std::allocator<std::__cxx11::basic_string<char, std::char_traits<char>, std::allocator<char> > > > already registered; second conversion method ignored.\n",
      "<frozen importlib._bootstrap>:219: RuntimeWarning: to-Python converter for std::vector<double, std::allocator<double> > already registered; second conversion method ignored.\n",
      "<frozen importlib._bootstrap>:219: RuntimeWarning: to-Python converter for std::vector<int, std::allocator<int> > already registered; second conversion method ignored.\n"
     ]
    },
    {
     "name": "stdout",
     "output_type": "stream",
     "text": [
      "gait_parameters {'dx': 0.0, 'dy': 0.1, 'dtheta': 0.0, 'duration': 5, 'hardware': True, 'trunk_mode': True, 'double_support_ratio': 0.2, 'startend_double_support_ratio': 1.5, 'planned_timesteps': 48, 'replan_timesteps': 10, 'walk_com_height': 0.26, 'walk_foot_height': 0.025, 'walk_trunk_pitch': -2, 'walk_foot_rise_ratio': 0.1, 'single_support_duration': 0.35, 'single_support_timesteps': 10, 'foot_length': 0.16, 'feet_spacing': 0.19, 'zmp_margin': 0.0, 'foot_zmp_target_x': 0.0, 'foot_zmp_target_y': 0.0, 'walk_max_dtheta': 1.0, 'walk_max_dy': 0.1, 'walk_max_dx_forward': 0.1, 'walk_max_dx_backward': 0.1, 'joints': ['left_hip_yaw', 'left_hip_roll', 'left_hip_pitch', 'left_knee', 'left_ankle', 'neck_pitch', 'head_pitch', 'head_yaw', 'head_roll', 'left_antenna', 'right_antenna', 'right_hip_yaw', 'right_hip_roll', 'right_hip_pitch', 'right_knee', 'right_ankle'], 'joint_angles': {'head_pitch': 0, 'head_yaw': 0, 'head_roll': 0, 'neck_pitch': 0, 'left_antenna': 0, 'right_antenna': 0}}\n"
     ]
    },
    {
     "name": "stderr",
     "output_type": "stream",
     "text": [
      "WARNING: Robot has the following self collisions in neutral position:\n",
      "  -pelvis_0 collides with left_hip_rotation_0\n",
      "  -pelvis_0 collides with neck_0\n",
      "  -pelvis_0 collides with right_hip_rotation_0\n",
      "  -left_hip_rotation_0 collides with left_hip_0\n",
      "  -left_hip_0 collides with left_thigh_0\n",
      "  -left_thigh_0 collides with left_shin_0\n",
      "  -left_shin_0 collides with left_foot_link_0\n",
      "  -neck_0 collides with head_body_pitch_0\n",
      "  -head_body_pitch_0 collides with head_body_yaw_0\n",
      "  -head_body_yaw_0 collides with head_body_roll_0\n",
      "  -head_body_roll_0 collides with ear_left_0\n",
      "  -head_body_roll_0 collides with ear_right_0\n",
      "  -right_hip_rotation_0 collides with right_hip_0\n",
      "  -right_hip_0 collides with right_thigh_0\n",
      "  -right_thigh_0 collides with right_shin_0\n",
      "  -right_shin_0 collides with right_foot_link_0\n",
      "WARNING: Can't find head frames in the model, camera_look_at won't work\n"
     ]
    },
    {
     "name": "stdout",
     "output_type": "stream",
     "text": [
      "Placing the robot in the initial position...\n",
      "Initial position reached\n",
      "{'left_hip_yaw': -0.05081933526338989, 'left_hip_roll': -0.07711495926323925, 'left_hip_pitch': 0.09954380185031173, 'left_knee': 0.06707963019327612, 'left_ankle': 0.0037456637299968397, 'neck_pitch': 0.0, 'head_pitch': 0.0, 'head_yaw': 0.0, 'head_roll': 0.0, 'left_antenna': 0.0, 'right_antenna': 0.0, 'right_hip_yaw': -0.04855295641447677, 'right_hip_roll': -0.01451774804987445, 'right_hip_pitch': -0.1327348096697223, 'right_knee': -0.15354714313733264, 'right_ankle': -0.05691831705714378}\n",
      "center_y_pos: -0.095\n",
      "recorded 600 frames\n",
      "avg lin_vel_x -0.0136\n",
      "avg lin_vel_y 0.1822\n",
      "avg yaw 0.0169\n",
      "DONE, saving left_medium.json\n"
     ]
    },
    {
     "name": "stderr",
     "output_type": "stream",
     "text": [
      "<frozen importlib._bootstrap>:219: RuntimeWarning: to-Python converter for std::vector<std::__cxx11::basic_string<char, std::char_traits<char>, std::allocator<char> >, std::allocator<std::__cxx11::basic_string<char, std::char_traits<char>, std::allocator<char> > > > already registered; second conversion method ignored.\n",
      "<frozen importlib._bootstrap>:219: RuntimeWarning: to-Python converter for std::vector<double, std::allocator<double> > already registered; second conversion method ignored.\n",
      "<frozen importlib._bootstrap>:219: RuntimeWarning: to-Python converter for std::vector<int, std::allocator<int> > already registered; second conversion method ignored.\n"
     ]
    },
    {
     "name": "stdout",
     "output_type": "stream",
     "text": [
      "gait_parameters {'dx': 0.0, 'dy': -0.1, 'dtheta': 0.0, 'duration': 5, 'hardware': True, 'trunk_mode': True, 'double_support_ratio': 0.2, 'startend_double_support_ratio': 1.5, 'planned_timesteps': 48, 'replan_timesteps': 10, 'walk_com_height': 0.26, 'walk_foot_height': 0.025, 'walk_trunk_pitch': -2, 'walk_foot_rise_ratio': 0.1, 'single_support_duration': 0.35, 'single_support_timesteps': 10, 'foot_length': 0.16, 'feet_spacing': 0.19, 'zmp_margin': 0.0, 'foot_zmp_target_x': 0.0, 'foot_zmp_target_y': 0.0, 'walk_max_dtheta': 1.0, 'walk_max_dy': 0.1, 'walk_max_dx_forward': 0.1, 'walk_max_dx_backward': 0.1, 'joints': ['left_hip_yaw', 'left_hip_roll', 'left_hip_pitch', 'left_knee', 'left_ankle', 'neck_pitch', 'head_pitch', 'head_yaw', 'head_roll', 'left_antenna', 'right_antenna', 'right_hip_yaw', 'right_hip_roll', 'right_hip_pitch', 'right_knee', 'right_ankle'], 'joint_angles': {'head_pitch': 0, 'head_yaw': 0, 'head_roll': 0, 'neck_pitch': 0, 'left_antenna': 0, 'right_antenna': 0}}\n"
     ]
    },
    {
     "name": "stderr",
     "output_type": "stream",
     "text": [
      "WARNING: Robot has the following self collisions in neutral position:\n",
      "  -pelvis_0 collides with left_hip_rotation_0\n",
      "  -pelvis_0 collides with neck_0\n",
      "  -pelvis_0 collides with right_hip_rotation_0\n",
      "  -left_hip_rotation_0 collides with left_hip_0\n",
      "  -left_hip_0 collides with left_thigh_0\n",
      "  -left_thigh_0 collides with left_shin_0\n",
      "  -left_shin_0 collides with left_foot_link_0\n",
      "  -neck_0 collides with head_body_pitch_0\n",
      "  -head_body_pitch_0 collides with head_body_yaw_0\n",
      "  -head_body_yaw_0 collides with head_body_roll_0\n",
      "  -head_body_roll_0 collides with ear_left_0\n",
      "  -head_body_roll_0 collides with ear_right_0\n",
      "  -right_hip_rotation_0 collides with right_hip_0\n",
      "  -right_hip_0 collides with right_thigh_0\n",
      "  -right_thigh_0 collides with right_shin_0\n",
      "  -right_shin_0 collides with right_foot_link_0\n",
      "WARNING: Can't find head frames in the model, camera_look_at won't work\n"
     ]
    },
    {
     "name": "stdout",
     "output_type": "stream",
     "text": [
      "Placing the robot in the initial position...\n",
      "Initial position reached\n",
      "{'left_hip_yaw': -0.05081933526338989, 'left_hip_roll': -0.07711495926323925, 'left_hip_pitch': 0.09954380185031173, 'left_knee': 0.06707963019327612, 'left_ankle': 0.0037456637299968397, 'neck_pitch': 0.0, 'head_pitch': 0.0, 'head_yaw': 0.0, 'head_roll': 0.0, 'left_antenna': 0.0, 'right_antenna': 0.0, 'right_hip_yaw': -0.04855295641447677, 'right_hip_roll': -0.01451774804987445, 'right_hip_pitch': -0.1327348096697223, 'right_knee': -0.15354714313733264, 'right_ankle': -0.05691831705714378}\n",
      "center_y_pos: -0.095\n",
      "recorded 600 frames\n",
      "avg lin_vel_x 0.015\n",
      "avg lin_vel_y -0.1755\n",
      "avg yaw 0.0171\n",
      "DONE, saving right_medium.json\n"
     ]
    },
    {
     "name": "stderr",
     "output_type": "stream",
     "text": [
      "<frozen importlib._bootstrap>:219: RuntimeWarning: to-Python converter for std::vector<std::__cxx11::basic_string<char, std::char_traits<char>, std::allocator<char> >, std::allocator<std::__cxx11::basic_string<char, std::char_traits<char>, std::allocator<char> > > > already registered; second conversion method ignored.\n",
      "<frozen importlib._bootstrap>:219: RuntimeWarning: to-Python converter for std::vector<double, std::allocator<double> > already registered; second conversion method ignored.\n",
      "<frozen importlib._bootstrap>:219: RuntimeWarning: to-Python converter for std::vector<int, std::allocator<int> > already registered; second conversion method ignored.\n"
     ]
    },
    {
     "name": "stdout",
     "output_type": "stream",
     "text": [
      "gait_parameters {'dx': 0.0, 'dy': 0.0, 'dtheta': 0.1, 'duration': 5, 'hardware': True, 'trunk_mode': True, 'double_support_ratio': 0.2, 'startend_double_support_ratio': 1.5, 'planned_timesteps': 48, 'replan_timesteps': 10, 'walk_com_height': 0.26, 'walk_foot_height': 0.025, 'walk_trunk_pitch': -2, 'walk_foot_rise_ratio': 0.1, 'single_support_duration': 0.35, 'single_support_timesteps': 10, 'foot_length': 0.16, 'feet_spacing': 0.19, 'zmp_margin': 0.0, 'foot_zmp_target_x': 0.0, 'foot_zmp_target_y': 0.0, 'walk_max_dtheta': 1.0, 'walk_max_dy': 0.1, 'walk_max_dx_forward': 0.1, 'walk_max_dx_backward': 0.1, 'joints': ['left_hip_yaw', 'left_hip_roll', 'left_hip_pitch', 'left_knee', 'left_ankle', 'neck_pitch', 'head_pitch', 'head_yaw', 'head_roll', 'left_antenna', 'right_antenna', 'right_hip_yaw', 'right_hip_roll', 'right_hip_pitch', 'right_knee', 'right_ankle'], 'joint_angles': {'head_pitch': 0, 'head_yaw': 0, 'head_roll': 0, 'neck_pitch': 0, 'left_antenna': 0, 'right_antenna': 0}}\n"
     ]
    },
    {
     "name": "stderr",
     "output_type": "stream",
     "text": [
      "WARNING: Robot has the following self collisions in neutral position:\n",
      "  -pelvis_0 collides with left_hip_rotation_0\n",
      "  -pelvis_0 collides with neck_0\n",
      "  -pelvis_0 collides with right_hip_rotation_0\n",
      "  -left_hip_rotation_0 collides with left_hip_0\n",
      "  -left_hip_0 collides with left_thigh_0\n",
      "  -left_thigh_0 collides with left_shin_0\n",
      "  -left_shin_0 collides with left_foot_link_0\n",
      "  -neck_0 collides with head_body_pitch_0\n",
      "  -head_body_pitch_0 collides with head_body_yaw_0\n",
      "  -head_body_yaw_0 collides with head_body_roll_0\n",
      "  -head_body_roll_0 collides with ear_left_0\n",
      "  -head_body_roll_0 collides with ear_right_0\n",
      "  -right_hip_rotation_0 collides with right_hip_0\n",
      "  -right_hip_0 collides with right_thigh_0\n",
      "  -right_thigh_0 collides with right_shin_0\n",
      "  -right_shin_0 collides with right_foot_link_0\n",
      "WARNING: Can't find head frames in the model, camera_look_at won't work\n"
     ]
    },
    {
     "name": "stdout",
     "output_type": "stream",
     "text": [
      "Placing the robot in the initial position...\n",
      "Initial position reached\n",
      "{'left_hip_yaw': -0.05081933526338989, 'left_hip_roll': -0.07711495926323925, 'left_hip_pitch': 0.09954380185031157, 'left_knee': 0.06707963019327579, 'left_ankle': 0.003745663729996652, 'neck_pitch': 0.0, 'head_pitch': 0.0, 'head_yaw': 0.0, 'head_roll': 0.0, 'left_antenna': 0.0, 'right_antenna': 0.0, 'right_hip_yaw': -0.04855295641447677, 'right_hip_roll': -0.014517748049874421, 'right_hip_pitch': -0.13273480966972254, 'right_knee': -0.15354714313733298, 'right_ankle': -0.05691831705714387}\n",
      "center_y_pos: -0.095\n",
      "recorded 600 frames\n",
      "avg lin_vel_x -0.0089\n",
      "avg lin_vel_y 0.0008\n",
      "avg yaw 0.2359\n",
      "DONE, saving ang_left_medium.json\n"
     ]
    },
    {
     "name": "stderr",
     "output_type": "stream",
     "text": [
      "<frozen importlib._bootstrap>:219: RuntimeWarning: to-Python converter for std::vector<std::__cxx11::basic_string<char, std::char_traits<char>, std::allocator<char> >, std::allocator<std::__cxx11::basic_string<char, std::char_traits<char>, std::allocator<char> > > > already registered; second conversion method ignored.\n",
      "<frozen importlib._bootstrap>:219: RuntimeWarning: to-Python converter for std::vector<double, std::allocator<double> > already registered; second conversion method ignored.\n",
      "<frozen importlib._bootstrap>:219: RuntimeWarning: to-Python converter for std::vector<int, std::allocator<int> > already registered; second conversion method ignored.\n"
     ]
    },
    {
     "name": "stdout",
     "output_type": "stream",
     "text": [
      "gait_parameters {'dx': 0.0, 'dy': 0.0, 'dtheta': -0.1, 'duration': 5, 'hardware': True, 'trunk_mode': True, 'double_support_ratio': 0.2, 'startend_double_support_ratio': 1.5, 'planned_timesteps': 48, 'replan_timesteps': 10, 'walk_com_height': 0.26, 'walk_foot_height': 0.025, 'walk_trunk_pitch': -2, 'walk_foot_rise_ratio': 0.1, 'single_support_duration': 0.35, 'single_support_timesteps': 10, 'foot_length': 0.16, 'feet_spacing': 0.19, 'zmp_margin': 0.0, 'foot_zmp_target_x': 0.0, 'foot_zmp_target_y': 0.0, 'walk_max_dtheta': 1.0, 'walk_max_dy': 0.1, 'walk_max_dx_forward': 0.1, 'walk_max_dx_backward': 0.1, 'joints': ['left_hip_yaw', 'left_hip_roll', 'left_hip_pitch', 'left_knee', 'left_ankle', 'neck_pitch', 'head_pitch', 'head_yaw', 'head_roll', 'left_antenna', 'right_antenna', 'right_hip_yaw', 'right_hip_roll', 'right_hip_pitch', 'right_knee', 'right_ankle'], 'joint_angles': {'head_pitch': 0, 'head_yaw': 0, 'head_roll': 0, 'neck_pitch': 0, 'left_antenna': 0, 'right_antenna': 0}}\n"
     ]
    },
    {
     "name": "stderr",
     "output_type": "stream",
     "text": [
      "WARNING: Robot has the following self collisions in neutral position:\n",
      "  -pelvis_0 collides with left_hip_rotation_0\n",
      "  -pelvis_0 collides with neck_0\n",
      "  -pelvis_0 collides with right_hip_rotation_0\n",
      "  -left_hip_rotation_0 collides with left_hip_0\n",
      "  -left_hip_0 collides with left_thigh_0\n",
      "  -left_thigh_0 collides with left_shin_0\n",
      "  -left_shin_0 collides with left_foot_link_0\n",
      "  -neck_0 collides with head_body_pitch_0\n",
      "  -head_body_pitch_0 collides with head_body_yaw_0\n",
      "  -head_body_yaw_0 collides with head_body_roll_0\n",
      "  -head_body_roll_0 collides with ear_left_0\n",
      "  -head_body_roll_0 collides with ear_right_0\n",
      "  -right_hip_rotation_0 collides with right_hip_0\n",
      "  -right_hip_0 collides with right_thigh_0\n",
      "  -right_thigh_0 collides with right_shin_0\n",
      "  -right_shin_0 collides with right_foot_link_0\n",
      "WARNING: Can't find head frames in the model, camera_look_at won't work\n"
     ]
    },
    {
     "name": "stdout",
     "output_type": "stream",
     "text": [
      "Placing the robot in the initial position...\n",
      "Initial position reached\n",
      "{'left_hip_yaw': -0.05081933526338989, 'left_hip_roll': -0.07711495926323925, 'left_hip_pitch': 0.09954380185031157, 'left_knee': 0.06707963019327579, 'left_ankle': 0.003745663729996652, 'neck_pitch': 0.0, 'head_pitch': 0.0, 'head_yaw': 0.0, 'head_roll': 0.0, 'left_antenna': 0.0, 'right_antenna': 0.0, 'right_hip_yaw': -0.04855295641447677, 'right_hip_roll': -0.014517748049874421, 'right_hip_pitch': -0.13273480966972254, 'right_knee': -0.15354714313733298, 'right_ankle': -0.05691831705714387}\n",
      "center_y_pos: -0.095\n",
      "recorded 600 frames\n",
      "avg lin_vel_x -0.0017\n",
      "avg lin_vel_y -0.0053\n",
      "avg yaw -0.1947\n",
      "DONE, saving ang_right_medium.json\n"
     ]
    },
    {
     "name": "stderr",
     "output_type": "stream",
     "text": [
      "<frozen importlib._bootstrap>:219: RuntimeWarning: to-Python converter for std::vector<std::__cxx11::basic_string<char, std::char_traits<char>, std::allocator<char> >, std::allocator<std::__cxx11::basic_string<char, std::char_traits<char>, std::allocator<char> > > > already registered; second conversion method ignored.\n",
      "<frozen importlib._bootstrap>:219: RuntimeWarning: to-Python converter for std::vector<double, std::allocator<double> > already registered; second conversion method ignored.\n",
      "<frozen importlib._bootstrap>:219: RuntimeWarning: to-Python converter for std::vector<int, std::allocator<int> > already registered; second conversion method ignored.\n"
     ]
    },
    {
     "name": "stdout",
     "output_type": "stream",
     "text": [
      "gait_parameters {'dx': 0.0, 'dy': 0.0, 'dtheta': 0.0, 'duration': 5, 'hardware': True, 'trunk_mode': True, 'double_support_ratio': 0.2, 'startend_double_support_ratio': 1.5, 'planned_timesteps': 48, 'replan_timesteps': 10, 'walk_com_height': 0.26, 'walk_foot_height': 0.025, 'walk_trunk_pitch': 6, 'walk_foot_rise_ratio': 0.1, 'single_support_duration': 0.25, 'single_support_timesteps': 10, 'foot_length': 0.16, 'feet_spacing': 0.19, 'zmp_margin': 0.0, 'foot_zmp_target_x': 0.0, 'foot_zmp_target_y': 0.0, 'walk_max_dtheta': 1.0, 'walk_max_dy': 0.1, 'walk_max_dx_forward': 0.1, 'walk_max_dx_backward': 0.1, 'joints': ['left_hip_yaw', 'left_hip_roll', 'left_hip_pitch', 'left_knee', 'left_ankle', 'neck_pitch', 'head_pitch', 'head_yaw', 'head_roll', 'left_antenna', 'right_antenna', 'right_hip_yaw', 'right_hip_roll', 'right_hip_pitch', 'right_knee', 'right_ankle'], 'joint_angles': {'head_pitch': 0, 'head_yaw': 0, 'head_roll': 0, 'neck_pitch': 0, 'left_antenna': 0, 'right_antenna': 0}}\n"
     ]
    },
    {
     "name": "stderr",
     "output_type": "stream",
     "text": [
      "WARNING: Robot has the following self collisions in neutral position:\n",
      "  -pelvis_0 collides with left_hip_rotation_0\n",
      "  -pelvis_0 collides with neck_0\n",
      "  -pelvis_0 collides with right_hip_rotation_0\n",
      "  -left_hip_rotation_0 collides with left_hip_0\n",
      "  -left_hip_0 collides with left_thigh_0\n",
      "  -left_thigh_0 collides with left_shin_0\n",
      "  -left_shin_0 collides with left_foot_link_0\n",
      "  -neck_0 collides with head_body_pitch_0\n",
      "  -head_body_pitch_0 collides with head_body_yaw_0\n",
      "  -head_body_yaw_0 collides with head_body_roll_0\n",
      "  -head_body_roll_0 collides with ear_left_0\n",
      "  -head_body_roll_0 collides with ear_right_0\n",
      "  -right_hip_rotation_0 collides with right_hip_0\n",
      "  -right_hip_0 collides with right_thigh_0\n",
      "  -right_thigh_0 collides with right_shin_0\n",
      "  -right_shin_0 collides with right_foot_link_0\n",
      "WARNING: Can't find head frames in the model, camera_look_at won't work\n"
     ]
    },
    {
     "name": "stdout",
     "output_type": "stream",
     "text": [
      "Placing the robot in the initial position...\n",
      "Initial position reached\n",
      "{'left_hip_yaw': -0.04698557882467102, 'left_hip_roll': -0.07705313755643177, 'left_hip_pitch': -0.011694935942325069, 'left_knee': 0.08853622760664163, 'left_ankle': -0.00342832807612626, 'neck_pitch': 0.0, 'head_pitch': 0.0, 'head_yaw': 0.0, 'head_roll': 0.0, 'left_antenna': 0.0, 'right_antenna': 0.0, 'right_hip_yaw': -0.053470643222330076, 'right_hip_roll': -0.014681260217830859, 'right_hip_pitch': -0.013911263115788436, 'right_knee': -0.16717212273305712, 'right_ankle': -0.04989886113874984}\n",
      "center_y_pos: -0.095\n",
      "recorded 600 frames\n",
      "avg lin_vel_x 0.0004\n",
      "avg lin_vel_y -0.0003\n",
      "avg yaw 0.0306\n",
      "DONE, saving standing_fast.json\n"
     ]
    },
    {
     "name": "stderr",
     "output_type": "stream",
     "text": [
      "<frozen importlib._bootstrap>:219: RuntimeWarning: to-Python converter for std::vector<std::__cxx11::basic_string<char, std::char_traits<char>, std::allocator<char> >, std::allocator<std::__cxx11::basic_string<char, std::char_traits<char>, std::allocator<char> > > > already registered; second conversion method ignored.\n",
      "<frozen importlib._bootstrap>:219: RuntimeWarning: to-Python converter for std::vector<double, std::allocator<double> > already registered; second conversion method ignored.\n",
      "<frozen importlib._bootstrap>:219: RuntimeWarning: to-Python converter for std::vector<int, std::allocator<int> > already registered; second conversion method ignored.\n"
     ]
    },
    {
     "name": "stdout",
     "output_type": "stream",
     "text": [
      "gait_parameters {'dx': 0.2, 'dy': 0.0, 'dtheta': 0.0, 'duration': 5, 'hardware': True, 'trunk_mode': True, 'double_support_ratio': 0.2, 'startend_double_support_ratio': 1.5, 'planned_timesteps': 48, 'replan_timesteps': 10, 'walk_com_height': 0.26, 'walk_foot_height': 0.025, 'walk_trunk_pitch': 6, 'walk_foot_rise_ratio': 0.1, 'single_support_duration': 0.25, 'single_support_timesteps': 10, 'foot_length': 0.16, 'feet_spacing': 0.19, 'zmp_margin': 0.0, 'foot_zmp_target_x': 0.0, 'foot_zmp_target_y': 0.0, 'walk_max_dtheta': 1.0, 'walk_max_dy': 0.1, 'walk_max_dx_forward': 0.1, 'walk_max_dx_backward': 0.1, 'joints': ['left_hip_yaw', 'left_hip_roll', 'left_hip_pitch', 'left_knee', 'left_ankle', 'neck_pitch', 'head_pitch', 'head_yaw', 'head_roll', 'left_antenna', 'right_antenna', 'right_hip_yaw', 'right_hip_roll', 'right_hip_pitch', 'right_knee', 'right_ankle'], 'joint_angles': {'head_pitch': 0, 'head_yaw': 0, 'head_roll': 0, 'neck_pitch': 0, 'left_antenna': 0, 'right_antenna': 0}}\n"
     ]
    },
    {
     "name": "stderr",
     "output_type": "stream",
     "text": [
      "WARNING: Robot has the following self collisions in neutral position:\n",
      "  -pelvis_0 collides with left_hip_rotation_0\n",
      "  -pelvis_0 collides with neck_0\n",
      "  -pelvis_0 collides with right_hip_rotation_0\n",
      "  -left_hip_rotation_0 collides with left_hip_0\n",
      "  -left_hip_0 collides with left_thigh_0\n",
      "  -left_thigh_0 collides with left_shin_0\n",
      "  -left_shin_0 collides with left_foot_link_0\n",
      "  -neck_0 collides with head_body_pitch_0\n",
      "  -head_body_pitch_0 collides with head_body_yaw_0\n",
      "  -head_body_yaw_0 collides with head_body_roll_0\n",
      "  -head_body_roll_0 collides with ear_left_0\n",
      "  -head_body_roll_0 collides with ear_right_0\n",
      "  -right_hip_rotation_0 collides with right_hip_0\n",
      "  -right_hip_0 collides with right_thigh_0\n",
      "  -right_thigh_0 collides with right_shin_0\n",
      "  -right_shin_0 collides with right_foot_link_0\n",
      "WARNING: Can't find head frames in the model, camera_look_at won't work\n"
     ]
    },
    {
     "name": "stdout",
     "output_type": "stream",
     "text": [
      "Placing the robot in the initial position...\n",
      "Initial position reached\n",
      "{'left_hip_yaw': -0.04698557882467102, 'left_hip_roll': -0.07705313755643177, 'left_hip_pitch': -0.011694935942325069, 'left_knee': 0.08853622760664163, 'left_ankle': -0.00342832807612626, 'neck_pitch': 0.0, 'head_pitch': 0.0, 'head_yaw': 0.0, 'head_roll': 0.0, 'left_antenna': 0.0, 'right_antenna': 0.0, 'right_hip_yaw': -0.053470643222330076, 'right_hip_roll': -0.014681260217830859, 'right_hip_pitch': -0.013911263115788436, 'right_knee': -0.16717212273305712, 'right_ankle': -0.04989886113874984}\n",
      "center_y_pos: -0.095\n",
      "recorded 600 frames\n",
      "avg lin_vel_x 0.3133\n",
      "avg lin_vel_y 0.0223\n",
      "avg yaw 0.0153\n",
      "DONE, saving forward_fast.json\n"
     ]
    },
    {
     "name": "stderr",
     "output_type": "stream",
     "text": [
      "<frozen importlib._bootstrap>:219: RuntimeWarning: to-Python converter for std::vector<std::__cxx11::basic_string<char, std::char_traits<char>, std::allocator<char> >, std::allocator<std::__cxx11::basic_string<char, std::char_traits<char>, std::allocator<char> > > > already registered; second conversion method ignored.\n",
      "<frozen importlib._bootstrap>:219: RuntimeWarning: to-Python converter for std::vector<double, std::allocator<double> > already registered; second conversion method ignored.\n",
      "<frozen importlib._bootstrap>:219: RuntimeWarning: to-Python converter for std::vector<int, std::allocator<int> > already registered; second conversion method ignored.\n"
     ]
    },
    {
     "name": "stdout",
     "output_type": "stream",
     "text": [
      "gait_parameters {'dx': -0.2, 'dy': 0.0, 'dtheta': 0.0, 'duration': 5, 'hardware': True, 'trunk_mode': True, 'double_support_ratio': 0.2, 'startend_double_support_ratio': 1.5, 'planned_timesteps': 48, 'replan_timesteps': 10, 'walk_com_height': 0.26, 'walk_foot_height': 0.025, 'walk_trunk_pitch': 6, 'walk_foot_rise_ratio': 0.1, 'single_support_duration': 0.25, 'single_support_timesteps': 10, 'foot_length': 0.16, 'feet_spacing': 0.19, 'zmp_margin': 0.0, 'foot_zmp_target_x': 0.0, 'foot_zmp_target_y': 0.0, 'walk_max_dtheta': 1.0, 'walk_max_dy': 0.1, 'walk_max_dx_forward': 0.1, 'walk_max_dx_backward': 0.1, 'joints': ['left_hip_yaw', 'left_hip_roll', 'left_hip_pitch', 'left_knee', 'left_ankle', 'neck_pitch', 'head_pitch', 'head_yaw', 'head_roll', 'left_antenna', 'right_antenna', 'right_hip_yaw', 'right_hip_roll', 'right_hip_pitch', 'right_knee', 'right_ankle'], 'joint_angles': {'head_pitch': 0, 'head_yaw': 0, 'head_roll': 0, 'neck_pitch': 0, 'left_antenna': 0, 'right_antenna': 0}}\n"
     ]
    },
    {
     "name": "stderr",
     "output_type": "stream",
     "text": [
      "WARNING: Robot has the following self collisions in neutral position:\n",
      "  -pelvis_0 collides with left_hip_rotation_0\n",
      "  -pelvis_0 collides with neck_0\n",
      "  -pelvis_0 collides with right_hip_rotation_0\n",
      "  -left_hip_rotation_0 collides with left_hip_0\n",
      "  -left_hip_0 collides with left_thigh_0\n",
      "  -left_thigh_0 collides with left_shin_0\n",
      "  -left_shin_0 collides with left_foot_link_0\n",
      "  -neck_0 collides with head_body_pitch_0\n",
      "  -head_body_pitch_0 collides with head_body_yaw_0\n",
      "  -head_body_yaw_0 collides with head_body_roll_0\n",
      "  -head_body_roll_0 collides with ear_left_0\n",
      "  -head_body_roll_0 collides with ear_right_0\n",
      "  -right_hip_rotation_0 collides with right_hip_0\n",
      "  -right_hip_0 collides with right_thigh_0\n",
      "  -right_thigh_0 collides with right_shin_0\n",
      "  -right_shin_0 collides with right_foot_link_0\n",
      "WARNING: Can't find head frames in the model, camera_look_at won't work\n"
     ]
    },
    {
     "name": "stdout",
     "output_type": "stream",
     "text": [
      "Placing the robot in the initial position...\n",
      "Initial position reached\n",
      "{'left_hip_yaw': -0.04698557882467102, 'left_hip_roll': -0.07705313755643177, 'left_hip_pitch': -0.011694935942324906, 'left_knee': 0.08853622760664176, 'left_ankle': -0.003428328076126292, 'neck_pitch': 0.0, 'head_pitch': 0.0, 'head_yaw': 0.0, 'head_roll': 0.0, 'left_antenna': 0.0, 'right_antenna': 0.0, 'right_hip_yaw': -0.053470643222330076, 'right_hip_roll': -0.014681260217830908, 'right_hip_pitch': -0.013911263115788086, 'right_knee': -0.16717212273305665, 'right_ankle': -0.04989886113874974}\n",
      "center_y_pos: -0.095\n",
      "recorded 600 frames\n",
      "avg lin_vel_x -0.3126\n",
      "avg lin_vel_y -0.0232\n",
      "avg yaw 0.0153\n",
      "DONE, saving backward_fast.json\n"
     ]
    },
    {
     "name": "stderr",
     "output_type": "stream",
     "text": [
      "<frozen importlib._bootstrap>:219: RuntimeWarning: to-Python converter for std::vector<std::__cxx11::basic_string<char, std::char_traits<char>, std::allocator<char> >, std::allocator<std::__cxx11::basic_string<char, std::char_traits<char>, std::allocator<char> > > > already registered; second conversion method ignored.\n",
      "<frozen importlib._bootstrap>:219: RuntimeWarning: to-Python converter for std::vector<double, std::allocator<double> > already registered; second conversion method ignored.\n",
      "<frozen importlib._bootstrap>:219: RuntimeWarning: to-Python converter for std::vector<int, std::allocator<int> > already registered; second conversion method ignored.\n"
     ]
    },
    {
     "name": "stdout",
     "output_type": "stream",
     "text": [
      "gait_parameters {'dx': 0.0, 'dy': 0.2, 'dtheta': 0.0, 'duration': 5, 'hardware': True, 'trunk_mode': True, 'double_support_ratio': 0.2, 'startend_double_support_ratio': 1.5, 'planned_timesteps': 48, 'replan_timesteps': 10, 'walk_com_height': 0.26, 'walk_foot_height': 0.025, 'walk_trunk_pitch': 6, 'walk_foot_rise_ratio': 0.1, 'single_support_duration': 0.25, 'single_support_timesteps': 10, 'foot_length': 0.16, 'feet_spacing': 0.19, 'zmp_margin': 0.0, 'foot_zmp_target_x': 0.0, 'foot_zmp_target_y': 0.0, 'walk_max_dtheta': 1.0, 'walk_max_dy': 0.1, 'walk_max_dx_forward': 0.1, 'walk_max_dx_backward': 0.1, 'joints': ['left_hip_yaw', 'left_hip_roll', 'left_hip_pitch', 'left_knee', 'left_ankle', 'neck_pitch', 'head_pitch', 'head_yaw', 'head_roll', 'left_antenna', 'right_antenna', 'right_hip_yaw', 'right_hip_roll', 'right_hip_pitch', 'right_knee', 'right_ankle'], 'joint_angles': {'head_pitch': 0, 'head_yaw': 0, 'head_roll': 0, 'neck_pitch': 0, 'left_antenna': 0, 'right_antenna': 0}}\n"
     ]
    },
    {
     "name": "stderr",
     "output_type": "stream",
     "text": [
      "WARNING: Robot has the following self collisions in neutral position:\n",
      "  -pelvis_0 collides with left_hip_rotation_0\n",
      "  -pelvis_0 collides with neck_0\n",
      "  -pelvis_0 collides with right_hip_rotation_0\n",
      "  -left_hip_rotation_0 collides with left_hip_0\n",
      "  -left_hip_0 collides with left_thigh_0\n",
      "  -left_thigh_0 collides with left_shin_0\n",
      "  -left_shin_0 collides with left_foot_link_0\n",
      "  -neck_0 collides with head_body_pitch_0\n",
      "  -head_body_pitch_0 collides with head_body_yaw_0\n",
      "  -head_body_yaw_0 collides with head_body_roll_0\n",
      "  -head_body_roll_0 collides with ear_left_0\n",
      "  -head_body_roll_0 collides with ear_right_0\n",
      "  -right_hip_rotation_0 collides with right_hip_0\n",
      "  -right_hip_0 collides with right_thigh_0\n",
      "  -right_thigh_0 collides with right_shin_0\n",
      "  -right_shin_0 collides with right_foot_link_0\n",
      "WARNING: Can't find head frames in the model, camera_look_at won't work\n"
     ]
    },
    {
     "name": "stdout",
     "output_type": "stream",
     "text": [
      "Placing the robot in the initial position...\n",
      "Initial position reached\n",
      "{'left_hip_yaw': -0.04698557882467102, 'left_hip_roll': -0.07705313755643177, 'left_hip_pitch': -0.011694935942324626, 'left_knee': 0.08853622760664231, 'left_ankle': -0.0034283280761260256, 'neck_pitch': 0.0, 'head_pitch': 0.0, 'head_yaw': 0.0, 'head_roll': 0.0, 'left_antenna': 0.0, 'right_antenna': 0.0, 'right_hip_yaw': -0.053470643222330076, 'right_hip_roll': -0.014681260217830908, 'right_hip_pitch': -0.013911263115788473, 'right_knee': -0.16717212273305715, 'right_ankle': -0.049898861138749834}\n",
      "center_y_pos: -0.095\n",
      "recorded 600 frames\n",
      "avg lin_vel_x -0.0149\n",
      "avg lin_vel_y 0.258\n",
      "avg yaw 0.0126\n",
      "DONE, saving left_fast.json\n"
     ]
    },
    {
     "name": "stderr",
     "output_type": "stream",
     "text": [
      "<frozen importlib._bootstrap>:219: RuntimeWarning: to-Python converter for std::vector<std::__cxx11::basic_string<char, std::char_traits<char>, std::allocator<char> >, std::allocator<std::__cxx11::basic_string<char, std::char_traits<char>, std::allocator<char> > > > already registered; second conversion method ignored.\n",
      "<frozen importlib._bootstrap>:219: RuntimeWarning: to-Python converter for std::vector<double, std::allocator<double> > already registered; second conversion method ignored.\n",
      "<frozen importlib._bootstrap>:219: RuntimeWarning: to-Python converter for std::vector<int, std::allocator<int> > already registered; second conversion method ignored.\n"
     ]
    },
    {
     "name": "stdout",
     "output_type": "stream",
     "text": [
      "gait_parameters {'dx': 0.0, 'dy': -0.2, 'dtheta': 0.0, 'duration': 5, 'hardware': True, 'trunk_mode': True, 'double_support_ratio': 0.2, 'startend_double_support_ratio': 1.5, 'planned_timesteps': 48, 'replan_timesteps': 10, 'walk_com_height': 0.26, 'walk_foot_height': 0.025, 'walk_trunk_pitch': 6, 'walk_foot_rise_ratio': 0.1, 'single_support_duration': 0.25, 'single_support_timesteps': 10, 'foot_length': 0.16, 'feet_spacing': 0.19, 'zmp_margin': 0.0, 'foot_zmp_target_x': 0.0, 'foot_zmp_target_y': 0.0, 'walk_max_dtheta': 1.0, 'walk_max_dy': 0.1, 'walk_max_dx_forward': 0.1, 'walk_max_dx_backward': 0.1, 'joints': ['left_hip_yaw', 'left_hip_roll', 'left_hip_pitch', 'left_knee', 'left_ankle', 'neck_pitch', 'head_pitch', 'head_yaw', 'head_roll', 'left_antenna', 'right_antenna', 'right_hip_yaw', 'right_hip_roll', 'right_hip_pitch', 'right_knee', 'right_ankle'], 'joint_angles': {'head_pitch': 0, 'head_yaw': 0, 'head_roll': 0, 'neck_pitch': 0, 'left_antenna': 0, 'right_antenna': 0}}\n"
     ]
    },
    {
     "name": "stderr",
     "output_type": "stream",
     "text": [
      "WARNING: Robot has the following self collisions in neutral position:\n",
      "  -pelvis_0 collides with left_hip_rotation_0\n",
      "  -pelvis_0 collides with neck_0\n",
      "  -pelvis_0 collides with right_hip_rotation_0\n",
      "  -left_hip_rotation_0 collides with left_hip_0\n",
      "  -left_hip_0 collides with left_thigh_0\n",
      "  -left_thigh_0 collides with left_shin_0\n",
      "  -left_shin_0 collides with left_foot_link_0\n",
      "  -neck_0 collides with head_body_pitch_0\n",
      "  -head_body_pitch_0 collides with head_body_yaw_0\n",
      "  -head_body_yaw_0 collides with head_body_roll_0\n",
      "  -head_body_roll_0 collides with ear_left_0\n",
      "  -head_body_roll_0 collides with ear_right_0\n",
      "  -right_hip_rotation_0 collides with right_hip_0\n",
      "  -right_hip_0 collides with right_thigh_0\n",
      "  -right_thigh_0 collides with right_shin_0\n",
      "  -right_shin_0 collides with right_foot_link_0\n",
      "WARNING: Can't find head frames in the model, camera_look_at won't work\n"
     ]
    },
    {
     "name": "stdout",
     "output_type": "stream",
     "text": [
      "Placing the robot in the initial position...\n",
      "Initial position reached\n",
      "{'left_hip_yaw': -0.04698557882467102, 'left_hip_roll': -0.07705313755643177, 'left_hip_pitch': -0.011694935942325069, 'left_knee': 0.08853622760664163, 'left_ankle': -0.00342832807612626, 'neck_pitch': 0.0, 'head_pitch': 0.0, 'head_yaw': 0.0, 'head_roll': 0.0, 'left_antenna': 0.0, 'right_antenna': 0.0, 'right_hip_yaw': -0.053470643222330076, 'right_hip_roll': -0.014681260217830859, 'right_hip_pitch': -0.013911263115788436, 'right_knee': -0.16717212273305712, 'right_ankle': -0.04989886113874984}\n",
      "center_y_pos: -0.095\n",
      "recorded 600 frames\n",
      "avg lin_vel_x 0.0158\n",
      "avg lin_vel_y -0.2608\n",
      "avg yaw 0.0126\n",
      "DONE, saving right_fast.json\n"
     ]
    },
    {
     "name": "stderr",
     "output_type": "stream",
     "text": [
      "<frozen importlib._bootstrap>:219: RuntimeWarning: to-Python converter for std::vector<std::__cxx11::basic_string<char, std::char_traits<char>, std::allocator<char> >, std::allocator<std::__cxx11::basic_string<char, std::char_traits<char>, std::allocator<char> > > > already registered; second conversion method ignored.\n",
      "<frozen importlib._bootstrap>:219: RuntimeWarning: to-Python converter for std::vector<double, std::allocator<double> > already registered; second conversion method ignored.\n",
      "<frozen importlib._bootstrap>:219: RuntimeWarning: to-Python converter for std::vector<int, std::allocator<int> > already registered; second conversion method ignored.\n"
     ]
    },
    {
     "name": "stdout",
     "output_type": "stream",
     "text": [
      "gait_parameters {'dx': 0.0, 'dy': 0.0, 'dtheta': 0.2, 'duration': 5, 'hardware': True, 'trunk_mode': True, 'double_support_ratio': 0.2, 'startend_double_support_ratio': 1.5, 'planned_timesteps': 48, 'replan_timesteps': 10, 'walk_com_height': 0.26, 'walk_foot_height': 0.025, 'walk_trunk_pitch': 6, 'walk_foot_rise_ratio': 0.1, 'single_support_duration': 0.25, 'single_support_timesteps': 10, 'foot_length': 0.16, 'feet_spacing': 0.19, 'zmp_margin': 0.0, 'foot_zmp_target_x': 0.0, 'foot_zmp_target_y': 0.0, 'walk_max_dtheta': 1.0, 'walk_max_dy': 0.1, 'walk_max_dx_forward': 0.1, 'walk_max_dx_backward': 0.1, 'joints': ['left_hip_yaw', 'left_hip_roll', 'left_hip_pitch', 'left_knee', 'left_ankle', 'neck_pitch', 'head_pitch', 'head_yaw', 'head_roll', 'left_antenna', 'right_antenna', 'right_hip_yaw', 'right_hip_roll', 'right_hip_pitch', 'right_knee', 'right_ankle'], 'joint_angles': {'head_pitch': 0, 'head_yaw': 0, 'head_roll': 0, 'neck_pitch': 0, 'left_antenna': 0, 'right_antenna': 0}}\n"
     ]
    },
    {
     "name": "stderr",
     "output_type": "stream",
     "text": [
      "WARNING: Robot has the following self collisions in neutral position:\n",
      "  -pelvis_0 collides with left_hip_rotation_0\n",
      "  -pelvis_0 collides with neck_0\n",
      "  -pelvis_0 collides with right_hip_rotation_0\n",
      "  -left_hip_rotation_0 collides with left_hip_0\n",
      "  -left_hip_0 collides with left_thigh_0\n",
      "  -left_thigh_0 collides with left_shin_0\n",
      "  -left_shin_0 collides with left_foot_link_0\n",
      "  -neck_0 collides with head_body_pitch_0\n",
      "  -head_body_pitch_0 collides with head_body_yaw_0\n",
      "  -head_body_yaw_0 collides with head_body_roll_0\n",
      "  -head_body_roll_0 collides with ear_left_0\n",
      "  -head_body_roll_0 collides with ear_right_0\n",
      "  -right_hip_rotation_0 collides with right_hip_0\n",
      "  -right_hip_0 collides with right_thigh_0\n",
      "  -right_thigh_0 collides with right_shin_0\n",
      "  -right_shin_0 collides with right_foot_link_0\n",
      "WARNING: Can't find head frames in the model, camera_look_at won't work\n"
     ]
    },
    {
     "name": "stdout",
     "output_type": "stream",
     "text": [
      "Placing the robot in the initial position...\n",
      "Initial position reached\n",
      "{'left_hip_yaw': -0.04698557882467102, 'left_hip_roll': -0.07705313755643177, 'left_hip_pitch': -0.011694935942324906, 'left_knee': 0.08853622760664176, 'left_ankle': -0.003428328076126292, 'neck_pitch': 0.0, 'head_pitch': 0.0, 'head_yaw': 0.0, 'head_roll': 0.0, 'left_antenna': 0.0, 'right_antenna': 0.0, 'right_hip_yaw': -0.053470643222330076, 'right_hip_roll': -0.014681260217830908, 'right_hip_pitch': -0.013911263115788086, 'right_knee': -0.16717212273305665, 'right_ankle': -0.04989886113874974}\n",
      "center_y_pos: -0.095\n",
      "recorded 600 frames\n",
      "avg lin_vel_x -0.0012\n",
      "avg lin_vel_y -0.0009\n",
      "avg yaw 0.0421\n",
      "DONE, saving ang_left_fast.json\n"
     ]
    },
    {
     "name": "stderr",
     "output_type": "stream",
     "text": [
      "<frozen importlib._bootstrap>:219: RuntimeWarning: to-Python converter for std::vector<std::__cxx11::basic_string<char, std::char_traits<char>, std::allocator<char> >, std::allocator<std::__cxx11::basic_string<char, std::char_traits<char>, std::allocator<char> > > > already registered; second conversion method ignored.\n",
      "<frozen importlib._bootstrap>:219: RuntimeWarning: to-Python converter for std::vector<double, std::allocator<double> > already registered; second conversion method ignored.\n",
      "<frozen importlib._bootstrap>:219: RuntimeWarning: to-Python converter for std::vector<int, std::allocator<int> > already registered; second conversion method ignored.\n"
     ]
    },
    {
     "name": "stdout",
     "output_type": "stream",
     "text": [
      "gait_parameters {'dx': 0.0, 'dy': 0.0, 'dtheta': -0.2, 'duration': 5, 'hardware': True, 'trunk_mode': True, 'double_support_ratio': 0.2, 'startend_double_support_ratio': 1.5, 'planned_timesteps': 48, 'replan_timesteps': 10, 'walk_com_height': 0.26, 'walk_foot_height': 0.025, 'walk_trunk_pitch': 6, 'walk_foot_rise_ratio': 0.1, 'single_support_duration': 0.25, 'single_support_timesteps': 10, 'foot_length': 0.16, 'feet_spacing': 0.19, 'zmp_margin': 0.0, 'foot_zmp_target_x': 0.0, 'foot_zmp_target_y': 0.0, 'walk_max_dtheta': 1.0, 'walk_max_dy': 0.1, 'walk_max_dx_forward': 0.1, 'walk_max_dx_backward': 0.1, 'joints': ['left_hip_yaw', 'left_hip_roll', 'left_hip_pitch', 'left_knee', 'left_ankle', 'neck_pitch', 'head_pitch', 'head_yaw', 'head_roll', 'left_antenna', 'right_antenna', 'right_hip_yaw', 'right_hip_roll', 'right_hip_pitch', 'right_knee', 'right_ankle'], 'joint_angles': {'head_pitch': 0, 'head_yaw': 0, 'head_roll': 0, 'neck_pitch': 0, 'left_antenna': 0, 'right_antenna': 0}}\n"
     ]
    },
    {
     "name": "stderr",
     "output_type": "stream",
     "text": [
      "WARNING: Robot has the following self collisions in neutral position:\n",
      "  -pelvis_0 collides with left_hip_rotation_0\n",
      "  -pelvis_0 collides with neck_0\n",
      "  -pelvis_0 collides with right_hip_rotation_0\n",
      "  -left_hip_rotation_0 collides with left_hip_0\n",
      "  -left_hip_0 collides with left_thigh_0\n",
      "  -left_thigh_0 collides with left_shin_0\n",
      "  -left_shin_0 collides with left_foot_link_0\n",
      "  -neck_0 collides with head_body_pitch_0\n",
      "  -head_body_pitch_0 collides with head_body_yaw_0\n",
      "  -head_body_yaw_0 collides with head_body_roll_0\n",
      "  -head_body_roll_0 collides with ear_left_0\n",
      "  -head_body_roll_0 collides with ear_right_0\n",
      "  -right_hip_rotation_0 collides with right_hip_0\n",
      "  -right_hip_0 collides with right_thigh_0\n",
      "  -right_thigh_0 collides with right_shin_0\n",
      "  -right_shin_0 collides with right_foot_link_0\n",
      "WARNING: Can't find head frames in the model, camera_look_at won't work\n"
     ]
    },
    {
     "name": "stdout",
     "output_type": "stream",
     "text": [
      "Placing the robot in the initial position...\n",
      "Initial position reached\n",
      "{'left_hip_yaw': -0.04698557882467102, 'left_hip_roll': -0.07705313755643177, 'left_hip_pitch': -0.011694935942324626, 'left_knee': 0.08853622760664231, 'left_ankle': -0.0034283280761260256, 'neck_pitch': 0.0, 'head_pitch': 0.0, 'head_yaw': 0.0, 'head_roll': 0.0, 'left_antenna': 0.0, 'right_antenna': 0.0, 'right_hip_yaw': -0.053470643222330076, 'right_hip_roll': -0.014681260217830908, 'right_hip_pitch': -0.013911263115788473, 'right_knee': -0.16717212273305715, 'right_ankle': -0.049898861138749834}\n",
      "center_y_pos: -0.095\n",
      "recorded 600 frames\n",
      "avg lin_vel_x 0.002\n",
      "avg lin_vel_y -0.0007\n",
      "avg yaw 0.019\n",
      "DONE, saving ang_right_fast.json\n"
     ]
    }
   ],
   "source": [
    "tmp_dir = os.path.join(presets_dir, \"tmp\")\n",
    "os.makedirs(tmp_dir, exist_ok=True)\n",
    "\n",
    "for gait_speed in gait_speeds:\n",
    "    gait_speed_val = gait_speeds[gait_speed]\n",
    "    \n",
    "    for gait_motion in gait_motions:\n",
    "        with open(os.path.join(presets_dir, f\"{gait_speed}.json\")) as file:\n",
    "            data = json.load(file)\n",
    "                \n",
    "        if gait_speed == \"slow\" and gait_motion == \"standing\":\n",
    "            pass\n",
    "        elif gait_motion == \"forward\":\n",
    "            data[\"dx\"] = gait_speed_val\n",
    "        elif gait_motion == \"backward\":\n",
    "            data[\"dx\"] = -gait_speed_val\n",
    "        elif gait_motion == \"left\":\n",
    "            data[\"dy\"] = gait_speed_val\n",
    "        elif gait_motion == \"right\":\n",
    "            data[\"dy\"] = -gait_speed_val\n",
    "        elif gait_motion == \"ang_left\":\n",
    "            data[\"dtheta\"] = gait_speed_val\n",
    "        elif gait_motion == \"ang_right\":\n",
    "            data[\"dtheta\"] = -gait_speed_val\n",
    "\n",
    "        tmp_preset = os.path.join(tmp_dir, \"preset.json\")\n",
    "        with open(tmp_preset, 'w') as file:\n",
    "            json.dump(data, file, indent=4)\n",
    "\n",
    "        subprocess.run(['python', \"gait_generator.py\", \"--preset\", f\"{tmp_preset}\", \"--name\", f\"{gait_motion}_{gait_speed}\"])"
   ]
  },
  {
   "cell_type": "code",
   "execution_count": null,
   "metadata": {},
   "outputs": [],
   "source": []
  }
 ],
 "metadata": {
  "kernelspec": {
   "display_name": "Python 3",
   "language": "python",
   "name": "python3"
  },
  "language_info": {
   "codemirror_mode": {
    "name": "ipython",
    "version": 3
   },
   "file_extension": ".py",
   "mimetype": "text/x-python",
   "name": "python",
   "nbconvert_exporter": "python",
   "pygments_lexer": "ipython3",
   "version": "3.8.10"
  }
 },
 "nbformat": 4,
 "nbformat_minor": 2
}
